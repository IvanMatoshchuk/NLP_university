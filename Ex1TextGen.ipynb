{
  "nbformat": 4,
  "nbformat_minor": 0,
  "metadata": {
    "colab": {
      "name": "Ex1TextGen",
      "provenance": []
    },
    "kernelspec": {
      "name": "python3",
      "display_name": "Python 3"
    },
    "language_info": {
      "name": "python"
    }
  },
  "cells": [
    {
      "cell_type": "code",
      "metadata": {
        "id": "u_zCm8o6T7Zu"
      },
      "source": [
        "import string\n",
        "import random\n",
        "import time\n",
        "from typing import List"
      ],
      "execution_count": 1,
      "outputs": []
    },
    {
      "cell_type": "code",
      "metadata": {
        "id": "eGB91mkDUGG-"
      },
      "source": [
        "def tokenize(text: str) -> List[str]:\n",
        "    \"\"\"\n",
        "    :param text: Takes input sentence\n",
        "    :return: tokenized sentence\n",
        "    \"\"\"\n",
        "    for punct in string.punctuation:\n",
        "        text = text.replace(punct, ' '+punct+' ')\n",
        "    t = text.split()\n",
        "    return t"
      ],
      "execution_count": 2,
      "outputs": []
    },
    {
      "cell_type": "code",
      "metadata": {
        "id": "3Zjp-7R1UPBA"
      },
      "source": [
        "def get_ngrams(n: int, tokens: list) -> list:\n",
        "    \"\"\"\n",
        "    :param n: n-gram size\n",
        "    :param tokens: tokenized sentence\n",
        "    :return: list of ngrams\n",
        "    ngrams of tuple form: ((previous wordS!), target word)\n",
        "    \"\"\"\n",
        "    # tokens.append('<END>')\n",
        "    tokens = (n-1)*['<START>']+tokens\n",
        "    l = [(tuple([tokens[i-p-1] for p in reversed(range(n-1))]), tokens[i]) for i in range(n-1, len(tokens))]\n",
        "    return l"
      ],
      "execution_count": 3,
      "outputs": []
    },
    {
      "cell_type": "code",
      "metadata": {
        "colab": {
          "base_uri": "https://localhost:8080/"
        },
        "id": "3H9NKUEQUxWv",
        "outputId": "1914ac4f-3872-4e20-9fb3-308e953ec1f0"
      },
      "source": [
        "class NgramModel(object):\n",
        "\n",
        "    def __init__(self, n):\n",
        "        self.n = n\n",
        "\n",
        "        # dictionary that keeps list of candidate words given context\n",
        "        self.context = {}\n",
        "\n",
        "        # keeps track of how many times ngram has appeared in the text before\n",
        "        self.ngram_counter = {}\n",
        "\n",
        "    def update(self, sentence: str) -> None:\n",
        "        \"\"\"\n",
        "        Updates Language Model\n",
        "        :param sentence: input text\n",
        "        \"\"\"\n",
        "        n = self.n\n",
        "        ngrams = get_ngrams(n, tokenize(sentence))\n",
        "        for ngram in ngrams:\n",
        "            if ngram in self.ngram_counter:\n",
        "                self.ngram_counter[ngram] += 1.0\n",
        "            else:\n",
        "                self.ngram_counter[ngram] = 1.0\n",
        "\n",
        "            prev_words, target_word = ngram\n",
        "            if prev_words in self.context:\n",
        "                self.context[prev_words].append(target_word)\n",
        "            else:\n",
        "                self.context[prev_words] = [target_word]\n",
        "\n",
        "    def prob(self, context, token):\n",
        "        \"\"\"\n",
        "        Calculates probability of a candidate token to be generated given a context\n",
        "        :return: conditional probability\n",
        "        \"\"\"\n",
        "        try:\n",
        "            count_of_token = self.ngram_counter[(context, token)]\n",
        "            count_of_context = float(len(self.context[context]))\n",
        "            result = count_of_token / count_of_context\n",
        "\n",
        "        except KeyError:\n",
        "            result = 0.0\n",
        "        return result\n",
        "\n",
        "    def random_token(self, context):\n",
        "        \"\"\"\n",
        "        Given a context we \"semi-randomly\" select the next word to append in a sequence\n",
        "        :param context:\n",
        "        :return:\n",
        "        \"\"\"\n",
        "        r = random.random()\n",
        "        map_to_probs = {}\n",
        "        token_of_interest = self.context[context]\n",
        "        for token in token_of_interest:\n",
        "            map_to_probs[token] = self.prob(context, token)\n",
        "\n",
        "        summ = 0\n",
        "        for token in sorted(map_to_probs):\n",
        "            summ += map_to_probs[token]\n",
        "            if summ > r:\n",
        "                return token\n",
        "\n",
        "    def generate_text(self, token_count: int):\n",
        "        \"\"\"\n",
        "        :param token_count: number of words to be produced\n",
        "        :return: generated text\n",
        "        \"\"\"\n",
        "        n = self.n\n",
        "        context_queue = (n - 1) * ['<START>']\n",
        "        result = []\n",
        "        for _ in range(token_count):\n",
        "            obj = self.random_token(tuple(context_queue))\n",
        "            result.append(obj)\n",
        "            if n > 1:\n",
        "                context_queue.pop(0)\n",
        "                if obj == '.':\n",
        "                    context_queue = (n - 1) * ['<START>']\n",
        "                else:\n",
        "                    context_queue.append(obj)\n",
        "        return ' '.join(result)\n",
        "\n",
        "\n",
        "def create_ngram_model(n, path):\n",
        "    m = NgramModel(n)\n",
        "    with open(path, 'r') as f:\n",
        "        text = f.read()\n",
        "        text = text.split('.')\n",
        "        for sentence in text:\n",
        "            # add back the fullstop\n",
        "            sentence += '.'\n",
        "            m.update(sentence)\n",
        "    return m\n",
        "\n",
        "\n",
        "\n",
        "if __name__ == \"__main__\":\n",
        "    start = time.time()\n",
        "    m = create_ngram_model(6, '01Genesis.txt')\n",
        "\n",
        "    print (f'Language Model creating time: {time.time() - start}')\n",
        "    start = time.time()\n",
        "    random.seed(7)\n",
        "    print(f'{\"=\"*50}\\nGenerated text:')\n",
        "    print(m.generate_text(20))\n",
        "    print(f'{\"=\"*50}')"
      ],
      "execution_count": 4,
      "outputs": [
        {
          "output_type": "stream",
          "text": [
            "Language Model creating time: 0.26215481758117676\n",
            "==================================================\n",
            "Generated text:\n",
            "29He gave them his last charge and said , ‘I shall soon be gathered to my father’s kin ; bury\n",
            "==================================================\n"
          ],
          "name": "stdout"
        }
      ]
    }
  ]
}