{
 "cells": [
  {
   "cell_type": "markdown",
   "id": "2f27e471",
   "metadata": {},
   "source": [
    "## Giveme5W1H"
   ]
  },
  {
   "cell_type": "markdown",
   "id": "c98bf9e5",
   "metadata": {},
   "source": [
    "start the Stanford CoreNLP Server: giveme5w1h-corenlp"
   ]
  },
  {
   "cell_type": "code",
   "execution_count": 1,
   "id": "f78770cc",
   "metadata": {},
   "outputs": [],
   "source": [
    "import geopy\n",
    "from geopy.geocoders import Nominatim\n",
    "geopy.geocoders.options.default_user_agent = \"Giveme5W1H\"\n",
    "from Giveme5W1H.extractor.document import Document\n",
    "from Giveme5W1H.extractor.extractor import MasterExtractor"
   ]
  },
  {
   "cell_type": "code",
   "execution_count": 2,
   "id": "f9e7f9a8",
   "metadata": {},
   "outputs": [],
   "source": [
    "def answers(text):\n",
    "    \n",
    "    extractor = MasterExtractor()\n",
    "    doc = Document.from_text(text)\n",
    "    doc = extractor.parse(doc)\n",
    "\n",
    "    questions = [\"who\", \"what\", \"when\", \"where\", \"why\", \"how\"]\n",
    "    \n",
    "    for question in questions:\n",
    "        try:\n",
    "            answer = doc.get_top_answer(question).get_parts_as_text()\n",
    "            print(question + \": \" + answer)\n",
    "        except IndexError:\n",
    "            print(\"An answer for \" + question + \" doesn't exist for this piece of text\")\n",
    "            continue"
   ]
  },
  {
   "cell_type": "markdown",
   "id": "afeb1f85",
   "metadata": {},
   "source": [
    "## Task 1: Answering 6 questions"
   ]
  },
  {
   "cell_type": "markdown",
   "id": "30268058",
   "metadata": {},
   "source": [
    "### Sentence Level"
   ]
  },
  {
   "cell_type": "code",
   "execution_count": 3,
   "id": "8a5dd318",
   "metadata": {},
   "outputs": [],
   "source": [
    "sentence1 = \"Just at that moment two police officers in full uniform came in through the gate.\""
   ]
  },
  {
   "cell_type": "code",
   "execution_count": 4,
   "id": "5b206bb5",
   "metadata": {},
   "outputs": [
    {
     "name": "stdout",
     "output_type": "stream",
     "text": [
      "An answer for who doesn't exist for this piece of text\n",
      "An answer for what doesn't exist for this piece of text\n",
      "An answer for when doesn't exist for this piece of text\n",
      "An answer for where doesn't exist for this piece of text\n",
      "An answer for why doesn't exist for this piece of text\n",
      "how: in full uniform came in through the gate .\n"
     ]
    }
   ],
   "source": [
    "answers(sentence1)"
   ]
  },
  {
   "cell_type": "code",
   "execution_count": 5,
   "id": "d1ba794e",
   "metadata": {},
   "outputs": [],
   "source": [
    "sentence2 = \"So Pippi took her can in one hand and her spool in the other and went away, followed by Tommy and Annika.\""
   ]
  },
  {
   "cell_type": "code",
   "execution_count": 6,
   "id": "278c263f",
   "metadata": {},
   "outputs": [
    {
     "name": "stdout",
     "output_type": "stream",
     "text": [
      "who: Pippi\n",
      "what: took her and went away , followed by Tommy and Annika\n",
      "An answer for when doesn't exist for this piece of text\n",
      "An answer for where doesn't exist for this piece of text\n",
      "why: her\n",
      "how: went away , followed by Tommy and Annika .\n"
     ]
    }
   ],
   "source": [
    "answers(sentence2)"
   ]
  },
  {
   "cell_type": "markdown",
   "id": "e071a4da",
   "metadata": {},
   "source": [
    "### Chapter Level"
   ]
  },
  {
   "cell_type": "code",
   "execution_count": 7,
   "id": "5ff9943f",
   "metadata": {},
   "outputs": [],
   "source": [
    "with open('01villa.txt', 'r') as file:\n",
    "    chapter1 = file.read().replace('\\n', '')"
   ]
  },
  {
   "cell_type": "code",
   "execution_count": 8,
   "id": "df8692e1",
   "metadata": {},
   "outputs": [
    {
     "name": "stdout",
     "output_type": "stream",
     "text": [
      "who: Pippi\n",
      "what: was nine years\n",
      "An answer for when doesn't exist for this piece of text\n",
      "where: Egypt\n",
      "why: because there was no one to tell her to go to bed just when she was having the most fun , and no one who could make her take cod liver oil when she much preferred caramel candy.Once upon a time Pippi had had a father of whom she was extremely fond .\n",
      "how: a tiny little town was an old overgrown garden ,\n"
     ]
    }
   ],
   "source": [
    "answers(chapter1)"
   ]
  },
  {
   "cell_type": "code",
   "execution_count": 9,
   "id": "39f7ea55",
   "metadata": {},
   "outputs": [],
   "source": [
    "with open('02thing.txt', 'r') as file:\n",
    "    chapter2 = file.read().replace('\\n', '')"
   ]
  },
  {
   "cell_type": "code",
   "execution_count": 10,
   "id": "390a7546",
   "metadata": {},
   "outputs": [
    {
     "name": "stdout",
     "output_type": "stream",
     "text": [
      "who: Annika.That morning Pippi\n",
      "what: was busy making pepparkakor\n",
      "An answer for when doesn't exist for this piece of text\n",
      "where: Pippi\n",
      "why: Because , \" said Pippi to her little monkey , \" what earthly use is a baking board when one plans to make at least five hundred cookies ?\n",
      "how: her little monkey , \" what earthly use is a\n"
     ]
    }
   ],
   "source": [
    "answers(chapter2)"
   ]
  },
  {
   "cell_type": "code",
   "execution_count": 2,
   "id": "17e64db6",
   "metadata": {},
   "outputs": [],
   "source": [
    "with open('03police.txt', 'r') as file:\n",
    "    chapter3 = file.read().replace('\\n', '')"
   ]
  },
  {
   "cell_type": "code",
   "execution_count": 12,
   "id": "862207b2",
   "metadata": {},
   "outputs": [
    {
     "name": "stdout",
     "output_type": "stream",
     "text": [
      "who: Pippi\n",
      "what: could reach.Just at that moment two police officers\n",
      "An answer for when doesn't exist for this piece of text\n",
      "where: Portugal\n",
      "why: because she wanted to have a little fun with the policemen , but they did n't think it was funny at all.They said she should n't be such a smarty .\n",
      "how: It soon became known throughout the little town that a\n"
     ]
    }
   ],
   "source": [
    "answers(chapter3)"
   ]
  },
  {
   "cell_type": "markdown",
   "id": "37c3ad4a",
   "metadata": {},
   "source": [
    "## Task 2: Counting Events"
   ]
  },
  {
   "cell_type": "code",
   "execution_count": 4,
   "id": "752f272d",
   "metadata": {},
   "outputs": [],
   "source": [
    "import nltk\n",
    "from nltk import sent_tokenize\n",
    "\n",
    "chapter3_sents = sent_tokenize(chapter3)"
   ]
  },
  {
   "cell_type": "code",
   "execution_count": 5,
   "id": "1d11159f",
   "metadata": {},
   "outputs": [
    {
     "name": "stdout",
     "output_type": "stream",
     "text": [
      "1 a nine-year-old girl was living all\n",
      "2 All children must have someone\n",
      "3 Mr. Nilsson climbed around on the porch railing\n",
      "4 Pippi could reach.Just at that moment two police officers\n",
      "5 She wanted to have a little fun\n",
      "6 her to get into a children 's\n",
      "7 Pippi have a place\n",
      "8 I am a child\n",
      "9 policeman do n't understand\n",
      "10 You must get into a real children 's and have someone look\n",
      "11 you 'll have to get kids\n",
      "12 you must go to school\n",
      "13 I have got along fine without any pluttifikation tables\n",
      "14 you grow up\n",
      "15 Pippi can answer all\n",
      "16 you would be sorry not to know it\n",
      "17 she continued , bending over and standing on her hands for a change\n",
      "18 she added\n",
      "19 Pippi freed herself\n",
      "20 The policemen could n't quite see themselves\n",
      "21 She climbed up the shingles almost as if she\n",
      "22 the policemen had stood there a while\n",
      "23 They looked a little scared when they and , carefully balancing themselves went step\n",
      "24 she cried and jumped right down into the green crown , caught hold , swung back and forth a while\n",
      "25 the ladder.The policemen had looked a little when Pippi\n",
      "26 they were very angry at Pippi\n",
      "27 We 're just playing tag\n",
      "28 The policemen thought a while\n",
      "29 Pippi 'll get it\n",
      "30 them were ready to get up again\n",
      "31 It does n't matter that they\n",
      "32 They did n't tell that they\n",
      "33 Pippi remain in Villa Villekulla\n",
      "34 They went back to their interrupted coffee party\n",
      "35 Pippi stuffed herself with fourteen cookies , and then she , \" They\n",
      "36 she saw what fun Tommy\n",
      "37 Tommy and Annika had gone to bed\n"
     ]
    }
   ],
   "source": [
    "events = 0\n",
    "for sentence in chapter3_sents:\n",
    "    try:\n",
    "        extractor = MasterExtractor()\n",
    "        doc = Document.from_text(sentence)\n",
    "        doc = extractor.parse(doc)\n",
    "        answer_who = doc.get_top_answer(\"who\").get_parts_as_text()\n",
    "        answer_what = doc.get_top_answer(\"what\").get_parts_as_text()\n",
    "    except IndexError:\n",
    "        continue\n",
    "    if answer_who and answer_what:\n",
    "        events += 1\n",
    "        print(events, answer_who, answer_what)"
   ]
  }
 ],
 "metadata": {
  "kernelspec": {
   "display_name": "Python 3",
   "language": "python",
   "name": "python3"
  },
  "language_info": {
   "codemirror_mode": {
    "name": "ipython",
    "version": 3
   },
   "file_extension": ".py",
   "mimetype": "text/x-python",
   "name": "python",
   "nbconvert_exporter": "python",
   "pygments_lexer": "ipython3",
   "version": "3.8.8"
  }
 },
 "nbformat": 4,
 "nbformat_minor": 5
}
