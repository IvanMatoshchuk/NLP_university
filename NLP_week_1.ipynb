{
  "nbformat": 4,
  "nbformat_minor": 0,
  "metadata": {
    "colab": {
      "name": "NLP week 1.ipynb",
      "provenance": []
    },
    "kernelspec": {
      "display_name": "Python 3",
      "name": "python3"
    },
    "language_info": {
      "name": "python"
    }
  },
  "cells": [
    {
      "cell_type": "markdown",
      "metadata": {
        "id": "m60H7h9hBIGB"
      },
      "source": [
        "# New section"
      ]
    },
    {
      "cell_type": "code",
      "metadata": {
        "id": "q4lz60W4Vi4d"
      },
      "source": [
        "import nltk"
      ],
      "execution_count": null,
      "outputs": []
    },
    {
      "cell_type": "code",
      "metadata": {
        "colab": {
          "base_uri": "https://localhost:8080/"
        },
        "id": "z_qtKVS1XWs1",
        "outputId": "103eb369-597d-413f-a245-1338e9daf5e2"
      },
      "source": [
        "nltk.download('gutenberg')"
      ],
      "execution_count": null,
      "outputs": [
        {
          "output_type": "stream",
          "text": [
            "[nltk_data] Downloading package gutenberg to /root/nltk_data...\n",
            "[nltk_data]   Unzipping corpora/gutenberg.zip.\n"
          ],
          "name": "stdout"
        },
        {
          "output_type": "execute_result",
          "data": {
            "text/plain": [
              "True"
            ]
          },
          "metadata": {
            "tags": []
          },
          "execution_count": 2
        }
      ]
    },
    {
      "cell_type": "code",
      "metadata": {
        "colab": {
          "base_uri": "https://localhost:8080/"
        },
        "id": "BFmqJs2UXbAE",
        "outputId": "b956c7e7-555e-4401-cd73-f39e588007ca"
      },
      "source": [
        "nltk.download('genesis')"
      ],
      "execution_count": null,
      "outputs": [
        {
          "output_type": "stream",
          "text": [
            "[nltk_data] Downloading package genesis to /root/nltk_data...\n",
            "[nltk_data]   Unzipping corpora/genesis.zip.\n"
          ],
          "name": "stdout"
        },
        {
          "output_type": "execute_result",
          "data": {
            "text/plain": [
              "True"
            ]
          },
          "metadata": {
            "tags": []
          },
          "execution_count": 3
        }
      ]
    },
    {
      "cell_type": "code",
      "metadata": {
        "colab": {
          "base_uri": "https://localhost:8080/"
        },
        "id": "WBbULyQlXeKi",
        "outputId": "24777642-afe1-4a95-c9e2-717852fdb3f1"
      },
      "source": [
        "nltk.download('inaugural')"
      ],
      "execution_count": null,
      "outputs": [
        {
          "output_type": "stream",
          "text": [
            "[nltk_data] Downloading package inaugural to /root/nltk_data...\n",
            "[nltk_data]   Unzipping corpora/inaugural.zip.\n"
          ],
          "name": "stdout"
        },
        {
          "output_type": "execute_result",
          "data": {
            "text/plain": [
              "True"
            ]
          },
          "metadata": {
            "tags": []
          },
          "execution_count": 4
        }
      ]
    },
    {
      "cell_type": "code",
      "metadata": {
        "colab": {
          "base_uri": "https://localhost:8080/"
        },
        "id": "5GXIml0BXkE5",
        "outputId": "74a38e47-f2ed-4b3b-9e55-87ed8a2b8e1a"
      },
      "source": [
        "nltk.download('nps_chat')"
      ],
      "execution_count": null,
      "outputs": [
        {
          "output_type": "stream",
          "text": [
            "[nltk_data] Downloading package nps_chat to /root/nltk_data...\n",
            "[nltk_data]   Unzipping corpora/nps_chat.zip.\n"
          ],
          "name": "stdout"
        },
        {
          "output_type": "execute_result",
          "data": {
            "text/plain": [
              "True"
            ]
          },
          "metadata": {
            "tags": []
          },
          "execution_count": 5
        }
      ]
    },
    {
      "cell_type": "code",
      "metadata": {
        "colab": {
          "base_uri": "https://localhost:8080/"
        },
        "id": "vfwSwp2qZ0-k",
        "outputId": "c44b370f-f2ea-4d73-829e-76821c415095"
      },
      "source": [
        "nltk.download('webtext')"
      ],
      "execution_count": null,
      "outputs": [
        {
          "output_type": "stream",
          "text": [
            "[nltk_data] Downloading package webtext to /root/nltk_data...\n",
            "[nltk_data]   Unzipping corpora/webtext.zip.\n"
          ],
          "name": "stdout"
        },
        {
          "output_type": "execute_result",
          "data": {
            "text/plain": [
              "True"
            ]
          },
          "metadata": {
            "tags": []
          },
          "execution_count": 6
        }
      ]
    },
    {
      "cell_type": "code",
      "metadata": {
        "colab": {
          "base_uri": "https://localhost:8080/"
        },
        "id": "7PfmYplNaGNq",
        "outputId": "16f8da77-be1d-43d0-893a-1cea60f772de"
      },
      "source": [
        "nltk.download('treebank')"
      ],
      "execution_count": null,
      "outputs": [
        {
          "output_type": "stream",
          "text": [
            "[nltk_data] Downloading package treebank to /root/nltk_data...\n",
            "[nltk_data]   Unzipping corpora/treebank.zip.\n"
          ],
          "name": "stdout"
        },
        {
          "output_type": "execute_result",
          "data": {
            "text/plain": [
              "True"
            ]
          },
          "metadata": {
            "tags": []
          },
          "execution_count": 7
        }
      ]
    },
    {
      "cell_type": "code",
      "metadata": {
        "colab": {
          "base_uri": "https://localhost:8080/"
        },
        "id": "gjV_hmXtXMv5",
        "outputId": "e7f9fcd3-4d29-441a-afe8-8424bd1c618a"
      },
      "source": [
        "from nltk.book import *"
      ],
      "execution_count": null,
      "outputs": [
        {
          "output_type": "stream",
          "text": [
            "*** Introductory Examples for the NLTK Book ***\n",
            "Loading text1, ..., text9 and sent1, ..., sent9\n",
            "Type the name of the text or sentence to view it.\n",
            "Type: 'texts()' or 'sents()' to list the materials.\n",
            "text1: Moby Dick by Herman Melville 1851\n",
            "text2: Sense and Sensibility by Jane Austen 1811\n",
            "text3: The Book of Genesis\n",
            "text4: Inaugural Address Corpus\n",
            "text5: Chat Corpus\n",
            "text6: Monty Python and the Holy Grail\n",
            "text7: Wall Street Journal\n",
            "text8: Personals Corpus\n",
            "text9: The Man Who Was Thursday by G . K . Chesterton 1908\n"
          ],
          "name": "stdout"
        }
      ]
    },
    {
      "cell_type": "code",
      "metadata": {
        "colab": {
          "base_uri": "https://localhost:8080/"
        },
        "id": "TInO1Ri8aPH1",
        "outputId": "192e3283-0051-4f92-bb7a-a4720e4d549d"
      },
      "source": [
        "text1"
      ],
      "execution_count": null,
      "outputs": [
        {
          "output_type": "execute_result",
          "data": {
            "text/plain": [
              "<Text: Moby Dick by Herman Melville 1851>"
            ]
          },
          "metadata": {
            "tags": []
          },
          "execution_count": 9
        }
      ]
    },
    {
      "cell_type": "code",
      "metadata": {
        "colab": {
          "base_uri": "https://localhost:8080/"
        },
        "id": "1pY_sPFHaUKS",
        "outputId": "d25f83b5-4c38-44c7-bea9-0b38fca3ade1"
      },
      "source": [
        "text1.concordance(\"monstrous\")"
      ],
      "execution_count": null,
      "outputs": [
        {
          "output_type": "stream",
          "text": [
            "Displaying 11 of 11 matches:\n",
            "ong the former , one was of a most monstrous size . ... This came towards us , \n",
            "ON OF THE PSALMS . \" Touching that monstrous bulk of the whale or ork we have r\n",
            "ll over with a heathenish array of monstrous clubs and spears . Some were thick\n",
            "d as you gazed , and wondered what monstrous cannibal and savage could ever hav\n",
            "that has survived the flood ; most monstrous and most mountainous ! That Himmal\n",
            "they might scout at Moby Dick as a monstrous fable , or still worse and more de\n",
            "th of Radney .'\" CHAPTER 55 Of the Monstrous Pictures of Whales . I shall ere l\n",
            "ing Scenes . In connexion with the monstrous pictures of whales , I am strongly\n",
            "ere to enter upon those still more monstrous stories of them which are to be fo\n",
            "ght have been rummaged out of this monstrous cabinet there is no telling . But \n",
            "of Whale - Bones ; for Whales of a monstrous size are oftentimes cast up dead u\n"
          ],
          "name": "stdout"
        }
      ]
    },
    {
      "cell_type": "code",
      "metadata": {
        "colab": {
          "base_uri": "https://localhost:8080/"
        },
        "id": "qp0lzC3HaXf1",
        "outputId": "558f3132-f245-4114-9c00-8f58f3f06b99"
      },
      "source": [
        "text1.similar(\"monstrous\")"
      ],
      "execution_count": null,
      "outputs": [
        {
          "output_type": "stream",
          "text": [
            "true contemptible christian abundant few part mean careful puzzled\n",
            "mystifying passing curious loving wise doleful gamesome singular\n",
            "delightfully perilous fearless\n"
          ],
          "name": "stdout"
        }
      ]
    },
    {
      "cell_type": "code",
      "metadata": {
        "colab": {
          "base_uri": "https://localhost:8080/"
        },
        "id": "ECiu4qPbafDy",
        "outputId": "72994879-090d-452c-a91f-a09159ef30dd"
      },
      "source": [
        "text2.common_contexts([\"monstrous\", \"very\"])\n",
        "\n",
        "#examine just the contexts that are shared by two or more words, such as monstrous and very"
      ],
      "execution_count": null,
      "outputs": [
        {
          "output_type": "stream",
          "text": [
            "a_pretty am_glad a_lucky is_pretty be_glad\n"
          ],
          "name": "stdout"
        }
      ]
    },
    {
      "cell_type": "code",
      "metadata": {
        "colab": {
          "base_uri": "https://localhost:8080/"
        },
        "id": "J83j-rt5ajFA",
        "outputId": "7dc09382-994b-4365-b2aa-67c930547149"
      },
      "source": [
        "text4.dispersion_plot([\"citizens\", \"democracy\", \"freedom\", \"duties\", \"America\"])\n",
        "\n",
        "#determines the location of a word in the text"
      ],
      "execution_count": null,
      "outputs": [
        {
          "output_type": "display_data",
          "data": {
            "image/png": "[encoded data removed]",
            "text/plain": [
              "<Figure size 432x288 with 1 Axes>"
            ]
          },
          "metadata": {
            "tags": []
          }
        }
      ]
    },
    {
      "cell_type": "code",
      "metadata": {
        "id": "1ey36Yt8ajxs"
      },
      "source": [
        "# text3.generate() #generate random texts"
      ],
      "execution_count": null,
      "outputs": []
    },
    {
      "cell_type": "markdown",
      "metadata": {
        "id": "gS4incE51Y9P"
      },
      "source": [
        "# NLTK"
      ]
    },
    {
      "cell_type": "markdown",
      "metadata": {
        "id": "IjHjXW5ai8qQ"
      },
      "source": [
        "# Tokenization"
      ]
    },
    {
      "cell_type": "code",
      "metadata": {
        "id": "R86TYPS3jjHy"
      },
      "source": [
        "from nltk import word_tokenize\n",
        "from nltk import sent_tokenize"
      ],
      "execution_count": null,
      "outputs": []
    },
    {
      "cell_type": "code",
      "metadata": {
        "colab": {
          "base_uri": "https://localhost:8080/"
        },
        "id": "3Zx1suDBjmqZ",
        "outputId": "2aad08f0-2a5b-4abc-dab9-65d4ef7bce7c"
      },
      "source": [
        "nltk.download('punkt')"
      ],
      "execution_count": null,
      "outputs": [
        {
          "output_type": "stream",
          "text": [
            "[nltk_data] Downloading package punkt to /root/nltk_data...\n",
            "[nltk_data]   Unzipping tokenizers/punkt.zip.\n"
          ],
          "name": "stdout"
        },
        {
          "output_type": "execute_result",
          "data": {
            "text/plain": [
              "True"
            ]
          },
          "metadata": {
            "tags": []
          },
          "execution_count": 16
        }
      ]
    },
    {
      "cell_type": "code",
      "metadata": {
        "id": "FgoFDmKqjAhR"
      },
      "source": [
        "en = \"/content/Harry_en.txt\"\n",
        "de = \"/content/Harry_de.txt\""
      ],
      "execution_count": null,
      "outputs": []
    },
    {
      "cell_type": "code",
      "metadata": {
        "id": "g3BJqDoykRw8"
      },
      "source": [
        "en_content = open(en).read()\n",
        "de_content = open(de).read()"
      ],
      "execution_count": null,
      "outputs": []
    },
    {
      "cell_type": "code",
      "metadata": {
        "id": "igjVponMjU23"
      },
      "source": [
        "wordtokens_en = word_tokenize(en_content)\n",
        "wordtokens_de = word_tokenize(de_content)"
      ],
      "execution_count": null,
      "outputs": []
    },
    {
      "cell_type": "code",
      "metadata": {
        "id": "nae_KK5ePEXo"
      },
      "source": [
        "wordtokens_en"
      ],
      "execution_count": null,
      "outputs": []
    },
    {
      "cell_type": "code",
      "metadata": {
        "id": "NrSb6rLFjT_1"
      },
      "source": [
        "senttokens_en = sent_tokenize(en_content)\n",
        "senttokens_de = sent_tokenize(de_content)"
      ],
      "execution_count": null,
      "outputs": []
    },
    {
      "cell_type": "code",
      "metadata": {
        "id": "leF3_1oJPe-O"
      },
      "source": [
        "senttokens_en"
      ],
      "execution_count": null,
      "outputs": []
    },
    {
      "cell_type": "markdown",
      "metadata": {
        "id": "KuclmOrlk0R3"
      },
      "source": [
        "# POS TAGGING"
      ]
    },
    {
      "cell_type": "markdown",
      "metadata": {
        "id": "x3YJOrlBlBVY"
      },
      "source": [
        "POS Tagging (Parts of Speech Tagging) is a process to mark up the words in text format for a particular part of a speech based on its definition and context. It is responsible for text reading in a language and assigning some specific token (Parts of Speech) to each word. It is also called grammatical tagging.\n",
        "Some NLTK POS tagging examples are: CC, CD, EX, JJ, MD, NNP, PDT, PRP$, TO, etc."
      ]
    },
    {
      "cell_type": "code",
      "metadata": {
        "colab": {
          "base_uri": "https://localhost:8080/"
        },
        "id": "nTyJnhNLk4pV",
        "outputId": "bc62ddc5-2eb3-4dc9-f266-9f31e26d30cb"
      },
      "source": [
        "from nltk import pos_tag\n",
        "nltk.download('averaged_perceptron_tagger')"
      ],
      "execution_count": null,
      "outputs": [
        {
          "output_type": "stream",
          "text": [
            "[nltk_data] Downloading package averaged_perceptron_tagger to\n",
            "[nltk_data]     /root/nltk_data...\n",
            "[nltk_data]   Unzipping taggers/averaged_perceptron_tagger.zip.\n"
          ],
          "name": "stdout"
        },
        {
          "output_type": "execute_result",
          "data": {
            "text/plain": [
              "True"
            ]
          },
          "metadata": {
            "tags": []
          },
          "execution_count": 25
        }
      ]
    },
    {
      "cell_type": "code",
      "metadata": {
        "id": "lEHlCPJYlcza"
      },
      "source": [
        "en_post_tag = pos_tag(wordtokens_en)\n"
      ],
      "execution_count": null,
      "outputs": []
    },
    {
      "cell_type": "code",
      "metadata": {
        "colab": {
          "base_uri": "https://localhost:8080/"
        },
        "id": "eftvriF-lrWz",
        "outputId": "5d4da156-1d2b-4157-abed-0312495681a9"
      },
      "source": [
        "en_post_tag[:185]"
      ],
      "execution_count": null,
      "outputs": [
        {
          "output_type": "execute_result",
          "data": {
            "text/plain": [
              "[('``', '``'),\n",
              " ('The', 'DT'),\n",
              " ('bang', 'NN'),\n",
              " ('was', 'VBD'),\n",
              " ('like', 'IN'),\n",
              " ('a', 'DT'),\n",
              " ('cannon', 'NN'),\n",
              " ('blast', 'NN'),\n",
              " (',', ','),\n",
              " ('and', 'CC'),\n",
              " ('the', 'DT'),\n",
              " ('golden', 'JJ'),\n",
              " ('flames', 'NNS'),\n",
              " ('that', 'WDT'),\n",
              " ('erupted', 'VBD'),\n",
              " ('between', 'IN'),\n",
              " ('them', 'PRP'),\n",
              " (',', ','),\n",
              " ('at', 'IN'),\n",
              " ('the', 'DT'),\n",
              " ('dead', 'JJ'),\n",
              " ('center', 'NN'),\n",
              " ('of', 'IN'),\n",
              " ('the', 'DT'),\n",
              " ('circle', 'NN'),\n",
              " ('they', 'PRP'),\n",
              " ('had', 'VBD'),\n",
              " ('been', 'VBN'),\n",
              " ('treading', 'VBG'),\n",
              " (',', ','),\n",
              " ('marked', 'VBD'),\n",
              " ('the', 'DT'),\n",
              " ('point', 'NN'),\n",
              " ('where', 'WRB'),\n",
              " ('the', 'DT'),\n",
              " ('spells', 'NNS'),\n",
              " ('collided', 'VBD'),\n",
              " ('.', '.'),\n",
              " ('``', '``'),\n",
              " (',', ','),\n",
              " (\"''\", \"''\"),\n",
              " ('Harry', 'NNP'),\n",
              " ('saw', 'VBD'),\n",
              " ('Voldemort', 'NNP'),\n",
              " ('’', 'NNP'),\n",
              " ('s', 'VBD'),\n",
              " ('green', 'JJ'),\n",
              " ('jet', 'NN'),\n",
              " ('meet', 'VB'),\n",
              " ('his', 'PRP$'),\n",
              " ('own', 'JJ'),\n",
              " ('spell', 'NN'),\n",
              " (',', ','),\n",
              " ('saw', 'VBD'),\n",
              " ('the', 'DT'),\n",
              " ('Elder', 'NNP'),\n",
              " ('Wand', 'NNP'),\n",
              " ('fly', 'RB'),\n",
              " ('high', 'JJ'),\n",
              " (',', ','),\n",
              " ('dark', 'JJ'),\n",
              " ('against', 'IN'),\n",
              " ('the', 'DT'),\n",
              " ('sunrise', 'NN'),\n",
              " (',', ','),\n",
              " ('spinning', 'VBG'),\n",
              " ('across', 'IN'),\n",
              " ('the', 'DT'),\n",
              " ('enchanted', 'JJ'),\n",
              " ('ceiling', 'NN'),\n",
              " ('like', 'IN'),\n",
              " ('the', 'DT'),\n",
              " ('head', 'NN'),\n",
              " ('of', 'IN'),\n",
              " ('Nagini', 'NNP'),\n",
              " (',', ','),\n",
              " ('spinning', 'VBG'),\n",
              " ('through', 'IN'),\n",
              " ('the', 'DT'),\n",
              " ('air', 'NN'),\n",
              " ('toward', 'IN'),\n",
              " ('the', 'DT'),\n",
              " ('master', 'NN'),\n",
              " ('it', 'PRP'),\n",
              " ('would', 'MD'),\n",
              " ('not', 'RB'),\n",
              " ('kill', 'VB'),\n",
              " (',', ','),\n",
              " ('who', 'WP'),\n",
              " ('had', 'VBD'),\n",
              " ('come', 'VBN'),\n",
              " ('to', 'TO'),\n",
              " ('take', 'VB'),\n",
              " ('full', 'JJ'),\n",
              " ('possession', 'NN'),\n",
              " ('of', 'IN'),\n",
              " ('it', 'PRP'),\n",
              " ('at', 'IN'),\n",
              " ('last', 'JJ'),\n",
              " ('.', '.'),\n",
              " ('``', '``'),\n",
              " (',', ','),\n",
              " (\"''\", \"''\"),\n",
              " ('And', 'CC'),\n",
              " ('Harry', 'NNP'),\n",
              " (',', ','),\n",
              " ('with', 'IN'),\n",
              " ('the', 'DT'),\n",
              " ('unerring', 'JJ'),\n",
              " ('skill', 'NN'),\n",
              " ('of', 'IN'),\n",
              " ('the', 'DT'),\n",
              " ('Seeker', 'NNP'),\n",
              " (',', ','),\n",
              " ('caught', 'VBD'),\n",
              " ('the', 'DT'),\n",
              " ('wand', 'NN'),\n",
              " ('in', 'IN'),\n",
              " ('his', 'PRP$'),\n",
              " ('free', 'JJ'),\n",
              " ('hand', 'NN'),\n",
              " ('as', 'IN'),\n",
              " ('Voldemort', 'NNP'),\n",
              " ('fell', 'VBD'),\n",
              " ('backward', 'RB'),\n",
              " (',', ','),\n",
              " ('arms', 'NNS'),\n",
              " ('splayed', 'VBD'),\n",
              " (',', ','),\n",
              " ('the', 'DT'),\n",
              " ('slit', 'NN'),\n",
              " ('pupils', 'NNS'),\n",
              " ('of', 'IN'),\n",
              " ('the', 'DT'),\n",
              " ('scarlet', 'NN'),\n",
              " ('eyes', 'NNS'),\n",
              " ('rolling', 'VBG'),\n",
              " ('upward', 'RB'),\n",
              " ('.', '.'),\n",
              " ('``', '``'),\n",
              " (',', ','),\n",
              " (\"''\", \"''\"),\n",
              " ('Tom', 'NNP'),\n",
              " ('Riddle', 'NNP'),\n",
              " ('hit', 'VBD'),\n",
              " ('the', 'DT'),\n",
              " ('floor', 'NN'),\n",
              " ('with', 'IN'),\n",
              " ('a', 'DT'),\n",
              " ('mundane', 'NN'),\n",
              " ('finality', 'NN'),\n",
              " (',', ','),\n",
              " ('his', 'PRP$'),\n",
              " ('body', 'NN'),\n",
              " ('feeble', 'JJ'),\n",
              " ('and', 'CC'),\n",
              " ('shrunken', 'JJ'),\n",
              " (',', ','),\n",
              " ('the', 'DT'),\n",
              " ('white', 'JJ'),\n",
              " ('hands', 'NNS'),\n",
              " ('empty', 'JJ'),\n",
              " (',', ','),\n",
              " ('the', 'DT'),\n",
              " ('snakelike', 'JJ'),\n",
              " ('face', 'NN'),\n",
              " ('vacant', 'NN'),\n",
              " ('and', 'CC'),\n",
              " ('unknowing', 'NN'),\n",
              " ('.', '.'),\n",
              " ('``', '``'),\n",
              " (',', ','),\n",
              " (\"''\", \"''\"),\n",
              " ('Voldemort', 'NNP'),\n",
              " ('was', 'VBD'),\n",
              " ('dead', 'JJ'),\n",
              " (',', ','),\n",
              " ('killed', 'VBN'),\n",
              " ('by', 'IN'),\n",
              " ('his', 'PRP$'),\n",
              " ('own', 'JJ'),\n",
              " ('rebounding', 'NN'),\n",
              " ('curse', 'NN'),\n",
              " (',', ','),\n",
              " ('and', 'CC')]"
            ]
          },
          "metadata": {
            "tags": []
          },
          "execution_count": 27
        }
      ]
    },
    {
      "cell_type": "markdown",
      "metadata": {
        "id": "yKvc3TADi5aa"
      },
      "source": [
        "# Spacy Tagging"
      ]
    },
    {
      "cell_type": "code",
      "metadata": {
        "colab": {
          "base_uri": "https://localhost:8080/"
        },
        "id": "s5GhcuzplwsP",
        "outputId": "d188d497-3129-4da1-f37a-13b2e3ff7089"
      },
      "source": [
        "!pip install -U spacy"
      ],
      "execution_count": null,
      "outputs": [
        {
          "output_type": "stream",
          "text": [
            "Collecting spacy\n",
            "\u001b[?25l  Downloading https://files.pythonhosted.org/packages/1b/d8/0361bbaf7a1ff56b44dca04dace54c82d63dad7475b7d25ea1baefafafb2/spacy-3.0.6-cp37-cp37m-manylinux2014_x86_64.whl (12.8MB)\n",
            "\u001b[K     |████████████████████████████████| 12.8MB 304kB/s \n",
            "\u001b[?25hCollecting pathy>=0.3.5\n",
            "\u001b[?25l  Downloading https://files.pythonhosted.org/packages/13/87/5991d87be8ed60beb172b4062dbafef18b32fa559635a8e2b633c2974f85/pathy-0.5.2-py3-none-any.whl (42kB)\n",
            "\u001b[K     |████████████████████████████████| 51kB 4.1MB/s \n",
            "\u001b[?25hRequirement already satisfied, skipping upgrade: blis<0.8.0,>=0.4.0 in /usr/local/lib/python3.7/dist-packages (from spacy) (0.4.1)\n",
            "Requirement already satisfied, skipping upgrade: setuptools in /usr/local/lib/python3.7/dist-packages (from spacy) (56.0.0)\n",
            "Requirement already satisfied, skipping upgrade: preshed<3.1.0,>=3.0.2 in /usr/local/lib/python3.7/dist-packages (from spacy) (3.0.5)\n",
            "Requirement already satisfied, skipping upgrade: cymem<2.1.0,>=2.0.2 in /usr/local/lib/python3.7/dist-packages (from spacy) (2.0.5)\n",
            "Requirement already satisfied, skipping upgrade: wasabi<1.1.0,>=0.8.1 in /usr/local/lib/python3.7/dist-packages (from spacy) (0.8.2)\n",
            "Collecting srsly<3.0.0,>=2.4.1\n",
            "\u001b[?25l  Downloading https://files.pythonhosted.org/packages/c3/84/dfdfc9f6f04f6b88207d96d9520b911e5fec0c67ff47a0dea31ab5429a1e/srsly-2.4.1-cp37-cp37m-manylinux2014_x86_64.whl (456kB)\n",
            "\u001b[K     |████████████████████████████████| 460kB 35.1MB/s \n",
            "\u001b[?25hRequirement already satisfied, skipping upgrade: jinja2 in /usr/local/lib/python3.7/dist-packages (from spacy) (2.11.3)\n",
            "Requirement already satisfied, skipping upgrade: tqdm<5.0.0,>=4.38.0 in /usr/local/lib/python3.7/dist-packages (from spacy) (4.41.1)\n",
            "Collecting typer<0.4.0,>=0.3.0\n",
            "  Downloading https://files.pythonhosted.org/packages/90/34/d138832f6945432c638f32137e6c79a3b682f06a63c488dcfaca6b166c64/typer-0.3.2-py3-none-any.whl\n",
            "Requirement already satisfied, skipping upgrade: packaging>=20.0 in /usr/local/lib/python3.7/dist-packages (from spacy) (20.9)\n",
            "Collecting spacy-legacy<3.1.0,>=3.0.4\n",
            "  Downloading https://files.pythonhosted.org/packages/8d/67/d4002a18e26bf29b17ab563ddb55232b445ab6a02f97bf17d1345ff34d3f/spacy_legacy-3.0.5-py2.py3-none-any.whl\n",
            "Collecting thinc<8.1.0,>=8.0.3\n",
            "\u001b[?25l  Downloading https://files.pythonhosted.org/packages/61/87/decceba68a0c6ca356ddcb6aea8b2500e71d9bc187f148aae19b747b7d3c/thinc-8.0.3-cp37-cp37m-manylinux2014_x86_64.whl (1.1MB)\n",
            "\u001b[K     |████████████████████████████████| 1.1MB 36.2MB/s \n",
            "\u001b[?25hRequirement already satisfied, skipping upgrade: numpy>=1.15.0 in /usr/local/lib/python3.7/dist-packages (from spacy) (1.19.5)\n",
            "Requirement already satisfied, skipping upgrade: murmurhash<1.1.0,>=0.28.0 in /usr/local/lib/python3.7/dist-packages (from spacy) (1.0.5)\n",
            "Collecting catalogue<2.1.0,>=2.0.3\n",
            "  Downloading https://files.pythonhosted.org/packages/82/a5/b5021c74c04cac35a27d34cbf3146d86eb8e173b4491888bc4908c4c8b3b/catalogue-2.0.3-py3-none-any.whl\n",
            "Collecting pydantic<1.8.0,>=1.7.1\n",
            "\u001b[?25l  Downloading https://files.pythonhosted.org/packages/b3/0a/52ae1c659fc08f13dd7c0ae07b88e4f807ad83fb9954a59b0b0a3d1a8ab6/pydantic-1.7.3-cp37-cp37m-manylinux2014_x86_64.whl (9.1MB)\n",
            "\u001b[K     |████████████████████████████████| 9.1MB 36.4MB/s \n",
            "\u001b[?25hRequirement already satisfied, skipping upgrade: requests<3.0.0,>=2.13.0 in /usr/local/lib/python3.7/dist-packages (from spacy) (2.23.0)\n",
            "Requirement already satisfied, skipping upgrade: typing-extensions<4.0.0.0,>=3.7.4; python_version < \"3.8\" in /usr/local/lib/python3.7/dist-packages (from spacy) (3.7.4.3)\n",
            "Collecting smart-open<4.0.0,>=2.2.0\n",
            "\u001b[?25l  Downloading https://files.pythonhosted.org/packages/11/9a/ba2d5f67f25e8d5bbf2fcec7a99b1e38428e83cb715f64dd179ca43a11bb/smart_open-3.0.0.tar.gz (113kB)\n",
            "\u001b[K     |████████████████████████████████| 122kB 36.7MB/s \n",
            "\u001b[?25hRequirement already satisfied, skipping upgrade: MarkupSafe>=0.23 in /usr/local/lib/python3.7/dist-packages (from jinja2->spacy) (1.1.1)\n",
            "Requirement already satisfied, skipping upgrade: click<7.2.0,>=7.1.1 in /usr/local/lib/python3.7/dist-packages (from typer<0.4.0,>=0.3.0->spacy) (7.1.2)\n",
            "Requirement already satisfied, skipping upgrade: pyparsing>=2.0.2 in /usr/local/lib/python3.7/dist-packages (from packaging>=20.0->spacy) (2.4.7)\n",
            "Requirement already satisfied, skipping upgrade: zipp>=0.5; python_version < \"3.8\" in /usr/local/lib/python3.7/dist-packages (from catalogue<2.1.0,>=2.0.3->spacy) (3.4.1)\n",
            "Requirement already satisfied, skipping upgrade: chardet<4,>=3.0.2 in /usr/local/lib/python3.7/dist-packages (from requests<3.0.0,>=2.13.0->spacy) (3.0.4)\n",
            "Requirement already satisfied, skipping upgrade: certifi>=2017.4.17 in /usr/local/lib/python3.7/dist-packages (from requests<3.0.0,>=2.13.0->spacy) (2020.12.5)\n",
            "Requirement already satisfied, skipping upgrade: urllib3!=1.25.0,!=1.25.1,<1.26,>=1.21.1 in /usr/local/lib/python3.7/dist-packages (from requests<3.0.0,>=2.13.0->spacy) (1.24.3)\n",
            "Requirement already satisfied, skipping upgrade: idna<3,>=2.5 in /usr/local/lib/python3.7/dist-packages (from requests<3.0.0,>=2.13.0->spacy) (2.10)\n",
            "Building wheels for collected packages: smart-open\n",
            "  Building wheel for smart-open (setup.py) ... \u001b[?25l\u001b[?25hdone\n",
            "  Created wheel for smart-open: filename=smart_open-3.0.0-cp37-none-any.whl size=107098 sha256=45a9238b229a6332ece2bd072ebfde069ee82e5e2a6a9f8ce52fef7889656e28\n",
            "  Stored in directory: /root/.cache/pip/wheels/18/88/7c/f06dabd5e9cabe02d2269167bcacbbf9b47d0c0ff7d6ebcb78\n",
            "Successfully built smart-open\n",
            "Installing collected packages: typer, smart-open, pathy, catalogue, srsly, spacy-legacy, pydantic, thinc, spacy\n",
            "  Found existing installation: smart-open 5.0.0\n",
            "    Uninstalling smart-open-5.0.0:\n",
            "      Successfully uninstalled smart-open-5.0.0\n",
            "  Found existing installation: catalogue 1.0.0\n",
            "    Uninstalling catalogue-1.0.0:\n",
            "      Successfully uninstalled catalogue-1.0.0\n",
            "  Found existing installation: srsly 1.0.5\n",
            "    Uninstalling srsly-1.0.5:\n",
            "      Successfully uninstalled srsly-1.0.5\n",
            "  Found existing installation: thinc 7.4.0\n",
            "    Uninstalling thinc-7.4.0:\n",
            "      Successfully uninstalled thinc-7.4.0\n",
            "  Found existing installation: spacy 2.2.4\n",
            "    Uninstalling spacy-2.2.4:\n",
            "      Successfully uninstalled spacy-2.2.4\n",
            "Successfully installed catalogue-2.0.3 pathy-0.5.2 pydantic-1.7.3 smart-open-3.0.0 spacy-3.0.6 spacy-legacy-3.0.5 srsly-2.4.1 thinc-8.0.3 typer-0.3.2\n"
          ],
          "name": "stdout"
        }
      ]
    },
    {
      "cell_type": "code",
      "metadata": {
        "colab": {
          "background_save": true,
          "base_uri": "https://localhost:8080/"
        },
        "id": "kjhUKZjlnYNb",
        "outputId": "57266f2c-6587-4716-a216-5daab141f132"
      },
      "source": [
        "!python -m spacy download en_core_web_lg"
      ],
      "execution_count": null,
      "outputs": [
        {
          "output_type": "stream",
          "text": [
            "2021-04-25 15:18:54.336308: I tensorflow/stream_executor/platform/default/dso_loader.cc:49] Successfully opened dynamic library libcudart.so.11.0\n",
            "Collecting en-core-web-lg==3.0.0\n",
            "\u001b[?25l  Downloading https://github.com/explosion/spacy-models/releases/download/en_core_web_lg-3.0.0/en_core_web_lg-3.0.0-py3-none-any.whl (778.8MB)\n",
            "\u001b[K     |████████████████████████████████| 778.8MB 19kB/s \n",
            "\u001b[?25hRequirement already satisfied: spacy<3.1.0,>=3.0.0 in /usr/local/lib/python3.7/dist-packages (from en-core-web-lg==3.0.0) (3.0.6)\n",
            "Requirement already satisfied: blis<0.8.0,>=0.4.0 in /usr/local/lib/python3.7/dist-packages (from spacy<3.1.0,>=3.0.0->en-core-web-lg==3.0.0) (0.4.1)\n",
            "Requirement already satisfied: pathy>=0.3.5 in /usr/local/lib/python3.7/dist-packages (from spacy<3.1.0,>=3.0.0->en-core-web-lg==3.0.0) (0.5.2)\n",
            "Requirement already satisfied: catalogue<2.1.0,>=2.0.3 in /usr/local/lib/python3.7/dist-packages (from spacy<3.1.0,>=3.0.0->en-core-web-lg==3.0.0) (2.0.3)\n",
            "Requirement already satisfied: numpy>=1.15.0 in /usr/local/lib/python3.7/dist-packages (from spacy<3.1.0,>=3.0.0->en-core-web-lg==3.0.0) (1.19.5)\n",
            "Requirement already satisfied: setuptools in /usr/local/lib/python3.7/dist-packages (from spacy<3.1.0,>=3.0.0->en-core-web-lg==3.0.0) (56.0.0)\n",
            "Requirement already satisfied: jinja2 in /usr/local/lib/python3.7/dist-packages (from spacy<3.1.0,>=3.0.0->en-core-web-lg==3.0.0) (2.11.3)\n",
            "Requirement already satisfied: thinc<8.1.0,>=8.0.3 in /usr/local/lib/python3.7/dist-packages (from spacy<3.1.0,>=3.0.0->en-core-web-lg==3.0.0) (8.0.3)\n",
            "Requirement already satisfied: typer<0.4.0,>=0.3.0 in /usr/local/lib/python3.7/dist-packages (from spacy<3.1.0,>=3.0.0->en-core-web-lg==3.0.0) (0.3.2)\n",
            "Requirement already satisfied: preshed<3.1.0,>=3.0.2 in /usr/local/lib/python3.7/dist-packages (from spacy<3.1.0,>=3.0.0->en-core-web-lg==3.0.0) (3.0.5)\n",
            "Requirement already satisfied: murmurhash<1.1.0,>=0.28.0 in /usr/local/lib/python3.7/dist-packages (from spacy<3.1.0,>=3.0.0->en-core-web-lg==3.0.0) (1.0.5)\n",
            "Requirement already satisfied: wasabi<1.1.0,>=0.8.1 in /usr/local/lib/python3.7/dist-packages (from spacy<3.1.0,>=3.0.0->en-core-web-lg==3.0.0) (0.8.2)\n",
            "Requirement already satisfied: tqdm<5.0.0,>=4.38.0 in /usr/local/lib/python3.7/dist-packages (from spacy<3.1.0,>=3.0.0->en-core-web-lg==3.0.0) (4.41.1)\n",
            "Requirement already satisfied: pydantic<1.8.0,>=1.7.1 in /usr/local/lib/python3.7/dist-packages (from spacy<3.1.0,>=3.0.0->en-core-web-lg==3.0.0) (1.7.3)\n",
            "Requirement already satisfied: packaging>=20.0 in /usr/local/lib/python3.7/dist-packages (from spacy<3.1.0,>=3.0.0->en-core-web-lg==3.0.0) (20.9)\n",
            "Requirement already satisfied: requests<3.0.0,>=2.13.0 in /usr/local/lib/python3.7/dist-packages (from spacy<3.1.0,>=3.0.0->en-core-web-lg==3.0.0) (2.23.0)\n",
            "Requirement already satisfied: cymem<2.1.0,>=2.0.2 in /usr/local/lib/python3.7/dist-packages (from spacy<3.1.0,>=3.0.0->en-core-web-lg==3.0.0) (2.0.5)\n",
            "Requirement already satisfied: srsly<3.0.0,>=2.4.1 in /usr/local/lib/python3.7/dist-packages (from spacy<3.1.0,>=3.0.0->en-core-web-lg==3.0.0) (2.4.1)\n",
            "Requirement already satisfied: spacy-legacy<3.1.0,>=3.0.4 in /usr/local/lib/python3.7/dist-packages (from spacy<3.1.0,>=3.0.0->en-core-web-lg==3.0.0) (3.0.5)\n",
            "Requirement already satisfied: typing-extensions<4.0.0.0,>=3.7.4; python_version < \"3.8\" in /usr/local/lib/python3.7/dist-packages (from spacy<3.1.0,>=3.0.0->en-core-web-lg==3.0.0) (3.7.4.3)\n",
            "Requirement already satisfied: smart-open<4.0.0,>=2.2.0 in /usr/local/lib/python3.7/dist-packages (from pathy>=0.3.5->spacy<3.1.0,>=3.0.0->en-core-web-lg==3.0.0) (3.0.0)\n",
            "Requirement already satisfied: zipp>=0.5; python_version < \"3.8\" in /usr/local/lib/python3.7/dist-packages (from catalogue<2.1.0,>=2.0.3->spacy<3.1.0,>=3.0.0->en-core-web-lg==3.0.0) (3.4.1)\n",
            "Requirement already satisfied: MarkupSafe>=0.23 in /usr/local/lib/python3.7/dist-packages (from jinja2->spacy<3.1.0,>=3.0.0->en-core-web-lg==3.0.0) (1.1.1)\n",
            "Requirement already satisfied: click<7.2.0,>=7.1.1 in /usr/local/lib/python3.7/dist-packages (from typer<0.4.0,>=0.3.0->spacy<3.1.0,>=3.0.0->en-core-web-lg==3.0.0) (7.1.2)\n",
            "Requirement already satisfied: pyparsing>=2.0.2 in /usr/local/lib/python3.7/dist-packages (from packaging>=20.0->spacy<3.1.0,>=3.0.0->en-core-web-lg==3.0.0) (2.4.7)\n",
            "Requirement already satisfied: chardet<4,>=3.0.2 in /usr/local/lib/python3.7/dist-packages (from requests<3.0.0,>=2.13.0->spacy<3.1.0,>=3.0.0->en-core-web-lg==3.0.0) (3.0.4)\n",
            "Requirement already satisfied: urllib3!=1.25.0,!=1.25.1,<1.26,>=1.21.1 in /usr/local/lib/python3.7/dist-packages (from requests<3.0.0,>=2.13.0->spacy<3.1.0,>=3.0.0->en-core-web-lg==3.0.0) (1.24.3)\n",
            "Requirement already satisfied: idna<3,>=2.5 in /usr/local/lib/python3.7/dist-packages (from requests<3.0.0,>=2.13.0->spacy<3.1.0,>=3.0.0->en-core-web-lg==3.0.0) (2.10)\n",
            "Requirement already satisfied: certifi>=2017.4.17 in /usr/local/lib/python3.7/dist-packages (from requests<3.0.0,>=2.13.0->spacy<3.1.0,>=3.0.0->en-core-web-lg==3.0.0) (2020.12.5)\n",
            "Installing collected packages: en-core-web-lg\n",
            "Successfully installed en-core-web-lg-3.0.0\n",
            "\u001b[38;5;2m✔ Download and installation successful\u001b[0m\n",
            "You can now load the package via spacy.load('en_core_web_lg')\n"
          ],
          "name": "stdout"
        }
      ]
    },
    {
      "cell_type": "code",
      "metadata": {
        "colab": {
          "background_save": true
        },
        "id": "BSQaEffmlymH"
      },
      "source": [
        "import spacy"
      ],
      "execution_count": null,
      "outputs": []
    },
    {
      "cell_type": "code",
      "metadata": {
        "colab": {
          "background_save": true
        },
        "id": "27iKQ86Pl1UH"
      },
      "source": [
        "nlp = spacy.load(\"en_core_web_lg\")"
      ],
      "execution_count": null,
      "outputs": []
    },
    {
      "cell_type": "code",
      "metadata": {
        "colab": {
          "background_save": true
        },
        "id": "-lXUYIvSl6rC"
      },
      "source": [
        "doc = open(en).read()\n",
        "doc1 = nlp(doc)"
      ],
      "execution_count": null,
      "outputs": []
    },
    {
      "cell_type": "code",
      "metadata": {
        "colab": {
          "background_save": true
        },
        "id": "-rM2VVC2oVce",
        "outputId": "6ebac779-8b7e-401b-d361-0de9adb606ca"
      },
      "source": [
        "doc1"
      ],
      "execution_count": null,
      "outputs": [
        {
          "output_type": "execute_result",
          "data": {
            "text/plain": [
              "\"The bang was like a cannon blast, and the golden flames that erupted between them, at the dead center of the circle they had been treading, marked the point where the spells collided.\",\n",
              "\n",
              "\"Harry saw Voldemort’s green jet meet his own spell, saw the Elder Wand fly high, dark against the sunrise, spinning across the enchanted ceiling like the head of Nagini, spinning through the air toward the master it would not kill, who had come to take full possession of it at last.\",\n",
              "\n",
              "\"And Harry, with the unerring skill of the Seeker, caught the wand in his free hand as Voldemort fell backward, arms splayed, the slit pupils of the scarlet eyes rolling upward.\",\n",
              "\n",
              "\"Tom Riddle hit the floor with a mundane finality, his body feeble and shrunken, the white hands empty, the snakelike face vacant and unknowing.\",\n",
              "\n",
              "\"Voldemort was dead, killed by his own rebounding curse, and Harry stood with two wands in his hand, staring down at his enemy’s shell.\",\n",
              "\n",
              "\"One shivering second of silence, the shock of the moment suspended: and then the tumult broke around Harry as the screams and the cheers and the roars of the watchers rent the air.\",\n",
              "\n",
              "\"The fierce new sun dazzled the windows as they thundered toward him, and the first to reach him were Ron and Hermione, and it was their arms that were wrapped around him, their incomprehensible shouts that deafened him.\",\n",
              "\n",
              "\"Then Ginny, Neville, and Luna were there, and then all the Weasleys and Hagrid, and Kingsley and McGonagall and Flitwick and Sprout, and Harry could not hear a word that anyone was shouting, nor tell whose hands were seizing him, pulling him, trying to hug some part of him, hundreds of them pressing in, all of them determined to touch the Boy Who Lived, the reason it was over at last.\",\n",
              "\n",
              "\"The sun rose steadily over Hogwarts, and the Great Hall blazed with life and light.\",\n",
              "\n",
              "\"Harry was an indispensable part of the mingled outpourings of jubilation and mourning, of grief and celebration.\",\n",
              "\n",
              "\"They wanted him there with them, their leader and symbol, their savior and their guide, and that he had not slept, that he craved the company of only a few of them, seemed to occur to no one.\",\n",
              "\n",
              "\"He must speak to the bereaved, clasp their hands, witness their tears, receive their thanks, hear the news now creeping in from every quarter as the morning drew on; that the Imperiused up and down the country had come back to themselves, that Death Eaters were fleeing or else being captured, that the innocent of Azkaban were being released at that very moment, and that Kingsley Shacklebolt had been named temporary Minister of Magic. ...\",\n",
              "\n",
              "\"They moved Voldemort’s body and laid it in a chamber off the Hall, away from the bodies of Fred, Tonks, Lupin, Colin Creevey, and fifty others who had died fighting him.\",\n",
              "\n",
              "\"McGonagall had replaced the House tables, but nobody was sitting according to House anymore\",\n",
              "\n",
              "\"All were jumbled together, teachers and pupils, ghosts and parents, centaurs and house- elves, and Firenze lay recovering in a corner, and Grawp peered in through a smashed window, and people were throwing food into his laughing mouth.\",\n",
              "\n",
              "\"After a while, exhausted and drained, Harry found himself sitting on a bench beside Luna.\",\n",
              "\n",
              "\"“I’d want some peace and quiet, if it were me,” she said.\",\n",
              "\n",
              "\"“I’d love some,” he replied.\",\n",
              "\n",
              "\"“I’ll distract them all,” she said.\",\n",
              "\n",
              "\"“Use your Cloak.”\",\n",
              "\n",
              "\"And before he could say a word she had cried, “Oooh, look, a Blibbering Humdinger!” and pointed out of the window.\",\n",
              "\n",
              "\"Everyone who heard looked around, and Harry slid the Cloak up over himself, and got to his feet.\",\n",
              "\n",
              "\"Now he could move through the Hall without interference.\",\n",
              "\n",
              "\"He spotted Ginny two tables away; she was sitting with her head on her mother’s shoulder:\",\n",
              "\n",
              "\"He saw Neville, the sword of Gryffindor lying beside his plate as he ate, surrounded by a knot of fervent admirers.\",\n",
              "\n",
              "\"Along the aisle between the tables he walked, and he spotted the three Malfoys, huddled together as though unsure whether or not they were supposed to be there, but nobody was paying them any attention.\",\n",
              "\n",
              "\"Everywhere he looked he saw families reunited, and finally, he saw the two whose company he craved most.\",\n",
              "\n",
              "\"“It’s me,” he muttered, crouching down between them.\",\n",
              "\n",
              "\"“Will you come with me?”\",\n",
              "\n",
              "\"They stood up at once, and together he, Ron, and Hermione left the Great Hall.\",\n",
              "\n",
              "\"Great chunks were missing from the marble staircase, part of the balustrade gone, and rubble and bloodstains occurred every few steps as they climbed.\",\n",
              "\n",
              "\"Somewhere in the distance they could hear Peeves zooming through the corridors singing a victory song of his own composition:\",\n",
              "\n",
              "\"“Really gives a feeling for the scope and tragedy of the thing, doesn’t it?” said Ron, pushing open a door to let Harry and Hermione through.\",\n",
              "\n",
              "\"Happiness would come, Harry thought, but at the moment it was muffled by exhaustion, and the pain of losing Fred and Lupin and Tonks pierced him like a physical wound every few steps.\",\n",
              "\n",
              "\"Most of all he felt the most stupendous relief, and a longing to sleep.\",\n",
              "\n",
              "\"But first he owed an explanation to Ron and Hermione, who had stuck with him for so long, and who deserved the truth.\",\n",
              "\n",
              "\"Painstakingly he recounted what he had seen in the Pensieve and what had happened in the forest, and they had not even begun to express all their shock and amazement when at last they arrived at the place to which they had been walking, though none of them had mentioned their destination.\",\n",
              "\n",
              "\"Since he had last seen it, the gargoyle guarding the entrance to the headmaster’s study had been knocked aside; it stood lopsided, looking a little punch-drunk, and Harry wondered whether it would be able to distinguish passwords anymore.\",\n",
              "\n",
              "\"“Can we go up?” he asked the gargoyle.\",\n",
              "\n",
              "\"“Feel free,” groaned the statue.\",\n",
              "\n",
              "\"They clambered over him and onto the spiral stone staircase that moved slowly upward like an escalator.\",\n",
              "\n",
              "\"Harry pushed open the door at the top.\",\n",
              "\n",
              "\"He had one, brief glimpse of the stone Pensieve on the desk where he had left it, and then an earsplitting noise made him cry out, thinking of curses and returning Death Eaters and the rebirth of Voldemort.\",\n",
              "\n",
              "\"All around the walls, the headmasters and headmistresses of Hogwarts were giving him a standing ovation; they waved their hats and in some cases their wigs, they reached through their frames to grip each other’s hands; they danced up and down on the chairs in which they had been painted; Dilys Derwent sobbed unashamedly; Dexter Fortescue was waving his ear-trumpet; and Phineas Nigellus called, in his high, reedy voice, “And let it be noted that Slytherin House played its part!\",\n",
              "\n",
              "\"But Harry had eyes only for the man who stood in the largest portrait directly behind the headmaster’s chair.\",\n",
              "\n",
              "\"Tears were sliding down from behind the half- moon spectacles into the long silver beard, and the pride and the gratitude emanating from him filled Harry with the same balm as phoenix song.\",\n",
              "\n",
              "\"At last, Harry held up his hands, and the portraits fell respectfully silent, beaming and mopping their eyes and waiting eagerly for him to speak.\",\n",
              "\n",
              "\"He directed his words at Dumbledore, however, and chose them with enormous care.\",\n",
              "\n",
              "\"Exhausted and bleary-eyed though he was, he must make one last effort, seeking one last piece of advice.\",\n",
              "\n",
              "\"“The thing that was hidden in the Snitch,” he began, “I dropped it in the forest.\",\n",
              "\n",
              "\"“My dear boy, I do,” said Dumbledore, while his fellow pictures looked confused and curious.\",\n",
              "\n",
              "\"“A wise and courageous decision, but no less than I would have expected of you.\",\n",
              "\n",
              "\"“No one,” said Harry, and Dumbledore nodded his satisfaction.\",\n",
              "\n",
              "\"“I’m going to keep Ignotus’s present, though,” said Harry, and Dumbledore beamed.\",\n",
              "\n",
              "\"“But of course, Harry, it is yours forever, until you pass it on!”\",\n",
              "\n",
              "\"“And then there’s this.”\",\n",
              "\n",
              "\"Harry held up the Elder Wand, and Ron and Hermione looked at it with a reverence that, even in his befuddled and sleep-deprived state, Harry did not like to see.\",\n",
              "\n",
              "\"“I don’t want it,” said Harry.\",\n",
              "\n",
              "\"“What?” said Ron loudly.\",\n",
              "\n",
              "\"\",“Are you mental?”\n",
              "\n",
              "\"“I know it’s powerful,” said Harry wearily.\",\n",
              "\n",
              "\"“But I was happier with mine. So ...”\",\n",
              "\n",
              "\"He rummaged in the pouch hung around his neck, and pulled out the two halves of holly still just connected by the finest thread of phoenix feather.\",\n",
              "\n",
              "\"Hermione had said that they could not be repaired, that the damage was too severe.\",\n",
              "\n",
              "\"All he knew was that if this did not work, nothing would.\",\n",
              "\n",
              "\"He laid the broken wand upon the headmaster’s desk, touched it with the very tip of the Elder Wand, and said, “Reparo.”\",\n",
              "\n",
              "\"As his wand resealed, red sparks flew out of its end.\",\n",
              "\n",
              "\"Harry knew that he had succeeded.\",\n",
              "\n",
              "\"He picked up the holly and phoenix wand and felt a sudden warmth in his fingers, as though wand and hand were rejoicing at their reunion.\",\n",
              "\n",
              "\"“I’m putting the Elder Wand,” he told Dumbledore, who was watching him with enormous affection and admiration, “back where it came from.\",\n",
              "\n",
              "\"Dumbledore nodded.\",\n",
              "\n",
              "\"They smiled at each other.\",\n",
              "\n",
              "\"“Are you sure?” said Ron.\",\n",
              "\n",
              "\"There was the faintest trace of longing in his voice as he looked at the Elder Wand.\",\n",
              "\n",
              "\"“I think Harry’s right,” said Hermione quietly.\",\n",
              "\n",
              "\"“That wand’s more trouble than it’s worth,” said Harry.\",\n",
              "\n",
              "\"“And quite honestly,” he turned away from the painted portraits, thinking now only of the four-poster bed lying waiting for him in Gryffindor Tower, and wondering whether Kreacher might bring him a sandwich there, “I’ve had enough trouble for a lifetime.”\",\n",
              "\n",
              "\"Nineteen years later Autumn seemed to arrive suddenly that year.\",\n",
              "\n",
              "\"The morning of the first of September was crisp and golden as an apple, and as the little family bobbed across the rumbling road toward the great sooty station, the fumes of car exhausts and the breath of pedestrians sparkled like cobwebs in the cold air.\",\n",
              "\n",
              "\"Two large cages rattled on top of the laden trolleys the parents were pushing; the owls inside them hooted indignantly, and the redheaded girl trailed tearfully behind her brothers, clutching her father’s arm.\",\n",
              "\n",
              "\"“It won’t be long, and you’ll be going too,” Harry told her.\",\n",
              "\n",
              "\"“Two years,” sniffed Lily.\",\n",
              "\n",
              "\"“I want to go now!”\",\n",
              "\n",
              "\"The commuters stared curiously at the owls as the family wove its way toward the barrier between platforms nine and ten.\",\n",
              "\n",
              "\"Albus’s voice drifted back to Harry over the surrounding clamor; his sons had resumed the argument they had started in the car.\",\n",
              "\n",
              "“I won’t!\"\",\n",
              "\n",
              "\"“James, give it a rest!” said Ginny.\",\n",
              "\n",
              "\"“I only said he might be,” said James, grinning at his younger brother.\",\n",
              "\n",
              "\"“There’s nothing wrong with that.\",\n",
              "\n",
              "\"But James caught his mother’s eye and fell silent.\",\n",
              "\n",
              "\"The five Potters approached the barrier.\",\n",
              "\n",
              "\"With a slightly cocky look over his shoulder at his younger brother, James took the trolley from his mother and broke into a run.\",\n",
              "\n",
              "\"A moment later, he had vanished.\",\n",
              "\n",
              "\"“You’ll write to me, won’t you?” Albus asked his parents immediately, capitalizing on the momentary absence of his brother.\",\n",
              "\n",
              "\"“Every day, if you want us to,” said Ginny.\",\n",
              "\n",
              "\"“Not every day,” said Albus quickly.\",\n",
              "\n",
              "\"“James says most people only get letters from home about once a month.”\",\n",
              "\n",
              "\"“We wrote to James three times a week last year,” said Ginny.\",\n",
              "\n",
              "\"“And you don’t want to believe everything he tells you about Hogwarts,” Harry put in.\",\n",
              "\n",
              "\"“He likes a laugh, your brother.”\",\n",
              "\n",
              "\"Side by side, they pushed the second trolley forward, gathering speed.\",\n",
              "\n",
              "\"As they reached the barrier, Albus winced, but no collision came.\",\n",
              "\n",
              "\"\",Instead, the family emerged onto platform nine and three-quarters, which was obscured by thick white steam that was pouring from the scarlet Hogwarts Express.\n",
              "\n",
              "\"Indistinct figures were swarming through the mist, into which James had already disappeared.\",\n",
              "\n",
              "\"“Where are they?” asked Albus anxiously, peering at the hazy forms they passed as they made their way down the platform.\",\n",
              "\n",
              "\"“Well find them,” said Ginny reassuringly.\",\n",
              "\n",
              "\"But the vapor was dense, and it was difficult to make out anybody’s faces.\",\n",
              "\n",
              "\"Detached from their owners, voices sounded unnaturally loud.\",\n",
              "\n",
              "\"Harry thought he heard Percy discoursing loudly on broomstick regulations, and was quite glad of the excuse not to stop and say hello. ...\",\n",
              "\n",
              "\"“I think that’s them, Al,” said Ginny suddenly.\",\n",
              "\n",
              "\"A group of four people emerged from the mist, standing alongside the very last carriage.\",\n",
              "\n",
              "\"Their faces only came into focus when Harry, Ginny, Lily, and Albus had drawn right up to them.\",\n",
              "\n",
              "\"I don’t know exactly where, but I’m not going to go looking for it again.\",\n",
              "\n",
              "\"He might be in Slytherin — ”\",\n",
              "\n",
              "\"I won’t be in Slytherin!\"\",\n",
              "\n",
              "\"Let our contribution not be forgotten!\"\",\n",
              "\n",
              "\"Do you agree?\"\",\n",
              "\n",
              "\"Does anyone else know where it fell?\"\",\n",
              "\n",
              "\"It can stay there.\",\n",
              "\n",
              "\"If I die a natural death like Ignotus, its power will be broken, won’t it?\",\n",
              "\n",
              "\"The previous master will never have been defeated.\",\n",
              "\n",
              "\"That’ll be the end of it.”\",\n",
              "\n",
              "\"There would be time to talk later, hours and days and maybe years in which to talk.\",\n",
              "\n",
              "\"We did it, we bashed them, wee Potter’s the one, And Voldy’s gone moldy, so now let’s have fun!\",\n",
              "\n",
              "\"But it was applause.\",\n"
            ]
          },
          "metadata": {
            "tags": []
          },
          "execution_count": 0
        }
      ]
    },
    {
      "cell_type": "code",
      "metadata": {
        "colab": {
          "background_save": true
        },
        "id": "zhKpuF2ynK4Q",
        "outputId": "56de4dbd-382b-4c9a-c806-d7944113e494"
      },
      "source": [
        "for token in doc1[0:180]:\n",
        "  print(token.text, token.pos_,token.tag_, token.dep_)\n",
        "  "
      ],
      "execution_count": null,
      "outputs": [
        {
          "output_type": "stream",
          "text": [
            "\" PUNCT `` punct\n",
            "The DET DT det\n",
            "bang NOUN NN nsubj\n",
            "was AUX VBD ROOT\n",
            "like ADP IN prep\n",
            "a DET DT det\n",
            "cannon NOUN NN compound\n",
            "blast NOUN NN pobj\n",
            ", PUNCT , punct\n",
            "and CCONJ CC cc\n",
            "the DET DT det\n",
            "golden ADJ JJ amod\n",
            "flames NOUN NNS nsubj\n",
            "that DET WDT nsubj\n",
            "erupted VERB VBD relcl\n",
            "between ADP IN prep\n",
            "them PRON PRP pobj\n",
            ", PUNCT , punct\n",
            "at ADP IN prep\n",
            "the DET DT det\n",
            "dead ADJ JJ amod\n",
            "center NOUN NN pobj\n",
            "of ADP IN prep\n",
            "the DET DT det\n",
            "circle NOUN NN pobj\n",
            "they PRON PRP nsubj\n",
            "had AUX VBD aux\n",
            "been AUX VBN aux\n",
            "treading VERB VBG relcl\n",
            ", PUNCT , punct\n",
            "marked VERB VBD conj\n",
            "the DET DT det\n",
            "point NOUN NN dobj\n",
            "where ADV WRB advmod\n",
            "the DET DT det\n",
            "spells NOUN NNS nsubj\n",
            "collided VERB VBD relcl\n",
            ". PUNCT . punct\n",
            "\" PUNCT '' punct\n",
            ", PUNCT , punct\n",
            "\n",
            "\n",
            " SPACE _SP nsubj\n",
            "\" PUNCT `` punct\n",
            "Harry PROPN NNP nsubj\n",
            "saw VERB VBD ccomp\n",
            "Voldemort PROPN NNP nsubj\n",
            "’s PART POS ccomp\n",
            "green ADJ JJ amod\n",
            "jet NOUN NN attr\n",
            "meet VERB VB ccomp\n",
            "his PRON PRP$ poss\n",
            "own ADJ JJ amod\n",
            "spell NOUN NN dobj\n",
            ", PUNCT , punct\n",
            "saw VERB VBD advcl\n",
            "the DET DT det\n",
            "Elder PROPN NNP compound\n",
            "Wand PROPN NNP nsubj\n",
            "fly VERB VB ccomp\n",
            "high ADJ JJ advmod\n",
            ", PUNCT , punct\n",
            "dark ADJ JJ advcl\n",
            "against ADP IN prep\n",
            "the DET DT det\n",
            "sunrise NOUN NN pobj\n",
            ", PUNCT , punct\n",
            "spinning VERB VBG advcl\n",
            "across ADP IN prep\n",
            "the DET DT det\n",
            "enchanted ADJ JJ amod\n",
            "ceiling NOUN NN pobj\n",
            "like ADP IN prep\n",
            "the DET DT det\n",
            "head NOUN NN pobj\n",
            "of ADP IN prep\n",
            "Nagini PROPN NNP pobj\n",
            ", PUNCT , punct\n",
            "spinning VERB VBG advcl\n",
            "through ADP IN prep\n",
            "the DET DT det\n",
            "air NOUN NN pobj\n",
            "toward ADP IN prep\n",
            "the DET DT det\n",
            "master NOUN NN pobj\n",
            "it PRON PRP nsubj\n",
            "would AUX MD aux\n",
            "not PART RB neg\n",
            "kill VERB VB relcl\n",
            ", PUNCT , punct\n",
            "who PRON WP nsubj\n",
            "had AUX VBD aux\n",
            "come VERB VBN ROOT\n",
            "to PART TO aux\n",
            "take VERB VB advcl\n",
            "full ADJ JJ amod\n",
            "possession NOUN NN dobj\n",
            "of ADP IN prep\n",
            "it PRON PRP pobj\n",
            "at ADP IN advmod\n",
            "last ADV RB advmod\n",
            ". PUNCT . punct\n",
            "\" PUNCT '' punct\n",
            ", PUNCT , punct\n",
            "\n",
            "\n",
            " SPACE _SP ROOT\n",
            "\" PUNCT `` punct\n",
            "And CCONJ CC cc\n",
            "Harry PROPN NNP nsubj\n",
            ", PUNCT , punct\n",
            "with ADP IN prep\n",
            "the DET DT det\n",
            "unerring ADJ JJ amod\n",
            "skill NOUN NN pobj\n",
            "of ADP IN prep\n",
            "the DET DT det\n",
            "Seeker PROPN NNP pobj\n",
            ", PUNCT , punct\n",
            "caught VERB VBD conj\n",
            "the DET DT det\n",
            "wand NOUN NN dobj\n",
            "in ADP IN prep\n",
            "his PRON PRP$ poss\n",
            "free ADJ JJ amod\n",
            "hand NOUN NN pobj\n",
            "as ADP IN mark\n",
            "Voldemort PROPN NNP nsubj\n",
            "fell VERB VBD advcl\n",
            "backward ADV RB advmod\n",
            ", PUNCT , punct\n",
            "arms NOUN NNS nsubj\n",
            "splayed VERB VBN advcl\n",
            ", PUNCT , punct\n",
            "the DET DT det\n",
            "slit ADJ JJ amod\n",
            "pupils NOUN NNS nsubj\n",
            "of ADP IN prep\n",
            "the DET DT det\n",
            "scarlet ADJ JJ amod\n",
            "eyes NOUN NNS pobj\n",
            "rolling VERB VBG advcl\n",
            "upward ADV RB advmod\n",
            ". PUNCT . punct\n",
            "\" PUNCT '' punct\n",
            ", PUNCT , punct\n",
            "\n",
            "\n",
            " SPACE _SP nsubj\n",
            "\" PUNCT `` punct\n",
            "Tom PROPN NNP compound\n",
            "Riddle PROPN NNP nsubj\n",
            "hit VERB VBD ccomp\n",
            "the DET DT det\n",
            "floor NOUN NN dobj\n",
            "with ADP IN prep\n",
            "a DET DT det\n",
            "mundane ADJ JJ amod\n",
            "finality NOUN NN pobj\n",
            ", PUNCT , punct\n",
            "his PRON PRP$ poss\n",
            "body NOUN NN nsubj\n",
            "feeble ADJ JJ advcl\n",
            "and CCONJ CC cc\n",
            "shrunken ADJ JJ conj\n",
            ", PUNCT , punct\n",
            "the DET DT det\n",
            "white ADJ JJ amod\n",
            "hands NOUN NNS nsubj\n",
            "empty ADJ JJ advcl\n",
            ", PUNCT , punct\n",
            "the DET DT det\n",
            "snakelike ADJ JJ nsubj\n",
            "face VERB VBP conj\n",
            "vacant ADJ JJ acomp\n",
            "and CCONJ CC cc\n",
            "unknowing ADJ JJ conj\n",
            ". PUNCT . punct\n",
            "\" PUNCT '' punct\n",
            ", PUNCT , punct\n",
            "\n",
            "\n",
            " SPACE _SP nsubj\n",
            "\" PUNCT `` punct\n",
            "Voldemort PROPN NNP nsubj\n",
            "was VERB VBD conj\n",
            "dead ADJ JJ acomp\n",
            ", PUNCT , punct\n"
          ],
          "name": "stdout"
        }
      ]
    },
    {
      "cell_type": "code",
      "metadata": {
        "colab": {
          "background_save": true
        },
        "id": "O06o7QPEnOuY",
        "outputId": "2b74047c-cb5a-4b2b-beae-9096fe0fd797"
      },
      "source": [
        "print(\"Verbs:\", [token.text for token in doc1 if token.pos_ == \"VERB\"])"
      ],
      "execution_count": null,
      "outputs": [
        {
          "output_type": "stream",
          "text": [
            "Verbs: ['erupted', 'treading', 'marked', 'collided', 'saw', 'meet', 'saw', 'fly', 'spinning', 'spinning', 'kill', 'come', 'take', 'caught', 'fell', 'splayed', 'rolling', 'hit', 'face', 'was', 'killed', 'rebounding', 'stood', 'staring', 'shivering', 'suspended', 'broke', 'rent', 'dazzled', 'thundered', 'reach', 'were', 'was', 'wrapped', 'deafened', 'hear', 'shouting', 'tell', 'seizing', 'pulling', 'trying', 'hug', 'pressing', 'determined', 'touch', 'Lived', 'was', 'rose', 'blazed', 'mingled', 'wanted', 'slept', 'craved', 'seemed', 'occur', 'speak', 'clasp', 'witness', 'receive', 'hear', 'creeping', 'drew', 'come', 'fleeing', 'captured', 'released', 'named', 'moved', 'laid', 'died', 'fighting', 'replaced', 'sitting', 'according', 'jumbled', 'lay', 'recovering', 'peered', 'throwing', 'laughing', 'exhausted', 'drained', 'found', 'sitting', 'want', 'were', 'said', 'love', 'replied', 'distract', 'said', 'Use', 'say', 'cried', 'look', 'pointed', 'heard', 'looked', 'slid', 'got', 'move', 'spotted', 'sitting', 'saw', 'lying', 'ate', 'surrounded', 'walked', 'spotted', 'huddled', 'unsure', 'supposed', 'be', 'paying', 'looked', 'saw', 'reunited', 'saw', 'craved', '’s', 'muttered', 'crouching', 'come', 'stood', 'left', 'missing', 'gone', 'occurred', 'climbed', 'hear', 'zooming', 'singing', 'gives', 'does', 'said', 'pushing', 'let', 'come', 'thought', 'muffled', 'losing', 'pierced', 'felt', 'sleep', 'owed', 'stuck', 'deserved', 'recounted', 'seen', 'happened', 'begun', 'express', 'arrived', 'walking', 'mentioned', 'seen', 'guarding', 'knocked', 'stood', 'looking', 'wondered', 'be', 'distinguish', 'go', 'asked', 'Feel', 'groaned', 'clambered', 'moved', 'pushed', 'had', 'left', 'made', 'cry', 'thinking', 'returning', 'giving', 'standing', 'waved', 'reached', 'grip', 'danced', 'painted', 'sobbed', 'waving', 'called', 'let', 'noted', 'played', 'had', 'stood', 'sliding', 'half-', 'emanating', 'filled', 'held', 'fell', 'beaming', 'mopping', 'waiting', 'speak', 'directed', 'chose', 'was', 'make', 'seeking', 'hidden', 'began', 'dropped', 'do', 'said', 'looked', 'expected', 'said', 'nodded', 'going', 'keep', 'said', 'beamed', 'pass', '’s', 'held', 'looked', 'deprived', 'like', 'see', 'want', 'said', 'said', 'know', '’s', 'said', 'rummaged', 'hung', 'pulled', 'connected', 'said', 'repaired', 'knew', 'work', 'laid', 'touched', 'said', 'resealed', 'flew', 'knew', 'succeeded', 'picked', 'felt', 'rejoicing', 'putting', 'told', 'watching', 'came', 'nodded', 'smiled', 'said', 'looked', 'think', '’s', 'said', '’s', 'said', 'turned', 'painted', 'thinking', 'lying', 'waiting', 'wondering', 'bring', 'had', 'seemed', 'arrive', 'bobbed', 'rumbling', 'sparkled', 'rattled', 'pushing', 'hooted', 'trailed', 'clutching', 'be', 'going', 'told', 'sniffed', 'want', 'go', 'stared', 'wove', 'drifted', 'surrounding', 'resumed', 'started', 'give', 'said', 'said', 'be', 'said', 'grinning', '’s', 'caught', 'fell', 'approached', 'took', 'broke', 'vanished', 'write', 'asked', 'capitalizing', 'want', 'said', 'said', 'says', 'get', 'wrote', 'said', 'want', 'believe', 'tells', 'put', 'likes', 'pushed', 'gathering', 'reached', 'winced', 'came', 'emerged', 'obscured', 'pouring', 'swarming', 'disappeared', 'asked', 'peering', 'passed', 'made', 'find', 'said', 'was', 'was', 'make', 'Detached', 'sounded', 'thought', 'heard', 'discoursing', 'was', 'stop', 'say', 'think', '’s', 'said', 'emerged', 'standing', 'came', 'drawn', 'know', 'going', 'go', 'looking', 'be', 'be', 'Let', 'forgotten', 'agree', 'know', 'fell', 'stay', 'die', 'broken', 'defeated', 'be', 'be', 'talk', 'talk', 'did', 'bashed', '’s', 'gone', 'let', 'have']\n"
          ],
          "name": "stdout"
        }
      ]
    },
    {
      "cell_type": "markdown",
      "metadata": {
        "id": "09T9pZR5HR2v"
      },
      "source": [
        "# Treetagger\n"
      ]
    },
    {
      "cell_type": "code",
      "metadata": {
        "id": "c3MUe8bzHYPz"
      },
      "source": [
        "pip install treetaggerwrapper"
      ],
      "execution_count": null,
      "outputs": []
    },
    {
      "cell_type": "code",
      "metadata": {
        "id": "lnbXsntwIfWf"
      },
      "source": [
        "import treetaggerwrapper"
      ],
      "execution_count": null,
      "outputs": []
    },
    {
      "cell_type": "code",
      "metadata": {
        "id": "pN9D6XohStqT"
      },
      "source": [
        "!pip show <treetaggerwrapper>"
      ],
      "execution_count": null,
      "outputs": []
    },
    {
      "cell_type": "code",
      "metadata": {
        "id": "1qHye1JWIUmw"
      },
      "source": [
        "tagger = treetaggerwrapper.TreeTagger(TAGLANG='en',TAGDIR = '/pip/wheels/46/64/50/b1944d17fbf5b2882438a50bb37b3d9549443ef29e121b9a38')"
      ],
      "execution_count": null,
      "outputs": []
    },
    {
      "cell_type": "code",
      "metadata": {
        "id": "ffXwsm85Idc2"
      },
      "source": [
        ""
      ],
      "execution_count": null,
      "outputs": []
    },
    {
      "cell_type": "markdown",
      "metadata": {
        "id": "hgeDvyoYWkWz"
      },
      "source": [
        "# Standford"
      ]
    },
    {
      "cell_type": "code",
      "metadata": {
        "colab": {
          "base_uri": "https://localhost:8080/"
        },
        "id": "Eekdmul9Wnoe",
        "outputId": "bc16db3d-b67d-423a-a86a-c2a360eb120a"
      },
      "source": [
        "!pip install stanfordnlp"
      ],
      "execution_count": null,
      "outputs": [
        {
          "output_type": "stream",
          "text": [
            "Collecting stanfordnlp\n",
            "\u001b[?25l  Downloading https://files.pythonhosted.org/packages/41/bf/5d2898febb6e993fcccd90484cba3c46353658511a41430012e901824e94/stanfordnlp-0.2.0-py3-none-any.whl (158kB)\n",
            "\r\u001b[K     |██                              | 10kB 4.7MB/s eta 0:00:01\r\u001b[K     |████▏                           | 20kB 8.1MB/s eta 0:00:01\r\u001b[K     |██████▏                         | 30kB 10.9MB/s eta 0:00:01\r\u001b[K     |████████▎                       | 40kB 13.4MB/s eta 0:00:01\r\u001b[K     |██████████▎                     | 51kB 15.5MB/s eta 0:00:01\r\u001b[K     |████████████▍                   | 61kB 17.5MB/s eta 0:00:01\r\u001b[K     |██████████████▌                 | 71kB 18.6MB/s eta 0:00:01\r\u001b[K     |████████████████▌               | 81kB 19.9MB/s eta 0:00:01\r\u001b[K     |██████████████████▋             | 92kB 21.2MB/s eta 0:00:01\r\u001b[K     |████████████████████▋           | 102kB 19.9MB/s eta 0:00:01\r\u001b[K     |██████████████████████▊         | 112kB 19.9MB/s eta 0:00:01\r\u001b[K     |████████████████████████▊       | 122kB 19.9MB/s eta 0:00:01\r\u001b[K     |██████████████████████████▉     | 133kB 19.9MB/s eta 0:00:01\r\u001b[K     |█████████████████████████████   | 143kB 19.9MB/s eta 0:00:01\r\u001b[K     |███████████████████████████████ | 153kB 19.9MB/s eta 0:00:01\r\u001b[K     |████████████████████████████████| 163kB 19.9MB/s \n",
            "\u001b[?25hRequirement already satisfied: tqdm in /usr/local/lib/python3.7/dist-packages (from stanfordnlp) (4.41.1)\n",
            "Requirement already satisfied: torch>=1.0.0 in /usr/local/lib/python3.7/dist-packages (from stanfordnlp) (1.8.1+cu101)\n",
            "Requirement already satisfied: requests in /usr/local/lib/python3.7/dist-packages (from stanfordnlp) (2.23.0)\n",
            "Requirement already satisfied: protobuf in /usr/local/lib/python3.7/dist-packages (from stanfordnlp) (3.12.4)\n",
            "Requirement already satisfied: numpy in /usr/local/lib/python3.7/dist-packages (from stanfordnlp) (1.19.5)\n",
            "Requirement already satisfied: typing-extensions in /usr/local/lib/python3.7/dist-packages (from torch>=1.0.0->stanfordnlp) (3.7.4.3)\n",
            "Requirement already satisfied: urllib3!=1.25.0,!=1.25.1,<1.26,>=1.21.1 in /usr/local/lib/python3.7/dist-packages (from requests->stanfordnlp) (1.24.3)\n",
            "Requirement already satisfied: idna<3,>=2.5 in /usr/local/lib/python3.7/dist-packages (from requests->stanfordnlp) (2.10)\n",
            "Requirement already satisfied: chardet<4,>=3.0.2 in /usr/local/lib/python3.7/dist-packages (from requests->stanfordnlp) (3.0.4)\n",
            "Requirement already satisfied: certifi>=2017.4.17 in /usr/local/lib/python3.7/dist-packages (from requests->stanfordnlp) (2020.12.5)\n",
            "Requirement already satisfied: six>=1.9 in /usr/local/lib/python3.7/dist-packages (from protobuf->stanfordnlp) (1.15.0)\n",
            "Requirement already satisfied: setuptools in /usr/local/lib/python3.7/dist-packages (from protobuf->stanfordnlp) (56.0.0)\n",
            "Installing collected packages: stanfordnlp\n",
            "Successfully installed stanfordnlp-0.2.0\n"
          ],
          "name": "stdout"
        }
      ]
    },
    {
      "cell_type": "code",
      "metadata": {
        "colab": {
          "base_uri": "https://localhost:8080/"
        },
        "id": "ckQvKYnQWrni",
        "outputId": "adb883ba-359a-440a-c616-1f11ab98bdf4"
      },
      "source": [
        "!pip install pycorenlp"
      ],
      "execution_count": null,
      "outputs": [
        {
          "output_type": "stream",
          "text": [
            "Collecting pycorenlp\n",
            "  Downloading https://files.pythonhosted.org/packages/cd/40/e74eb4fc7906d630b73a84c9ae9d824f694bd4c5a1d727b8e18beadff613/pycorenlp-0.3.0.tar.gz\n",
            "Requirement already satisfied: requests in /usr/local/lib/python3.7/dist-packages (from pycorenlp) (2.23.0)\n",
            "Requirement already satisfied: idna<3,>=2.5 in /usr/local/lib/python3.7/dist-packages (from requests->pycorenlp) (2.10)\n",
            "Requirement already satisfied: urllib3!=1.25.0,!=1.25.1,<1.26,>=1.21.1 in /usr/local/lib/python3.7/dist-packages (from requests->pycorenlp) (1.24.3)\n",
            "Requirement already satisfied: chardet<4,>=3.0.2 in /usr/local/lib/python3.7/dist-packages (from requests->pycorenlp) (3.0.4)\n",
            "Requirement already satisfied: certifi>=2017.4.17 in /usr/local/lib/python3.7/dist-packages (from requests->pycorenlp) (2020.12.5)\n",
            "Building wheels for collected packages: pycorenlp\n",
            "  Building wheel for pycorenlp (setup.py) ... \u001b[?25l\u001b[?25hdone\n",
            "  Created wheel for pycorenlp: filename=pycorenlp-0.3.0-cp37-none-any.whl size=2144 sha256=7102d244b826991328e6a252d499ef524edd221595905d183c113c194c0b97c2\n",
            "  Stored in directory: /root/.cache/pip/wheels/fb/e9/2f/767a7b5f2e82d587a36143c04a21839b4b14bebfb89410d2d5\n",
            "Successfully built pycorenlp\n",
            "Installing collected packages: pycorenlp\n",
            "Successfully installed pycorenlp-0.3.0\n"
          ],
          "name": "stdout"
        }
      ]
    },
    {
      "cell_type": "code",
      "metadata": {
        "colab": {
          "base_uri": "https://localhost:8080/"
        },
        "id": "NNmmCxg5XJmm",
        "outputId": "3fc3aa04-7b23-4624-95f6-935389684297"
      },
      "source": [
        "import stanfordnlp\n",
        "stanfordnlp.download('en') "
      ],
      "execution_count": null,
      "outputs": [
        {
          "output_type": "stream",
          "text": [
            "Using the default treebank \"en_ewt\" for language \"en\".\n",
            "Would you like to download the models for: en_ewt now? (Y/n)\n",
            "Y\n",
            "\n",
            "Default download directory: /root/stanfordnlp_resources\n",
            "Hit enter to continue or type an alternate directory.\n",
            "\n",
            "\n",
            "Downloading models for: en_ewt\n",
            "Download location: /root/stanfordnlp_resources/en_ewt_models.zip\n"
          ],
          "name": "stdout"
        },
        {
          "output_type": "stream",
          "text": [
            "100%|██████████| 235M/235M [00:43<00:00, 5.36MB/s]\n"
          ],
          "name": "stderr"
        },
        {
          "output_type": "stream",
          "text": [
            "\n",
            "Download complete.  Models saved to: /root/stanfordnlp_resources/en_ewt_models.zip\n",
            "Extracting models file for: en_ewt\n",
            "Cleaning up...Done.\n"
          ],
          "name": "stdout"
        }
      ]
    },
    {
      "cell_type": "code",
      "metadata": {
        "colab": {
          "base_uri": "https://localhost:8080/"
        },
        "id": "zEzivJCuYedy",
        "outputId": "0653c490-b4dd-4e29-ba9e-214c4e5192d0"
      },
      "source": [
        "nlp = stanfordnlp.Pipeline()"
      ],
      "execution_count": null,
      "outputs": [
        {
          "output_type": "stream",
          "text": [
            "Use device: cpu\n",
            "---\n",
            "Loading: tokenize\n",
            "With settings: \n",
            "{'model_path': '/root/stanfordnlp_resources/en_ewt_models/en_ewt_tokenizer.pt', 'lang': 'en', 'shorthand': 'en_ewt', 'mode': 'predict'}\n",
            "---\n",
            "Loading: pos\n",
            "With settings: \n",
            "{'model_path': '/root/stanfordnlp_resources/en_ewt_models/en_ewt_tagger.pt', 'pretrain_path': '/root/stanfordnlp_resources/en_ewt_models/en_ewt.pretrain.pt', 'lang': 'en', 'shorthand': 'en_ewt', 'mode': 'predict'}\n",
            "---\n",
            "Loading: lemma\n",
            "With settings: \n",
            "{'model_path': '/root/stanfordnlp_resources/en_ewt_models/en_ewt_lemmatizer.pt', 'lang': 'en', 'shorthand': 'en_ewt', 'mode': 'predict'}\n",
            "Building an attentional Seq2Seq model...\n",
            "Using a Bi-LSTM encoder\n",
            "Using soft attention for LSTM.\n",
            "Finetune all embeddings.\n",
            "[Running seq2seq lemmatizer with edit classifier]\n",
            "---\n",
            "Loading: depparse\n",
            "With settings: \n",
            "{'model_path': '/root/stanfordnlp_resources/en_ewt_models/en_ewt_parser.pt', 'pretrain_path': '/root/stanfordnlp_resources/en_ewt_models/en_ewt.pretrain.pt', 'lang': 'en', 'shorthand': 'en_ewt', 'mode': 'predict'}\n",
            "Done loading processors!\n",
            "---\n"
          ],
          "name": "stdout"
        }
      ]
    },
    {
      "cell_type": "code",
      "metadata": {
        "colab": {
          "base_uri": "https://localhost:8080/",
          "height": 310
        },
        "id": "5TCn6n_wYhRj",
        "outputId": "fc830d3d-5e1f-4042-fc7b-254a4f2935f7"
      },
      "source": [
        "doc = nlp(en_content)"
      ],
      "execution_count": null,
      "outputs": [
        {
          "output_type": "error",
          "ename": "RuntimeError",
          "evalue": "ignored",
          "traceback": [
            "\u001b[0;31m---------------------------------------------------------------------------\u001b[0m",
            "\u001b[0;31mRuntimeError\u001b[0m                              Traceback (most recent call last)",
            "\u001b[0;32m<ipython-input-31-4d8e01cb9ddf>\u001b[0m in \u001b[0;36m<module>\u001b[0;34m()\u001b[0m\n\u001b[0;32m----> 1\u001b[0;31m \u001b[0mdoc\u001b[0m \u001b[0;34m=\u001b[0m \u001b[0mnlp\u001b[0m \u001b[0;34m(\u001b[0m\u001b[0men_content\u001b[0m\u001b[0;34m)\u001b[0m\u001b[0;34m\u001b[0m\u001b[0;34m\u001b[0m\u001b[0m\n\u001b[0m",
            "\u001b[0;32m/usr/local/lib/python3.7/dist-packages/stanfordnlp/pipeline/core.py\u001b[0m in \u001b[0;36m__call__\u001b[0;34m(self, doc)\u001b[0m\n\u001b[1;32m    174\u001b[0m         \u001b[0;32mif\u001b[0m \u001b[0misinstance\u001b[0m\u001b[0;34m(\u001b[0m\u001b[0mdoc\u001b[0m\u001b[0;34m,\u001b[0m \u001b[0mstr\u001b[0m\u001b[0;34m)\u001b[0m \u001b[0;32mor\u001b[0m \u001b[0misinstance\u001b[0m\u001b[0;34m(\u001b[0m\u001b[0mdoc\u001b[0m\u001b[0;34m,\u001b[0m \u001b[0mlist\u001b[0m\u001b[0;34m)\u001b[0m\u001b[0;34m:\u001b[0m\u001b[0;34m\u001b[0m\u001b[0;34m\u001b[0m\u001b[0m\n\u001b[1;32m    175\u001b[0m             \u001b[0mdoc\u001b[0m \u001b[0;34m=\u001b[0m \u001b[0mDocument\u001b[0m\u001b[0;34m(\u001b[0m\u001b[0mdoc\u001b[0m\u001b[0;34m)\u001b[0m\u001b[0;34m\u001b[0m\u001b[0;34m\u001b[0m\u001b[0m\n\u001b[0;32m--> 176\u001b[0;31m         \u001b[0mself\u001b[0m\u001b[0;34m.\u001b[0m\u001b[0mprocess\u001b[0m\u001b[0;34m(\u001b[0m\u001b[0mdoc\u001b[0m\u001b[0;34m)\u001b[0m\u001b[0;34m\u001b[0m\u001b[0;34m\u001b[0m\u001b[0m\n\u001b[0m\u001b[1;32m    177\u001b[0m         \u001b[0;32mreturn\u001b[0m \u001b[0mdoc\u001b[0m\u001b[0;34m\u001b[0m\u001b[0;34m\u001b[0m\u001b[0m\n",
            "\u001b[0;32m/usr/local/lib/python3.7/dist-packages/stanfordnlp/pipeline/core.py\u001b[0m in \u001b[0;36mprocess\u001b[0;34m(self, doc)\u001b[0m\n\u001b[1;32m    168\u001b[0m         \u001b[0;32mfor\u001b[0m \u001b[0mprocessor_name\u001b[0m \u001b[0;32min\u001b[0m \u001b[0mself\u001b[0m\u001b[0;34m.\u001b[0m\u001b[0mprocessor_names\u001b[0m\u001b[0;34m:\u001b[0m\u001b[0;34m\u001b[0m\u001b[0;34m\u001b[0m\u001b[0m\n\u001b[1;32m    169\u001b[0m             \u001b[0;32mif\u001b[0m \u001b[0mself\u001b[0m\u001b[0;34m.\u001b[0m\u001b[0mprocessors\u001b[0m\u001b[0;34m[\u001b[0m\u001b[0mprocessor_name\u001b[0m\u001b[0;34m]\u001b[0m \u001b[0;32mis\u001b[0m \u001b[0;32mnot\u001b[0m \u001b[0;32mNone\u001b[0m\u001b[0;34m:\u001b[0m\u001b[0;34m\u001b[0m\u001b[0;34m\u001b[0m\u001b[0m\n\u001b[0;32m--> 170\u001b[0;31m                 \u001b[0mself\u001b[0m\u001b[0;34m.\u001b[0m\u001b[0mprocessors\u001b[0m\u001b[0;34m[\u001b[0m\u001b[0mprocessor_name\u001b[0m\u001b[0;34m]\u001b[0m\u001b[0;34m.\u001b[0m\u001b[0mprocess\u001b[0m\u001b[0;34m(\u001b[0m\u001b[0mdoc\u001b[0m\u001b[0;34m)\u001b[0m\u001b[0;34m\u001b[0m\u001b[0;34m\u001b[0m\u001b[0m\n\u001b[0m\u001b[1;32m    171\u001b[0m         \u001b[0mdoc\u001b[0m\u001b[0;34m.\u001b[0m\u001b[0mload_annotations\u001b[0m\u001b[0;34m(\u001b[0m\u001b[0;34m)\u001b[0m\u001b[0;34m\u001b[0m\u001b[0;34m\u001b[0m\u001b[0m\n\u001b[1;32m    172\u001b[0m \u001b[0;34m\u001b[0m\u001b[0m\n",
            "\u001b[0;32m/usr/local/lib/python3.7/dist-packages/stanfordnlp/pipeline/lemma_processor.py\u001b[0m in \u001b[0;36mprocess\u001b[0;34m(self, doc)\u001b[0m\n\u001b[1;32m     64\u001b[0m             \u001b[0medits\u001b[0m \u001b[0;34m=\u001b[0m \u001b[0;34m[\u001b[0m\u001b[0;34m]\u001b[0m\u001b[0;34m\u001b[0m\u001b[0;34m\u001b[0m\u001b[0m\n\u001b[1;32m     65\u001b[0m             \u001b[0;32mfor\u001b[0m \u001b[0mi\u001b[0m\u001b[0;34m,\u001b[0m \u001b[0mb\u001b[0m \u001b[0;32min\u001b[0m \u001b[0menumerate\u001b[0m\u001b[0;34m(\u001b[0m\u001b[0mseq2seq_batch\u001b[0m\u001b[0;34m)\u001b[0m\u001b[0;34m:\u001b[0m\u001b[0;34m\u001b[0m\u001b[0;34m\u001b[0m\u001b[0m\n\u001b[0;32m---> 66\u001b[0;31m                 \u001b[0mps\u001b[0m\u001b[0;34m,\u001b[0m \u001b[0mes\u001b[0m \u001b[0;34m=\u001b[0m \u001b[0mself\u001b[0m\u001b[0;34m.\u001b[0m\u001b[0mtrainer\u001b[0m\u001b[0;34m.\u001b[0m\u001b[0mpredict\u001b[0m\u001b[0;34m(\u001b[0m\u001b[0mb\u001b[0m\u001b[0;34m,\u001b[0m \u001b[0mself\u001b[0m\u001b[0;34m.\u001b[0m\u001b[0mconfig\u001b[0m\u001b[0;34m[\u001b[0m\u001b[0;34m'beam_size'\u001b[0m\u001b[0;34m]\u001b[0m\u001b[0;34m)\u001b[0m\u001b[0;34m\u001b[0m\u001b[0;34m\u001b[0m\u001b[0m\n\u001b[0m\u001b[1;32m     67\u001b[0m                 \u001b[0mpreds\u001b[0m \u001b[0;34m+=\u001b[0m \u001b[0mps\u001b[0m\u001b[0;34m\u001b[0m\u001b[0;34m\u001b[0m\u001b[0m\n\u001b[1;32m     68\u001b[0m                 \u001b[0;32mif\u001b[0m \u001b[0mes\u001b[0m \u001b[0;32mis\u001b[0m \u001b[0;32mnot\u001b[0m \u001b[0;32mNone\u001b[0m\u001b[0;34m:\u001b[0m\u001b[0;34m\u001b[0m\u001b[0;34m\u001b[0m\u001b[0m\n",
            "\u001b[0;32m/usr/local/lib/python3.7/dist-packages/stanfordnlp/models/lemma/trainer.py\u001b[0m in \u001b[0;36mpredict\u001b[0;34m(self, batch, beam_size)\u001b[0m\n\u001b[1;32m     86\u001b[0m         \u001b[0mself\u001b[0m\u001b[0;34m.\u001b[0m\u001b[0mmodel\u001b[0m\u001b[0;34m.\u001b[0m\u001b[0meval\u001b[0m\u001b[0;34m(\u001b[0m\u001b[0;34m)\u001b[0m\u001b[0;34m\u001b[0m\u001b[0;34m\u001b[0m\u001b[0m\n\u001b[1;32m     87\u001b[0m         \u001b[0mbatch_size\u001b[0m \u001b[0;34m=\u001b[0m \u001b[0msrc\u001b[0m\u001b[0;34m.\u001b[0m\u001b[0msize\u001b[0m\u001b[0;34m(\u001b[0m\u001b[0;36m0\u001b[0m\u001b[0;34m)\u001b[0m\u001b[0;34m\u001b[0m\u001b[0;34m\u001b[0m\u001b[0m\n\u001b[0;32m---> 88\u001b[0;31m         \u001b[0mpreds\u001b[0m\u001b[0;34m,\u001b[0m \u001b[0medit_logits\u001b[0m \u001b[0;34m=\u001b[0m \u001b[0mself\u001b[0m\u001b[0;34m.\u001b[0m\u001b[0mmodel\u001b[0m\u001b[0;34m.\u001b[0m\u001b[0mpredict\u001b[0m\u001b[0;34m(\u001b[0m\u001b[0msrc\u001b[0m\u001b[0;34m,\u001b[0m \u001b[0msrc_mask\u001b[0m\u001b[0;34m,\u001b[0m \u001b[0mpos\u001b[0m\u001b[0;34m=\u001b[0m\u001b[0mpos\u001b[0m\u001b[0;34m,\u001b[0m \u001b[0mbeam_size\u001b[0m\u001b[0;34m=\u001b[0m\u001b[0mbeam_size\u001b[0m\u001b[0;34m)\u001b[0m\u001b[0;34m\u001b[0m\u001b[0;34m\u001b[0m\u001b[0m\n\u001b[0m\u001b[1;32m     89\u001b[0m         \u001b[0mpred_seqs\u001b[0m \u001b[0;34m=\u001b[0m \u001b[0;34m[\u001b[0m\u001b[0mself\u001b[0m\u001b[0;34m.\u001b[0m\u001b[0mvocab\u001b[0m\u001b[0;34m[\u001b[0m\u001b[0;34m'char'\u001b[0m\u001b[0;34m]\u001b[0m\u001b[0;34m.\u001b[0m\u001b[0munmap\u001b[0m\u001b[0;34m(\u001b[0m\u001b[0mids\u001b[0m\u001b[0;34m)\u001b[0m \u001b[0;32mfor\u001b[0m \u001b[0mids\u001b[0m \u001b[0;32min\u001b[0m \u001b[0mpreds\u001b[0m\u001b[0;34m]\u001b[0m \u001b[0;31m# unmap to tokens\u001b[0m\u001b[0;34m\u001b[0m\u001b[0;34m\u001b[0m\u001b[0m\n\u001b[1;32m     90\u001b[0m         \u001b[0mpred_seqs\u001b[0m \u001b[0;34m=\u001b[0m \u001b[0mutils\u001b[0m\u001b[0;34m.\u001b[0m\u001b[0mprune_decoded_seqs\u001b[0m\u001b[0;34m(\u001b[0m\u001b[0mpred_seqs\u001b[0m\u001b[0;34m)\u001b[0m\u001b[0;34m\u001b[0m\u001b[0;34m\u001b[0m\u001b[0m\n",
            "\u001b[0;32m/usr/local/lib/python3.7/dist-packages/stanfordnlp/models/common/seq2seq_model.py\u001b[0m in \u001b[0;36mpredict\u001b[0;34m(self, src, src_mask, pos, beam_size)\u001b[0m\n\u001b[1;32m    208\u001b[0m                     \u001b[0mdone\u001b[0m \u001b[0;34m+=\u001b[0m \u001b[0;34m[\u001b[0m\u001b[0mb\u001b[0m\u001b[0;34m]\u001b[0m\u001b[0;34m\u001b[0m\u001b[0;34m\u001b[0m\u001b[0m\n\u001b[1;32m    209\u001b[0m                 \u001b[0;31m# update beam state\u001b[0m\u001b[0;34m\u001b[0m\u001b[0;34m\u001b[0m\u001b[0;34m\u001b[0m\u001b[0m\n\u001b[0;32m--> 210\u001b[0;31m                 \u001b[0mupdate_state\u001b[0m\u001b[0;34m(\u001b[0m\u001b[0;34m(\u001b[0m\u001b[0mhn\u001b[0m\u001b[0;34m,\u001b[0m \u001b[0mcn\u001b[0m\u001b[0;34m)\u001b[0m\u001b[0;34m,\u001b[0m \u001b[0mb\u001b[0m\u001b[0;34m,\u001b[0m \u001b[0mbeam\u001b[0m\u001b[0;34m[\u001b[0m\u001b[0mb\u001b[0m\u001b[0;34m]\u001b[0m\u001b[0;34m.\u001b[0m\u001b[0mget_current_origin\u001b[0m\u001b[0;34m(\u001b[0m\u001b[0;34m)\u001b[0m\u001b[0;34m,\u001b[0m \u001b[0mbeam_size\u001b[0m\u001b[0;34m)\u001b[0m\u001b[0;34m\u001b[0m\u001b[0;34m\u001b[0m\u001b[0m\n\u001b[0m\u001b[1;32m    211\u001b[0m \u001b[0;34m\u001b[0m\u001b[0m\n\u001b[1;32m    212\u001b[0m             \u001b[0;32mif\u001b[0m \u001b[0mlen\u001b[0m\u001b[0;34m(\u001b[0m\u001b[0mdone\u001b[0m\u001b[0;34m)\u001b[0m \u001b[0;34m==\u001b[0m \u001b[0mbatch_size\u001b[0m\u001b[0;34m:\u001b[0m\u001b[0;34m\u001b[0m\u001b[0;34m\u001b[0m\u001b[0m\n",
            "\u001b[0;32m/usr/local/lib/python3.7/dist-packages/stanfordnlp/models/common/seq2seq_model.py\u001b[0m in \u001b[0;36mupdate_state\u001b[0;34m(states, idx, positions, beam_size)\u001b[0m\n\u001b[1;32m    191\u001b[0m                 \u001b[0mbr\u001b[0m\u001b[0;34m,\u001b[0m \u001b[0md\u001b[0m \u001b[0;34m=\u001b[0m \u001b[0me\u001b[0m\u001b[0;34m.\u001b[0m\u001b[0msize\u001b[0m\u001b[0;34m(\u001b[0m\u001b[0;34m)\u001b[0m\u001b[0;34m\u001b[0m\u001b[0;34m\u001b[0m\u001b[0m\n\u001b[1;32m    192\u001b[0m                 \u001b[0ms\u001b[0m \u001b[0;34m=\u001b[0m \u001b[0me\u001b[0m\u001b[0;34m.\u001b[0m\u001b[0mcontiguous\u001b[0m\u001b[0;34m(\u001b[0m\u001b[0;34m)\u001b[0m\u001b[0;34m.\u001b[0m\u001b[0mview\u001b[0m\u001b[0;34m(\u001b[0m\u001b[0mbeam_size\u001b[0m\u001b[0;34m,\u001b[0m \u001b[0mbr\u001b[0m \u001b[0;34m//\u001b[0m \u001b[0mbeam_size\u001b[0m\u001b[0;34m,\u001b[0m \u001b[0md\u001b[0m\u001b[0;34m)\u001b[0m\u001b[0;34m[\u001b[0m\u001b[0;34m:\u001b[0m\u001b[0;34m,\u001b[0m\u001b[0midx\u001b[0m\u001b[0;34m]\u001b[0m\u001b[0;34m\u001b[0m\u001b[0;34m\u001b[0m\u001b[0m\n\u001b[0;32m--> 193\u001b[0;31m                 \u001b[0ms\u001b[0m\u001b[0;34m.\u001b[0m\u001b[0mdata\u001b[0m\u001b[0;34m.\u001b[0m\u001b[0mcopy_\u001b[0m\u001b[0;34m(\u001b[0m\u001b[0ms\u001b[0m\u001b[0;34m.\u001b[0m\u001b[0mdata\u001b[0m\u001b[0;34m.\u001b[0m\u001b[0mindex_select\u001b[0m\u001b[0;34m(\u001b[0m\u001b[0;36m0\u001b[0m\u001b[0;34m,\u001b[0m \u001b[0mpositions\u001b[0m\u001b[0;34m)\u001b[0m\u001b[0;34m)\u001b[0m\u001b[0;34m\u001b[0m\u001b[0;34m\u001b[0m\u001b[0m\n\u001b[0m\u001b[1;32m    194\u001b[0m \u001b[0;34m\u001b[0m\u001b[0m\n\u001b[1;32m    195\u001b[0m         \u001b[0;31m# (3) main loop\u001b[0m\u001b[0;34m\u001b[0m\u001b[0;34m\u001b[0m\u001b[0;34m\u001b[0m\u001b[0m\n",
            "\u001b[0;31mRuntimeError\u001b[0m: index_select(): Expected dtype int32 or int64 for index"
          ]
        }
      ]
    },
    {
      "cell_type": "code",
      "metadata": {
        "id": "Z_Ne2YODYkYo"
      },
      "source": [
        "doc.sentences[0].print_dependencies()"
      ],
      "execution_count": null,
      "outputs": []
    },
    {
      "cell_type": "markdown",
      "metadata": {
        "id": "XPrL99Yl1izO"
      },
      "source": [
        "# Pattern\n"
      ]
    },
    {
      "cell_type": "code",
      "metadata": {
        "colab": {
          "base_uri": "https://localhost:8080/"
        },
        "id": "5dCBy_-M3Ofz",
        "outputId": "5f07afbe-b301-4644-b27a-18c4b15a2775"
      },
      "source": [
        "pip install Pattern"
      ],
      "execution_count": null,
      "outputs": [
        {
          "output_type": "stream",
          "text": [
            "Collecting Pattern\n",
            "\u001b[?25l  Downloading https://files.pythonhosted.org/packages/1e/07/b0e61b6c818ed4b6145fe01d1c341223aa6cfbc3928538ad1f2b890924a3/Pattern-3.6.0.tar.gz (22.2MB)\n",
            "\u001b[K     |████████████████████████████████| 22.3MB 39.7MB/s \n",
            "\u001b[?25hRequirement already satisfied: future in /usr/local/lib/python3.7/dist-packages (from Pattern) (0.16.0)\n",
            "Collecting backports.csv\n",
            "  Downloading https://files.pythonhosted.org/packages/8e/26/a6bd68f13e0f38fbb643d6e497fc3462be83a0b6c4d43425c78bb51a7291/backports.csv-1.0.7-py2.py3-none-any.whl\n",
            "Collecting mysqlclient\n",
            "\u001b[?25l  Downloading https://files.pythonhosted.org/packages/3c/df/59cd2fa5e48d0804d213bdcb1acb4d08c403b61c7ff7ed4dd4a6a2deb3f7/mysqlclient-2.0.3.tar.gz (88kB)\n",
            "\u001b[K     |████████████████████████████████| 92kB 7.9MB/s \n",
            "\u001b[?25hRequirement already satisfied: beautifulsoup4 in /usr/local/lib/python3.7/dist-packages (from Pattern) (4.6.3)\n",
            "Requirement already satisfied: lxml in /usr/local/lib/python3.7/dist-packages (from Pattern) (4.2.6)\n",
            "Collecting feedparser\n",
            "\u001b[?25l  Downloading https://files.pythonhosted.org/packages/1c/21/faf1bac028662cc8adb2b5ef7a6f3999a765baa2835331df365289b0ca56/feedparser-6.0.2-py3-none-any.whl (80kB)\n",
            "\u001b[K     |████████████████████████████████| 81kB 9.2MB/s \n",
            "\u001b[?25hCollecting pdfminer.six\n",
            "\u001b[?25l  Downloading https://files.pythonhosted.org/packages/93/f3/4fec7dabe8802ebec46141345bf714cd1fc7d93cb74ddde917e4b6d97d88/pdfminer.six-20201018-py3-none-any.whl (5.6MB)\n",
            "\u001b[K     |████████████████████████████████| 5.6MB 27.0MB/s \n",
            "\u001b[?25hRequirement already satisfied: numpy in /usr/local/lib/python3.7/dist-packages (from Pattern) (1.19.5)\n",
            "Requirement already satisfied: scipy in /usr/local/lib/python3.7/dist-packages (from Pattern) (1.4.1)\n",
            "Requirement already satisfied: nltk in /usr/local/lib/python3.7/dist-packages (from Pattern) (3.2.5)\n",
            "Collecting python-docx\n",
            "\u001b[?25l  Downloading https://files.pythonhosted.org/packages/e4/83/c66a1934ed5ed8ab1dbb9931f1779079f8bca0f6bbc5793c06c4b5e7d671/python-docx-0.8.10.tar.gz (5.5MB)\n",
            "\u001b[K     |████████████████████████████████| 5.5MB 38.6MB/s \n",
            "\u001b[?25hCollecting cherrypy\n",
            "\u001b[?25l  Downloading https://files.pythonhosted.org/packages/a8/f9/e11f893dcabe6bc222a1442bf5e14f0322a2d363c92910ed41947078a35a/CherryPy-18.6.0-py2.py3-none-any.whl (419kB)\n",
            "\u001b[K     |████████████████████████████████| 419kB 39.5MB/s \n",
            "\u001b[?25hRequirement already satisfied: requests in /usr/local/lib/python3.7/dist-packages (from Pattern) (2.23.0)\n",
            "Collecting sgmllib3k\n",
            "  Downloading https://files.pythonhosted.org/packages/9e/bd/3704a8c3e0942d711c1299ebf7b9091930adae6675d7c8f476a7ce48653c/sgmllib3k-1.0.0.tar.gz\n",
            "Requirement already satisfied: sortedcontainers in /usr/local/lib/python3.7/dist-packages (from pdfminer.six->Pattern) (2.3.0)\n",
            "Requirement already satisfied: chardet; python_version > \"3.0\" in /usr/local/lib/python3.7/dist-packages (from pdfminer.six->Pattern) (3.0.4)\n",
            "Collecting cryptography\n",
            "\u001b[?25l  Downloading https://files.pythonhosted.org/packages/b2/26/7af637e6a7e87258b963f1731c5982fb31cd507f0d90d91836e446955d02/cryptography-3.4.7-cp36-abi3-manylinux2014_x86_64.whl (3.2MB)\n",
            "\u001b[K     |████████████████████████████████| 3.2MB 30.5MB/s \n",
            "\u001b[?25hRequirement already satisfied: six in /usr/local/lib/python3.7/dist-packages (from nltk->Pattern) (1.15.0)\n",
            "Requirement already satisfied: more-itertools in /usr/local/lib/python3.7/dist-packages (from cherrypy->Pattern) (8.7.0)\n",
            "Collecting jaraco.collections\n",
            "  Downloading https://files.pythonhosted.org/packages/d5/1a/a0d6861d2aca6df92643c755966c8a60e40353e4c5e7a5c2f4e5ed733817/jaraco.collections-3.3.0-py3-none-any.whl\n",
            "Collecting zc.lockfile\n",
            "  Downloading https://files.pythonhosted.org/packages/6c/2a/268389776288f0f26c7272c70c36c96dcc0bdb88ab6216ea18e19df1fadd/zc.lockfile-2.0-py2.py3-none-any.whl\n",
            "Collecting portend>=2.1.1\n",
            "  Downloading https://files.pythonhosted.org/packages/b8/a1/fd29409cced540facdd29abb986d988cb1f22c8170d10022ea73af77fa55/portend-2.7.1-py3-none-any.whl\n",
            "Collecting cheroot>=8.2.1\n",
            "\u001b[?25l  Downloading https://files.pythonhosted.org/packages/46/95/86fe6480af78fea7b0e7e1bf02e6acd4cb9e561ea200bd6d6e1398fe5426/cheroot-8.5.2-py2.py3-none-any.whl (97kB)\n",
            "\u001b[K     |████████████████████████████████| 102kB 10.7MB/s \n",
            "\u001b[?25hRequirement already satisfied: urllib3!=1.25.0,!=1.25.1,<1.26,>=1.21.1 in /usr/local/lib/python3.7/dist-packages (from requests->Pattern) (1.24.3)\n",
            "Requirement already satisfied: certifi>=2017.4.17 in /usr/local/lib/python3.7/dist-packages (from requests->Pattern) (2020.12.5)\n",
            "Requirement already satisfied: idna<3,>=2.5 in /usr/local/lib/python3.7/dist-packages (from requests->Pattern) (2.10)\n",
            "Requirement already satisfied: cffi>=1.12 in /usr/local/lib/python3.7/dist-packages (from cryptography->pdfminer.six->Pattern) (1.14.5)\n",
            "Collecting jaraco.text\n",
            "  Downloading https://files.pythonhosted.org/packages/c1/74/2a3c4835c079df16db8a9c50263eebb0125849fee5b16de353a059b7545d/jaraco.text-3.5.0-py3-none-any.whl\n",
            "Collecting jaraco.classes\n",
            "  Downloading https://files.pythonhosted.org/packages/b8/74/bee5fc11594974746535117546404678fc7b899476e769c3c55bc0cfaa02/jaraco.classes-3.2.1-py3-none-any.whl\n",
            "Requirement already satisfied: setuptools in /usr/local/lib/python3.7/dist-packages (from zc.lockfile->cherrypy->Pattern) (56.0.0)\n",
            "Collecting tempora>=1.8\n",
            "  Downloading https://files.pythonhosted.org/packages/44/83/4d5c3de53bbc463f30ab6764e27bc2e8ed9b59736e8b40d95403ff802008/tempora-4.0.2-py3-none-any.whl\n",
            "Collecting jaraco.functools\n",
            "  Downloading https://files.pythonhosted.org/packages/b5/da/e51e7b58c8fe132990edd1e3ef25bcd9801eb7f91d0f642ac7f8d97e4a36/jaraco.functools-3.3.0-py3-none-any.whl\n",
            "Requirement already satisfied: pycparser in /usr/local/lib/python3.7/dist-packages (from cffi>=1.12->cryptography->pdfminer.six->Pattern) (2.20)\n",
            "Requirement already satisfied: pytz in /usr/local/lib/python3.7/dist-packages (from tempora>=1.8->portend>=2.1.1->cherrypy->Pattern) (2018.9)\n",
            "Building wheels for collected packages: Pattern, mysqlclient, python-docx, sgmllib3k\n",
            "  Building wheel for Pattern (setup.py) ... \u001b[?25l\u001b[?25hdone\n",
            "  Created wheel for Pattern: filename=Pattern-3.6-cp37-none-any.whl size=22332724 sha256=66e39c3aa95a07e49941175d1d9505ce3df6451001a9c5022a5b81e25c0ba65f\n",
            "  Stored in directory: /root/.cache/pip/wheels/dc/9a/0e/5fb1a603ed4e3aa8722a88e9cf4a82da7d1b63e3d2cc34bee5\n",
            "  Building wheel for mysqlclient (setup.py) ... \u001b[?25l\u001b[?25hdone\n",
            "  Created wheel for mysqlclient: filename=mysqlclient-2.0.3-cp37-cp37m-linux_x86_64.whl size=100097 sha256=2fd5525946c438c75979ff7ecde19881c18a4769b6fa4f70cc5f4d6384f2feb0\n",
            "  Stored in directory: /root/.cache/pip/wheels/75/ca/e8/ad4e7ce3df18bcd91c7d84dd28c7c08db491a2a2360efed363\n",
            "  Building wheel for python-docx (setup.py) ... \u001b[?25l\u001b[?25hdone\n",
            "  Created wheel for python-docx: filename=python_docx-0.8.10-cp37-none-any.whl size=184491 sha256=979ffdda6dc0ef7f411b5b2b6e906a2335ae9bfcb2ecc0dba46be19e24d56683\n",
            "  Stored in directory: /root/.cache/pip/wheels/18/0b/a0/1dd62ff812c857c9e487f27d80d53d2b40531bec1acecfa47b\n",
            "  Building wheel for sgmllib3k (setup.py) ... \u001b[?25l\u001b[?25hdone\n",
            "  Created wheel for sgmllib3k: filename=sgmllib3k-1.0.0-cp37-none-any.whl size=6067 sha256=07893cd61675496a0badb8d22b2e09dc0bb4424fb5802f8d102c7bd4e8577749\n",
            "  Stored in directory: /root/.cache/pip/wheels/f1/80/5a/444ba08a550cdd241bd9baf8bae44be750efe370adb944506a\n",
            "Successfully built Pattern mysqlclient python-docx sgmllib3k\n",
            "Installing collected packages: backports.csv, mysqlclient, sgmllib3k, feedparser, cryptography, pdfminer.six, python-docx, jaraco.functools, jaraco.text, jaraco.classes, jaraco.collections, zc.lockfile, tempora, portend, cheroot, cherrypy, Pattern\n",
            "Successfully installed Pattern-3.6 backports.csv-1.0.7 cheroot-8.5.2 cherrypy-18.6.0 cryptography-3.4.7 feedparser-6.0.2 jaraco.classes-3.2.1 jaraco.collections-3.3.0 jaraco.functools-3.3.0 jaraco.text-3.5.0 mysqlclient-2.0.3 pdfminer.six-20201018 portend-2.7.1 python-docx-0.8.10 sgmllib3k-1.0.0 tempora-4.0.2 zc.lockfile-2.0\n"
          ],
          "name": "stdout"
        }
      ]
    },
    {
      "cell_type": "code",
      "metadata": {
        "id": "yCdJbkfX3w9h"
      },
      "source": [
        "from pattern.en import parse\n",
        "from pattern.en import pprint"
      ],
      "execution_count": null,
      "outputs": []
    },
    {
      "cell_type": "code",
      "metadata": {
        "id": "0I_QDugP46L3"
      },
      "source": [
        "en_parse = parse(en_content,\n",
        "    tokenize=True,\n",
        "    tags=True,relations=True)\n"
      ],
      "execution_count": null,
      "outputs": []
    },
    {
      "cell_type": "code",
      "metadata": {
        "id": "RfhJEprb6UXX"
      },
      "source": [
        "pprint(en_parse)"
      ],
      "execution_count": null,
      "outputs": []
    },
    {
      "cell_type": "markdown",
      "metadata": {
        "id": "j1BWP-Xu6qPK"
      },
      "source": [
        "# Chunking"
      ]
    },
    {
      "cell_type": "code",
      "metadata": {
        "colab": {
          "base_uri": "https://localhost:8080/"
        },
        "id": "6k_kDBa56t6z",
        "outputId": "a35cd48a-3376-486f-c048-40d35b88cfd1"
      },
      "source": [
        "pip install stanfordnlp"
      ],
      "execution_count": null,
      "outputs": [
        {
          "output_type": "stream",
          "text": [
            "Collecting stanfordnlp\n",
            "\u001b[?25l  Downloading https://files.pythonhosted.org/packages/41/bf/5d2898febb6e993fcccd90484cba3c46353658511a41430012e901824e94/stanfordnlp-0.2.0-py3-none-any.whl (158kB)\n",
            "\u001b[K     |████████████████████████████████| 163kB 4.4MB/s \n",
            "\u001b[?25hRequirement already satisfied: protobuf in /usr/local/lib/python3.7/dist-packages (from stanfordnlp) (3.12.4)\n",
            "Requirement already satisfied: numpy in /usr/local/lib/python3.7/dist-packages (from stanfordnlp) (1.19.5)\n",
            "Requirement already satisfied: requests in /usr/local/lib/python3.7/dist-packages (from stanfordnlp) (2.23.0)\n",
            "Requirement already satisfied: torch>=1.0.0 in /usr/local/lib/python3.7/dist-packages (from stanfordnlp) (1.8.1+cu101)\n",
            "Requirement already satisfied: tqdm in /usr/local/lib/python3.7/dist-packages (from stanfordnlp) (4.41.1)\n",
            "Requirement already satisfied: setuptools in /usr/local/lib/python3.7/dist-packages (from protobuf->stanfordnlp) (56.0.0)\n",
            "Requirement already satisfied: six>=1.9 in /usr/local/lib/python3.7/dist-packages (from protobuf->stanfordnlp) (1.15.0)\n",
            "Requirement already satisfied: certifi>=2017.4.17 in /usr/local/lib/python3.7/dist-packages (from requests->stanfordnlp) (2020.12.5)\n",
            "Requirement already satisfied: idna<3,>=2.5 in /usr/local/lib/python3.7/dist-packages (from requests->stanfordnlp) (2.10)\n",
            "Requirement already satisfied: urllib3!=1.25.0,!=1.25.1,<1.26,>=1.21.1 in /usr/local/lib/python3.7/dist-packages (from requests->stanfordnlp) (1.24.3)\n",
            "Requirement already satisfied: chardet<4,>=3.0.2 in /usr/local/lib/python3.7/dist-packages (from requests->stanfordnlp) (3.0.4)\n",
            "Requirement already satisfied: typing-extensions in /usr/local/lib/python3.7/dist-packages (from torch>=1.0.0->stanfordnlp) (3.7.4.3)\n",
            "Installing collected packages: stanfordnlp\n",
            "Successfully installed stanfordnlp-0.2.0\n"
          ],
          "name": "stdout"
        }
      ]
    },
    {
      "cell_type": "code",
      "metadata": {
        "colab": {
          "base_uri": "https://localhost:8080/"
        },
        "id": "yqQaR8Wm-laW",
        "outputId": "62c78380-6d0d-43d8-ad46-f4ae1d2d07a0"
      },
      "source": [
        "import stanfordnlp\n",
        "stanfordnlp.download('en')   # This downloads the English models for the neural pipeline\n",
        "nlp = stanfordnlp.Pipeline()"
      ],
      "execution_count": null,
      "outputs": [
        {
          "output_type": "stream",
          "text": [
            "Using the default treebank \"en_ewt\" for language \"en\".\n",
            "Would you like to download the models for: en_ewt now? (Y/n)\n",
            "Y\n",
            "\n",
            "Default download directory: /root/stanfordnlp_resources\n",
            "Hit enter to continue or type an alternate directory.\n",
            "\n",
            "Downloading models for: en_ewt\n",
            "Download location: /root/stanfordnlp_resources/en_ewt_models.zip\n"
          ],
          "name": "stdout"
        },
        {
          "output_type": "stream",
          "text": [
            "100%|██████████| 235M/235M [00:41<00:00, 5.63MB/s]\n"
          ],
          "name": "stderr"
        },
        {
          "output_type": "stream",
          "text": [
            "\n",
            "Download complete.  Models saved to: /root/stanfordnlp_resources/en_ewt_models.zip\n",
            "Extracting models file for: en_ewt\n",
            "Cleaning up...Done.\n",
            "Use device: cpu\n",
            "---\n",
            "Loading: tokenize\n",
            "With settings: \n",
            "{'model_path': '/root/stanfordnlp_resources/en_ewt_models/en_ewt_tokenizer.pt', 'lang': 'en', 'shorthand': 'en_ewt', 'mode': 'predict'}\n",
            "---\n",
            "Loading: pos\n",
            "With settings: \n",
            "{'model_path': '/root/stanfordnlp_resources/en_ewt_models/en_ewt_tagger.pt', 'pretrain_path': '/root/stanfordnlp_resources/en_ewt_models/en_ewt.pretrain.pt', 'lang': 'en', 'shorthand': 'en_ewt', 'mode': 'predict'}\n",
            "---\n",
            "Loading: lemma\n",
            "With settings: \n",
            "{'model_path': '/root/stanfordnlp_resources/en_ewt_models/en_ewt_lemmatizer.pt', 'lang': 'en', 'shorthand': 'en_ewt', 'mode': 'predict'}\n",
            "Building an attentional Seq2Seq model...\n",
            "Using a Bi-LSTM encoder\n",
            "Using soft attention for LSTM.\n",
            "Finetune all embeddings.\n",
            "[Running seq2seq lemmatizer with edit classifier]\n",
            "---\n",
            "Loading: depparse\n",
            "With settings: \n",
            "{'model_path': '/root/stanfordnlp_resources/en_ewt_models/en_ewt_parser.pt', 'pretrain_path': '/root/stanfordnlp_resources/en_ewt_models/en_ewt.pretrain.pt', 'lang': 'en', 'shorthand': 'en_ewt', 'mode': 'predict'}\n",
            "Done loading processors!\n",
            "---\n",
            "\n"
          ],
          "name": "stdout"
        }
      ]
    }
  ]
}