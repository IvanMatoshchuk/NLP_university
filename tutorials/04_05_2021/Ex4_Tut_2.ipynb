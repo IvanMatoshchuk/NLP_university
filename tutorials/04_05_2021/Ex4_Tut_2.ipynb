{
 "cells": [
  {
   "cell_type": "code",
   "execution_count": 11,
   "metadata": {
    "colab": {
     "base_uri": "https://localhost:8080/"
    },
    "id": "6R6bUXiNcb7I",
    "outputId": "f61bb57a-c2af-4ba2-edbc-1c81defab59b"
   },
   "outputs": [
    {
     "name": "stdout",
     "output_type": "stream",
     "text": [
      "[nltk_data] Downloading package wordnet to /root/nltk_data...\n",
      "[nltk_data]   Unzipping corpora/wordnet.zip.\n"
     ]
    },
    {
     "data": {
      "text/plain": [
       "True"
      ]
     },
     "execution_count": 11,
     "metadata": {
      "tags": []
     },
     "output_type": "execute_result"
    }
   ],
   "source": [
    "from nltk.corpus import wordnet as wn\n",
    "import pandas as pd\n",
    "import nltk\n",
    "nltk.download('wordnet')"
   ]
  },
  {
   "cell_type": "code",
   "execution_count": 8,
   "metadata": {
    "colab": {
     "base_uri": "https://localhost:8080/",
     "height": 419
    },
    "id": "Lv59bxwMfiSW",
    "outputId": "0836a1a7-6e30-442e-914e-d00cae0875fa"
   },
   "outputs": [
    {
     "data": {
      "text/html": [
       "<div>\n",
       "<style scoped>\n",
       "    .dataframe tbody tr th:only-of-type {\n",
       "        vertical-align: middle;\n",
       "    }\n",
       "\n",
       "    .dataframe tbody tr th {\n",
       "        vertical-align: top;\n",
       "    }\n",
       "\n",
       "    .dataframe thead th {\n",
       "        text-align: right;\n",
       "    }\n",
       "</style>\n",
       "<table border=\"1\" class=\"dataframe\">\n",
       "  <thead>\n",
       "    <tr style=\"text-align: right;\">\n",
       "      <th></th>\n",
       "      <th>word1</th>\n",
       "      <th>word2</th>\n",
       "      <th>POS</th>\n",
       "      <th>SimLex999</th>\n",
       "      <th>conc(w1)</th>\n",
       "      <th>conc(w2)</th>\n",
       "      <th>concQ</th>\n",
       "      <th>Assoc(USF)</th>\n",
       "      <th>SimAssoc333</th>\n",
       "      <th>SD(SimLex)\\r</th>\n",
       "    </tr>\n",
       "  </thead>\n",
       "  <tbody>\n",
       "    <tr>\n",
       "      <th>0</th>\n",
       "      <td>old</td>\n",
       "      <td>new</td>\n",
       "      <td>A</td>\n",
       "      <td>1.58</td>\n",
       "      <td>2.72</td>\n",
       "      <td>2.81</td>\n",
       "      <td>2</td>\n",
       "      <td>7.25</td>\n",
       "      <td>1</td>\n",
       "      <td>0.41</td>\n",
       "    </tr>\n",
       "    <tr>\n",
       "      <th>1</th>\n",
       "      <td>smart</td>\n",
       "      <td>intelligent</td>\n",
       "      <td>A</td>\n",
       "      <td>9.20</td>\n",
       "      <td>1.75</td>\n",
       "      <td>2.46</td>\n",
       "      <td>1</td>\n",
       "      <td>7.11</td>\n",
       "      <td>1</td>\n",
       "      <td>0.67</td>\n",
       "    </tr>\n",
       "    <tr>\n",
       "      <th>2</th>\n",
       "      <td>hard</td>\n",
       "      <td>difficult</td>\n",
       "      <td>A</td>\n",
       "      <td>8.77</td>\n",
       "      <td>3.76</td>\n",
       "      <td>2.21</td>\n",
       "      <td>2</td>\n",
       "      <td>5.94</td>\n",
       "      <td>1</td>\n",
       "      <td>1.19</td>\n",
       "    </tr>\n",
       "    <tr>\n",
       "      <th>3</th>\n",
       "      <td>happy</td>\n",
       "      <td>cheerful</td>\n",
       "      <td>A</td>\n",
       "      <td>9.55</td>\n",
       "      <td>2.56</td>\n",
       "      <td>2.34</td>\n",
       "      <td>1</td>\n",
       "      <td>5.85</td>\n",
       "      <td>1</td>\n",
       "      <td>2.18</td>\n",
       "    </tr>\n",
       "    <tr>\n",
       "      <th>4</th>\n",
       "      <td>hard</td>\n",
       "      <td>easy</td>\n",
       "      <td>A</td>\n",
       "      <td>0.95</td>\n",
       "      <td>3.76</td>\n",
       "      <td>2.07</td>\n",
       "      <td>2</td>\n",
       "      <td>5.82</td>\n",
       "      <td>1</td>\n",
       "      <td>0.93</td>\n",
       "    </tr>\n",
       "    <tr>\n",
       "      <th>...</th>\n",
       "      <td>...</td>\n",
       "      <td>...</td>\n",
       "      <td>...</td>\n",
       "      <td>...</td>\n",
       "      <td>...</td>\n",
       "      <td>...</td>\n",
       "      <td>...</td>\n",
       "      <td>...</td>\n",
       "      <td>...</td>\n",
       "      <td>...</td>\n",
       "    </tr>\n",
       "    <tr>\n",
       "      <th>994</th>\n",
       "      <td>join</td>\n",
       "      <td>acquire</td>\n",
       "      <td>V</td>\n",
       "      <td>2.85</td>\n",
       "      <td>2.86</td>\n",
       "      <td>2.93</td>\n",
       "      <td>2</td>\n",
       "      <td>0.00</td>\n",
       "      <td>0</td>\n",
       "      <td>0.99</td>\n",
       "    </tr>\n",
       "    <tr>\n",
       "      <th>995</th>\n",
       "      <td>send</td>\n",
       "      <td>attend</td>\n",
       "      <td>V</td>\n",
       "      <td>1.67</td>\n",
       "      <td>2.70</td>\n",
       "      <td>3.17</td>\n",
       "      <td>2</td>\n",
       "      <td>0.00</td>\n",
       "      <td>0</td>\n",
       "      <td>1.44</td>\n",
       "    </tr>\n",
       "    <tr>\n",
       "      <th>996</th>\n",
       "      <td>gather</td>\n",
       "      <td>attend</td>\n",
       "      <td>V</td>\n",
       "      <td>4.80</td>\n",
       "      <td>2.75</td>\n",
       "      <td>3.17</td>\n",
       "      <td>2</td>\n",
       "      <td>0.00</td>\n",
       "      <td>0</td>\n",
       "      <td>1.97</td>\n",
       "    </tr>\n",
       "    <tr>\n",
       "      <th>997</th>\n",
       "      <td>absorb</td>\n",
       "      <td>withdraw</td>\n",
       "      <td>V</td>\n",
       "      <td>2.97</td>\n",
       "      <td>3.11</td>\n",
       "      <td>3.04</td>\n",
       "      <td>2</td>\n",
       "      <td>0.00</td>\n",
       "      <td>0</td>\n",
       "      <td>1.75</td>\n",
       "    </tr>\n",
       "    <tr>\n",
       "      <th>998</th>\n",
       "      <td>attend</td>\n",
       "      <td>arrive</td>\n",
       "      <td>V</td>\n",
       "      <td>6.08</td>\n",
       "      <td>3.17</td>\n",
       "      <td>3.22</td>\n",
       "      <td>2</td>\n",
       "      <td>0.00</td>\n",
       "      <td>0</td>\n",
       "      <td>1.18</td>\n",
       "    </tr>\n",
       "  </tbody>\n",
       "</table>\n",
       "<p>999 rows × 10 columns</p>\n",
       "</div>"
      ],
      "text/plain": [
       "      word1        word2 POS  ...  Assoc(USF)  SimAssoc333  SD(SimLex)\\r\n",
       "0       old          new   A  ...        7.25            1          0.41\n",
       "1     smart  intelligent   A  ...        7.11            1          0.67\n",
       "2      hard    difficult   A  ...        5.94            1          1.19\n",
       "3     happy     cheerful   A  ...        5.85            1          2.18\n",
       "4      hard         easy   A  ...        5.82            1          0.93\n",
       "..      ...          ...  ..  ...         ...          ...           ...\n",
       "994    join      acquire   V  ...        0.00            0          0.99\n",
       "995    send       attend   V  ...        0.00            0          1.44\n",
       "996  gather       attend   V  ...        0.00            0          1.97\n",
       "997  absorb     withdraw   V  ...        0.00            0          1.75\n",
       "998  attend       arrive   V  ...        0.00            0          1.18\n",
       "\n",
       "[999 rows x 10 columns]"
      ]
     },
     "execution_count": 8,
     "metadata": {
      "tags": []
     },
     "output_type": "execute_result"
    }
   ],
   "source": [
    "simlex=pd.read_csv(\"SimLex-999.txt\",sep='\\t', lineterminator='\\n')\n",
    "simlex"
   ]
  },
  {
   "cell_type": "code",
   "execution_count": null,
   "metadata": {
    "id": "Uz6_CmgKfnD5"
   },
   "outputs": [],
   "source": [
    "from nltk.corpus import genesis\n",
    "genesis_ic = wn.ic(wn, False, 0.0)\n",
    "simlex_score=[]\n",
    "similarity_scores=[]\n",
    "for w1,w2,pos,score in zip(simlex.word1,simlex.word2,simlex.POS,simlex.SimLex999):\n",
    "  pos=pos.lower()\n",
    "  s1=wn.synset(\"{string}.{pos}.01\".format(string=w1,pos=pos))\n",
    "  s2=wn.synset(\"{string}.{pos}.01\".format(string=w2,pos=pos))\n",
    "  print(\"{string}.{pos}.01\".format(string=w1,pos=pos),\"{string}.{pos}.01\".format(string=w2,pos=pos))\n",
    "  try:\n",
    "    p_sim=s1.path_similarity(s2)\n",
    "    lch_sim=s1.lch_similarity(s2)\n",
    "    wup_sim=s1.wup_similarity(s2)\n",
    "    if p_sim==None or lch_sim==None or wup_sim==None:\n",
    "      continue\n",
    "    res_sim=s1.res_similarity(s2,genesis_ic)\n",
    "    jcn_sim=s1.jcn_similarity(s2,genesis_ic)\n",
    "    lin_sim=s1.lin_similarity(s2,genesis_ic)\n",
    "    simlex_score.append(score)\n",
    "    similarity_scores.append([p_sim,lch_sim,wup_sim,res_sim,jcn_sim,lin_sim])\n",
    "  except:\n",
    "    continue  "
   ]
  },
  {
   "cell_type": "code",
   "execution_count": 57,
   "metadata": {
    "colab": {
     "base_uri": "https://localhost:8080/"
    },
    "id": "McBtDQdkmRoS",
    "outputId": "bf3e2134-aa4e-4fba-9d1d-cd9548b413c1"
   },
   "outputs": [
    {
     "name": "stdout",
     "output_type": "stream",
     "text": [
      "path_sim SimLex999 Corr and p-value:  0.19262256064357836 (0.43888786796125767, 4.15584005221031e-43) MAE:  4.329424311010031\n",
      "lch_sim SimLex999 Corr and p-value:  0.18830582119120395 (0.4339421864617497, 4.461004522769442e-42) MAE:  2.7307608155782317\n",
      "wup_sim SimLex999 Corr and p-value:  0.12289237134557768 (0.3505600823618937, 4.491014495455419e-27) MAE:  3.9912323309842326\n",
      "res_sim SimLex999 Corr and p-value:  0.12686572032434446 (0.35618214487021166, 5.915965125482585e-28) MAE:  1.509473744027986\n",
      "jcn_sim SimLex999 Corr and p-value:  0.04728794095090897 (0.2174579061586609, 5.772875634331321e-11) MAE:  -1.5765765765765765e+298\n",
      "lin_sim SimLex999 Corr and p-value:  0.1499743253734016 (0.387265187401865, 3.764942376959388e-33) MAE:  4.196292731019809\n"
     ]
    }
   ],
   "source": [
    "import numpy as np\n",
    "from scipy import stats\n",
    "sim_scores=np.array(similarity_scores)\n",
    "labels=['path_sim','lch_sim','wup_sim','res_sim','jcn_sim','lin_sim']\n",
    "for i in range(sim_scores.shape[1]):\n",
    "  print(labels[i], \"SimLex999 Corr and p-value: \",stats.pearsonr(simlex_score,sim_scores[:,i])[0]**2,stats.pearsonr(simlex_score,sim_scores[:,i]),'MAE: ',np.mean(simlex_score-sim_scores[:,i]),np.mean())"
   ]
  }
 ],
 "metadata": {
  "colab": {
   "name": "Ex2-Tut-2.ipynb",
   "provenance": []
  },
  "kernelspec": {
   "display_name": "Python 3",
   "language": "python",
   "name": "python3"
  },
  "language_info": {
   "codemirror_mode": {
    "name": "ipython",
    "version": 3
   },
   "file_extension": ".py",
   "mimetype": "text/x-python",
   "name": "python",
   "nbconvert_exporter": "python",
   "pygments_lexer": "ipython3",
   "version": "3.7.4"
  }
 },
 "nbformat": 4,
 "nbformat_minor": 4
}
