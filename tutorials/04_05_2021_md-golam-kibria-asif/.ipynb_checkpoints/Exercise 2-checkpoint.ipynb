{
 "cells": [
  {
   "cell_type": "code",
   "execution_count": 1,
   "id": "9a40f2ef",
   "metadata": {},
   "outputs": [],
   "source": [
    "import sys"
   ]
  },
  {
   "cell_type": "code",
   "execution_count": 7,
   "id": "1aa5d857",
   "metadata": {},
   "outputs": [
    {
     "name": "stderr",
     "output_type": "stream",
     "text": [
      "[nltk_data] Downloading package brown to C:\\Users\\Singularity-\n",
      "[nltk_data]     kibria\\AppData\\Roaming\\nltk_data...\n",
      "[nltk_data]   Package brown is already up-to-date!\n",
      "[nltk_data] Downloading package wordnet to C:\\Users\\Singularity-\n",
      "[nltk_data]     kibria\\AppData\\Roaming\\nltk_data...\n",
      "[nltk_data]   Package wordnet is already up-to-date!\n"
     ]
    },
    {
     "data": {
      "text/plain": [
       "True"
      ]
     },
     "execution_count": 7,
     "metadata": {},
     "output_type": "execute_result"
    }
   ],
   "source": [
    "import nltk\n",
    "nltk.download('brown')\n",
    "nltk.download('wordnet')\n"
   ]
  },
  {
   "cell_type": "code",
   "execution_count": 3,
   "id": "9b8447d8",
   "metadata": {},
   "outputs": [],
   "source": [
    "from nltk.corpus import brown\n",
    "from nltk.corpus import wordnet as wn\n",
    "import pandas as pd\n"
   ]
  },
  {
   "cell_type": "code",
   "execution_count": 4,
   "id": "3e79ca4d",
   "metadata": {},
   "outputs": [
    {
     "name": "stdout",
     "output_type": "stream",
     "text": [
      "['adventure', 'belles_lettres', 'editorial', 'fiction', 'government', 'hobbies', 'humor', 'learned', 'lore', 'mystery', 'news', 'religion', 'reviews', 'romance', 'science_fiction']\n"
     ]
    }
   ],
   "source": [
    "print(brown.categories())"
   ]
  },
  {
   "cell_type": "code",
   "execution_count": 5,
   "id": "3b7db6f3",
   "metadata": {},
   "outputs": [],
   "source": [
    "# print(brown.categories())\n",
    "# genres = ['fiction', 'humor', 'romance']\n",
    "# whwords = ['what', 'which', 'how', 'why', 'when', 'where', 'who']\n",
    "# for i in range(0,len(genres)):genre = genres[i]\n",
    "# print()\n",
    "# genre_text = brown.words(categories = genre)\n",
    "# fdist = nltk.FreqDist(genre_text)\n",
    "# for wh in whwords:\n",
    "#     print(wh + ':', fdist[wh], end=' ')"
   ]
  },
  {
   "cell_type": "code",
   "execution_count": 13,
   "id": "3cbc536a",
   "metadata": {},
   "outputs": [],
   "source": [
    "# religion = brown.tagged_words(categories=\"religion\")\n",
    "religion = brown.tagged_sents(categories = 'religion')"
   ]
  },
  {
   "cell_type": "code",
   "execution_count": 14,
   "id": "ad48ce67",
   "metadata": {},
   "outputs": [],
   "source": [
    "# romance = brown.tagged_words(categories=\"romance\")\n",
    "romance = brown.tagged_sents(categories = 'romance')"
   ]
  },
  {
   "cell_type": "code",
   "execution_count": 15,
   "id": "e8502a68",
   "metadata": {},
   "outputs": [],
   "source": [
    "def findMeronyms(word):\n",
    "    count = 0\n",
    "    for item in wn.synsets(word):\n",
    "        count += len(item.part_meronyms())\n",
    "        count += len(item.substance_meronyms())\n",
    "    return count"
   ]
  },
  {
   "cell_type": "code",
   "execution_count": 12,
   "id": "4410c8f8",
   "metadata": {},
   "outputs": [],
   "source": [
    "religionMeronymsCount = 0"
   ]
  },
  {
   "cell_type": "code",
   "execution_count": 16,
   "id": "24857d86",
   "metadata": {},
   "outputs": [],
   "source": [
    "for sentences in religion:\n",
    "    for token in sentences:\n",
    "        religionMeronymsCount += findMeronyms(token[0])"
   ]
  },
  {
   "cell_type": "code",
   "execution_count": 17,
   "id": "af5a20aa",
   "metadata": {},
   "outputs": [
    {
     "data": {
      "text/plain": [
       "43343"
      ]
     },
     "execution_count": 17,
     "metadata": {},
     "output_type": "execute_result"
    }
   ],
   "source": [
    "religionMeronymsCount"
   ]
  },
  {
   "cell_type": "code",
   "execution_count": 18,
   "id": "7e6c46c3",
   "metadata": {},
   "outputs": [],
   "source": [
    "romanceMeronymsCount = 0"
   ]
  },
  {
   "cell_type": "code",
   "execution_count": 19,
   "id": "9e7ab564",
   "metadata": {},
   "outputs": [],
   "source": [
    "for sentences in romance:\n",
    "    for token in sentences:\n",
    "        romanceMeronymsCount += findMeronyms(token[0])\n"
   ]
  },
  {
   "cell_type": "code",
   "execution_count": 20,
   "id": "64f4711b",
   "metadata": {},
   "outputs": [
    {
     "data": {
      "text/plain": [
       "74820"
      ]
     },
     "execution_count": 20,
     "metadata": {},
     "output_type": "execute_result"
    }
   ],
   "source": [
    "romanceMeronymsCount"
   ]
  },
  {
   "cell_type": "code",
   "execution_count": null,
   "id": "06b9a57d",
   "metadata": {},
   "outputs": [],
   "source": []
  }
 ],
 "metadata": {
  "kernelspec": {
   "display_name": "Python 3",
   "language": "python",
   "name": "python3"
  },
  "language_info": {
   "codemirror_mode": {
    "name": "ipython",
    "version": 3
   },
   "file_extension": ".py",
   "mimetype": "text/x-python",
   "name": "python",
   "nbconvert_exporter": "python",
   "pygments_lexer": "ipython3",
   "version": "3.8.8"
  }
 },
 "nbformat": 4,
 "nbformat_minor": 5
}
