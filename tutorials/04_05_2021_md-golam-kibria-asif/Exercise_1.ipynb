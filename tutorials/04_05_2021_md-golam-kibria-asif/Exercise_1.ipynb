{
 "cells": [
  {
   "cell_type": "code",
   "execution_count": 37,
   "id": "53ad79b2",
   "metadata": {},
   "outputs": [],
   "source": [
    "import nltk\n",
    "from nltk.corpus import gutenberg\n",
    "from nltk.text import Text"
   ]
  },
  {
   "cell_type": "code",
   "execution_count": 38,
   "id": "79679761",
   "metadata": {},
   "outputs": [],
   "source": [
    "import sys"
   ]
  },
  {
   "cell_type": "code",
   "execution_count": 39,
   "id": "aa737a8d",
   "metadata": {},
   "outputs": [
    {
     "name": "stderr",
     "output_type": "stream",
     "text": [
      "[nltk_data] Downloading package punkt to C:\\Users\\Singularity-\n",
      "[nltk_data]     kibria\\AppData\\Roaming\\nltk_data...\n",
      "[nltk_data]   Package punkt is already up-to-date!\n"
     ]
    },
    {
     "data": {
      "text/plain": [
       "True"
      ]
     },
     "execution_count": 39,
     "metadata": {},
     "output_type": "execute_result"
    }
   ],
   "source": [
    "import random\n",
    "nltk.download('punkt')"
   ]
  },
  {
   "cell_type": "code",
   "execution_count": 40,
   "id": "714bf496",
   "metadata": {},
   "outputs": [],
   "source": [
    "bible =  gutenberg.words('bible-kjv.txt')"
   ]
  },
  {
   "cell_type": "code",
   "execution_count": 41,
   "id": "86bac426",
   "metadata": {},
   "outputs": [
    {
     "data": {
      "text/plain": [
       "1010654"
      ]
     },
     "execution_count": 41,
     "metadata": {},
     "output_type": "execute_result"
    }
   ],
   "source": [
    "len(bible)"
   ]
  },
  {
   "cell_type": "code",
   "execution_count": 42,
   "id": "b2ce63ab",
   "metadata": {},
   "outputs": [],
   "source": [
    "text = nltk.corpus.gutenberg.raw('bible-kjv.txt')"
   ]
  },
  {
   "cell_type": "code",
   "execution_count": 43,
   "id": "040894e0",
   "metadata": {},
   "outputs": [
    {
     "data": {
      "text/plain": [
       "4332554"
      ]
     },
     "execution_count": 43,
     "metadata": {},
     "output_type": "execute_result"
    }
   ],
   "source": [
    "len(text)"
   ]
  },
  {
   "cell_type": "code",
   "execution_count": 44,
   "id": "001f83fd",
   "metadata": {},
   "outputs": [],
   "source": [
    "NewText = Text(bible)\n",
    "random = random.randint(1,100)"
   ]
  },
  {
   "cell_type": "code",
   "execution_count": 45,
   "id": "ce0600ee",
   "metadata": {},
   "outputs": [
    {
     "name": "stderr",
     "output_type": "stream",
     "text": [
      "Building ngram index...\n"
     ]
    },
    {
     "name": "stdout",
     "output_type": "stream",
     "text": [
      "g o d top of the acts of Zimri , and be ye with me , and of the city is\n",
      "Hebron , and passed over again by ship privately . are fulfilled the\n",
      "law , that I cannot away with them all . burden of the tribe of their\n",
      "lot twelve cities . and five years in Jerusalem . . . priests took up\n",
      "the ark of the blood thereof ; three branches of the priests , shall\n",
      "be divided ; now it is no man laid hands on them which love you , and\n",
      "the air shall carry them into corners\n"
     ]
    }
   ],
   "source": [
    "textgenerated = NewText.generate(length=100, text_seed=\"god\", random_seed=random)"
   ]
  },
  {
   "cell_type": "code",
   "execution_count": 46,
   "id": "8272e0bd",
   "metadata": {},
   "outputs": [
    {
     "name": "stdout",
     "output_type": "stream",
     "text": [
      "l i f e top of the acts of Zimri , and be ye with me , and of the city is\n",
      "Hebron , and passed over again by ship privately . are fulfilled the\n",
      "law , that I cannot away with them all . burden of the tribe of their\n",
      "lot twelve cities . and five years in Jerusalem . . . priests took up\n",
      "the ark of the blood thereof ; three branches of the priests , shall\n",
      "be divided ; now it is no man laid hands on them which love you , and\n",
      "the air shall carry them into corners\n"
     ]
    }
   ],
   "source": [
    "textgenerated2 = NewText.generate(length=50, text_seed=\"life\", random_seed=random)"
   ]
  },
  {
   "cell_type": "code",
   "execution_count": 48,
   "id": "1c801c78",
   "metadata": {},
   "outputs": [
    {
     "name": "stdout",
     "output_type": "stream",
     "text": [
      "f r i e n d s wife , was compelled to bear it after Jesus . house , twenty cubits ,\n",
      "door against door . house\n"
     ]
    }
   ],
   "source": [
    "textgenerated3 = NewText.generate(length=20, text_seed=\"friends\", random_seed=random)"
   ]
  },
  {
   "cell_type": "code",
   "execution_count": null,
   "id": "2d4de93e",
   "metadata": {},
   "outputs": [],
   "source": []
  }
 ],
 "metadata": {
  "kernelspec": {
   "display_name": "Python 3",
   "language": "python",
   "name": "python3"
  },
  "language_info": {
   "codemirror_mode": {
    "name": "ipython",
    "version": 3
   },
   "file_extension": ".py",
   "mimetype": "text/x-python",
   "name": "python",
   "nbconvert_exporter": "python",
   "pygments_lexer": "ipython3",
   "version": "3.8.8"
  }
 },
 "nbformat": 4,
 "nbformat_minor": 5
}
