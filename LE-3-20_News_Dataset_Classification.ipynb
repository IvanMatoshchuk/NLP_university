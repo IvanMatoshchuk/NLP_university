{
  "nbformat": 4,
  "nbformat_minor": 0,
  "metadata": {
    "colab": {
      "name": "20 News Dataset Classification.ipynb",
      "provenance": []
    },
    "kernelspec": {
      "name": "python3",
      "display_name": "Python 3"
    },
    "language_info": {
      "name": "python"
    }
  },
  "cells": [
    {
      "cell_type": "markdown",
      "metadata": {
        "id": "PzmNi8zdLRuU"
      },
      "source": [
        "Import Library, Select catagories, import dataset,"
      ]
    },
    {
      "cell_type": "code",
      "metadata": {
        "id": "uUcg5lIpH8uF"
      },
      "source": [
        "import numpy as np\n",
        "import pandas as pd\n",
        "import matplotlib.pyplot as plt\n",
        "\n",
        "from sklearn.datasets import fetch_20newsgroups\n",
        "from sklearn.decomposition import TruncatedSVD\n",
        "from sklearn.feature_extraction.text import TfidfTransformer, TfidfVectorizer\n",
        "from sklearn.feature_extraction.text import HashingVectorizer, CountVectorizer\n",
        "from sklearn.metrics import accuracy_score, classification_report, confusion_matrix\n",
        "from sklearn.metrics import ConfusionMatrixDisplay\n",
        "\n",
        "categories = [\n",
        "    'alt.atheism',\n",
        "    'talk.religion.misc',\n",
        "    'comp.graphics',\n",
        "    'sci.space'\n",
        "]\n",
        "\n",
        "from sklearn.pipeline import Pipeline, make_pipeline\n",
        "from sklearn.preprocessing import Normalizer\n",
        "\n",
        "from sklearn.linear_model import LogisticRegression\n",
        "from sklearn.naive_bayes import GaussianNB\n",
        "from sklearn.svm import SVC\n",
        "\n",
        "import tensorflow as tf\n",
        "\n",
        "from tensorflow.keras import layers\n",
        "import tensorflow_datasets as tfds"
      ],
      "execution_count": 1,
      "outputs": []
    },
    {
      "cell_type": "code",
      "metadata": {
        "colab": {
          "base_uri": "https://localhost:8080/"
        },
        "id": "W4w6rC71ISh_",
        "outputId": "b71cb9b2-8e6a-4467-dfe3-1d8cbcbcb6f6"
      },
      "source": [
        "data_train = fetch_20newsgroups(subset='train', \n",
        "                                categories=categories, \n",
        "                                shuffle=True, random_state=42)\n",
        "n_components = 5\n",
        "labels = data_train.target\n",
        "true_k = np.unique(labels).shape[0]\n",
        "\n",
        "# Convert to TF-IDF format\n",
        "vectorizer = TfidfVectorizer(max_df=0.5, min_df=2, stop_words='english', use_idf=True)\n",
        "X_train = vectorizer.fit_transform(data_train.data)\n",
        "\n",
        "# Reduce dimensions\n",
        "svd = TruncatedSVD(n_components)\n",
        "normalizer = Normalizer(copy=False)\n",
        "# lsa = make_pipeline(svd, normalizer)\n",
        "\n",
        "# X_train = lsa.fit_transform(X_train)"
      ],
      "execution_count": 2,
      "outputs": [
        {
          "output_type": "stream",
          "text": [
            "Downloading 20news dataset. This may take a few minutes.\n",
            "Downloading dataset from https://ndownloader.figshare.com/files/5975967 (14 MB)\n"
          ],
          "name": "stderr"
        }
      ]
    },
    {
      "cell_type": "code",
      "metadata": {
        "colab": {
          "base_uri": "https://localhost:8080/"
        },
        "id": "h1LONXc0IdRd",
        "outputId": "55ac30c5-5d1e-4c5f-8845-e3e2c7daffb6"
      },
      "source": [
        "len(data_train.data)"
      ],
      "execution_count": 3,
      "outputs": [
        {
          "output_type": "execute_result",
          "data": {
            "text/plain": [
              "2034"
            ]
          },
          "metadata": {
            "tags": []
          },
          "execution_count": 3
        }
      ]
    },
    {
      "cell_type": "code",
      "metadata": {
        "colab": {
          "base_uri": "https://localhost:8080/"
        },
        "id": "Y3mMdUDZIect",
        "outputId": "51f44bbe-acef-41b9-a706-17f2be40d9e7"
      },
      "source": [
        "pd.DataFrame(data_train.target).value_counts()"
      ],
      "execution_count": 4,
      "outputs": [
        {
          "output_type": "execute_result",
          "data": {
            "text/plain": [
              "2    593\n",
              "1    584\n",
              "0    480\n",
              "3    377\n",
              "dtype: int64"
            ]
          },
          "metadata": {
            "tags": []
          },
          "execution_count": 4
        }
      ]
    },
    {
      "cell_type": "code",
      "metadata": {
        "colab": {
          "base_uri": "https://localhost:8080/"
        },
        "id": "-xjGGLGkIhuE",
        "outputId": "dbdd1c57-c0e6-4a84-eca6-f1d313bed8e4"
      },
      "source": [
        "data_test = fetch_20newsgroups(subset='test', \n",
        "                               categories=categories, \n",
        "                               shuffle=True, random_state=42)\n",
        "\n",
        "target_names = data_train.target_names\n",
        "\n",
        "# Split a train set and test set\n",
        "y_train, y_test = data_train.target, data_test.target\n",
        "\n",
        "print(\"Extracting features from the test data using the same vectorizer\")\n",
        "X_test = vectorizer.transform(data_test.data)\n",
        "# X_test = lsa.fit_transform(X_test)"
      ],
      "execution_count": 5,
      "outputs": [
        {
          "output_type": "stream",
          "text": [
            "Extracting features from the test data using the same vectorizer\n"
          ],
          "name": "stdout"
        }
      ]
    },
    {
      "cell_type": "code",
      "metadata": {
        "colab": {
          "base_uri": "https://localhost:8080/"
        },
        "id": "M8IbkFwEIl88",
        "outputId": "1ae16ae0-3150-41fc-f59f-7fe3d73b0271"
      },
      "source": [
        "svm_clf = SVC()\n",
        "svm_clf.fit(X_train.toarray(), y_train)"
      ],
      "execution_count": 6,
      "outputs": [
        {
          "output_type": "execute_result",
          "data": {
            "text/plain": [
              "SVC(C=1.0, break_ties=False, cache_size=200, class_weight=None, coef0=0.0,\n",
              "    decision_function_shape='ovr', degree=3, gamma='scale', kernel='rbf',\n",
              "    max_iter=-1, probability=False, random_state=None, shrinking=True,\n",
              "    tol=0.001, verbose=False)"
            ]
          },
          "metadata": {
            "tags": []
          },
          "execution_count": 6
        }
      ]
    },
    {
      "cell_type": "code",
      "metadata": {
        "colab": {
          "base_uri": "https://localhost:8080/"
        },
        "id": "cdH3vMyzIsoI",
        "outputId": "2e9850d3-fa43-4f47-fb19-329c1070fa7f"
      },
      "source": [
        "svm_pred = svm_clf.predict(X_train.toarray())\n",
        "train_score = accuracy_score(y_train, svm_pred) * 100\n",
        "print(f\"Train accuracy score: {train_score:.2f}%\")\n",
        "\n",
        "svm_pred = svm_clf.predict(X_test.toarray())\n",
        "test_score = accuracy_score(y_test, svm_pred) * 100\n",
        "print(f\"Test accuracy score: {test_score:.2f}%\")"
      ],
      "execution_count": 7,
      "outputs": [
        {
          "output_type": "stream",
          "text": [
            "Train accuracy score: 99.95%\n",
            "Test accuracy score: 88.62%\n"
          ],
          "name": "stdout"
        }
      ]
    },
    {
      "cell_type": "code",
      "metadata": {
        "colab": {
          "base_uri": "https://localhost:8080/",
          "height": 633
        },
        "id": "_M3N7iPvIx_u",
        "outputId": "cd092604-8c30-44b5-fa14-057c356c7b15"
      },
      "source": [
        "svm_pred = svm_clf.predict(X_test.toarray())\n",
        "cm = confusion_matrix(y_test, svm_pred)\n",
        "disp = ConfusionMatrixDisplay(confusion_matrix=cm,\n",
        "                              display_labels=data_train.target_names)\n",
        "\n",
        "\n",
        "# NOTE: Fill all variables here with default values of the plot_confusion_matrix\n",
        "fig, ax = plt.subplots(figsize=(10, 10))\n",
        "disp = disp.plot(xticks_rotation='vertical', ax=ax, cmap='summer')\n",
        "\n",
        "plt.show()"
      ],
      "execution_count": 8,
      "outputs": [
        {
          "output_type": "display_data",
          "data": {
            "image/png": "[encoded data removed]",
            "text/plain": [
              "<Figure size 720x720 with 2 Axes>"
            ]
          },
          "metadata": {
            "tags": [],
            "needs_background": "light"
          }
        }
      ]
    },
    {
      "cell_type": "code",
      "metadata": {
        "id": "ehEh2eoUI1oS"
      },
      "source": [
        ""
      ],
      "execution_count": null,
      "outputs": []
    }
  ]
}