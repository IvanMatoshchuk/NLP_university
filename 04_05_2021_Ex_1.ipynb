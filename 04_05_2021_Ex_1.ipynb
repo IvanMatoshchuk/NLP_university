{
  "nbformat": 4,
  "nbformat_minor": 0,
  "metadata": {
    "colab": {
      "name": "04-05-2021_Ex-1.ipynb",
      "provenance": []
    },
    "kernelspec": {
      "name": "python3",
      "display_name": "Python 3"
    },
    "language_info": {
      "name": "python"
    }
  },
  "cells": [
    {
      "cell_type": "markdown",
      "metadata": {
        "id": "60ip7wd4zD2v"
      },
      "source": [
        "Import Libraries"
      ]
    },
    {
      "cell_type": "code",
      "metadata": {
        "id": "1-ZHaWozyxir"
      },
      "source": [
        "import numpy as np\n",
        "import pandas as pd\n",
        "import re\n",
        "import string\n",
        "import collections\n",
        "import os\n",
        "import nltk\n",
        "from nltk import ngrams"
      ],
      "execution_count": 14,
      "outputs": []
    },
    {
      "cell_type": "markdown",
      "metadata": {
        "id": "nNraWxFkzJWr"
      },
      "source": [
        "Import and Download Gutenburg Corpus"
      ]
    },
    {
      "cell_type": "code",
      "metadata": {
        "colab": {
          "base_uri": "https://localhost:8080/"
        },
        "id": "4VDfqYFVzIsd",
        "outputId": "0f8d0d1b-1404-4074-e1c6-a4e98da5a955"
      },
      "source": [
        "nltk.download('gutenberg')\n",
        "text_raw = nltk.corpus.gutenberg.raw('bible-kjv.txt')\n",
        "text_tokenized = nltk.corpus.gutenberg.words('bible-kjv.txt')\n"
      ],
      "execution_count": 4,
      "outputs": [
        {
          "output_type": "stream",
          "text": [
            "[nltk_data] Downloading package gutenberg to /root/nltk_data...\n",
            "[nltk_data]   Unzipping corpora/gutenberg.zip.\n"
          ],
          "name": "stdout"
        }
      ]
    },
    {
      "cell_type": "code",
      "metadata": {
        "colab": {
          "base_uri": "https://localhost:8080/",
          "height": 105
        },
        "id": "Lr7_mS_mzUGt",
        "outputId": "b79ead50-f665-4f23-cfe7-2063f5cb3161"
      },
      "source": [
        "text_raw[:600]"
      ],
      "execution_count": 7,
      "outputs": [
        {
          "output_type": "execute_result",
          "data": {
            "application/vnd.google.colaboratory.intrinsic+json": {
              "type": "string"
            },
            "text/plain": [
              "'[The King James Bible]\\n\\nThe Old Testament of the King James Bible\\n\\nThe First Book of Moses:  Called Genesis\\n\\n\\n1:1 In the beginning God created the heaven and the earth.\\n\\n1:2 And the earth was without form, and void; and darkness was upon\\nthe face of the deep. And the Spirit of God moved upon the face of the\\nwaters.\\n\\n1:3 And God said, Let there be light: and there was light.\\n\\n1:4 And God saw the light, that it was good: and God divided the light\\nfrom the darkness.\\n\\n1:5 And God called the light Day, and the darkness he called Night.\\nAnd the evening and the morning were the first day.\\n\\n1:6 And Go'"
            ]
          },
          "metadata": {
            "tags": []
          },
          "execution_count": 7
        }
      ]
    },
    {
      "cell_type": "code",
      "metadata": {
        "id": "7hcZdU260GPh"
      },
      "source": [
        "text_raw = re.sub('<.*>','',text_raw)\n",
        "text_raw = re.sub('ENDOFARTICLE.','',text_raw)"
      ],
      "execution_count": 12,
      "outputs": []
    },
    {
      "cell_type": "code",
      "metadata": {
        "id": "v2flBuy_7FSI"
      },
      "source": [
        "punctuationNoPeriod = \"[\" + re.sub(\"\\.\",\"\",string.punctuation) + \"]\"\n",
        "text_raw = re.sub(punctuationNoPeriod, \"\", text_raw)"
      ],
      "execution_count": 15,
      "outputs": []
    },
    {
      "cell_type": "code",
      "metadata": {
        "colab": {
          "base_uri": "https://localhost:8080/",
          "height": 139
        },
        "id": "A3anYW_V7lVw",
        "outputId": "d145ff3c-0872-4795-d0a1-4b0d79933704"
      },
      "source": [
        "text_raw[0:1000]"
      ],
      "execution_count": 16,
      "outputs": [
        {
          "output_type": "execute_result",
          "data": {
            "application/vnd.google.colaboratory.intrinsic+json": {
              "type": "string"
            },
            "text/plain": [
              "'The King James Bible\\n\\nThe Old Testament of the King James Bible\\n\\nThe First Book of Moses  Called Genesis\\n\\n\\n11 In the beginning God created the heaven and the earth\\n\\n12 And the earth was without form and void and darkness was upon\\nthe face of the deep And the Spirit of God moved upon the face of the\\nwaters\\n\\n13 And God said Let there be light and there was light\\n\\n14 And God saw the light that it was good and God divided the light\\nfrom the darkness\\n\\n15 And God called the light Day and the darkness he called Night\\nAnd the evening and the morning were the first day\\n\\n16 And God said Let there be a firmament in the midst of the waters\\nand let it divide the waters from the waters\\n\\n17 And God made the firmament and divided the waters which were\\nunder the firmament from the waters which were above the firmament\\nand it was so\\n\\n18 And God called the firmament Heaven And the evening and the\\nmorning were the second day\\n\\n19 And God said Let the waters under the heaven be gathered together\\nunto one pl'"
            ]
          },
          "metadata": {
            "tags": []
          },
          "execution_count": 16
        }
      ]
    },
    {
      "cell_type": "markdown",
      "metadata": {
        "id": "103eHDO77_m_"
      },
      "source": [
        "Get individual words"
      ]
    },
    {
      "cell_type": "code",
      "metadata": {
        "id": "eCVZPzss74tU"
      },
      "source": [
        "tokenized = text_raw.split()"
      ],
      "execution_count": 17,
      "outputs": []
    },
    {
      "cell_type": "markdown",
      "metadata": {
        "id": "oKhKpiaK8Mcp"
      },
      "source": [
        "Bi-Grams"
      ]
    },
    {
      "cell_type": "code",
      "metadata": {
        "id": "bFN1PFlR8Oos"
      },
      "source": [
        "esBigrams = ngrams(tokenized, 2)"
      ],
      "execution_count": 18,
      "outputs": []
    },
    {
      "cell_type": "code",
      "metadata": {
        "colab": {
          "base_uri": "https://localhost:8080/"
        },
        "id": "C30OQf3n8QI9",
        "outputId": "0b70e4c5-e26f-4cfb-c248-ba6531ac7147"
      },
      "source": [
        "esBigramFreq = collections.Counter(esBigrams)\n",
        "esBigramFreq.most_common(10)"
      ],
      "execution_count": 19,
      "outputs": [
        {
          "output_type": "execute_result",
          "data": {
            "text/plain": [
              "[(('of', 'the'), 11442),\n",
              " (('the', 'LORD'), 5857),\n",
              " (('in', 'the'), 4880),\n",
              " (('and', 'the'), 4044),\n",
              " (('shall', 'be'), 2461),\n",
              " (('And', 'the'), 2220),\n",
              " (('to', 'the'), 2135),\n",
              " (('all', 'the'), 2075),\n",
              " (('unto', 'the'), 2020),\n",
              " (('I', 'will'), 1922)]"
            ]
          },
          "metadata": {
            "tags": []
          },
          "execution_count": 19
        }
      ]
    },
    {
      "cell_type": "code",
      "metadata": {
        "id": "jrysfAx98Vqt"
      },
      "source": [
        ""
      ],
      "execution_count": null,
      "outputs": []
    }
  ]
}