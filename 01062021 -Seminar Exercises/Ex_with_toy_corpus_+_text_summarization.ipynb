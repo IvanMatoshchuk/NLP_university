{
 "cells": [
  {
   "cell_type": "markdown",
   "metadata": {
    "id": "qEbzjxjouEih"
   },
   "source": [
    "### Compute LDA with both gensim and sklearn for the toy_corpus & compare results (also with LSI data)"
   ]
  },
  {
   "cell_type": "markdown",
   "metadata": {
    "id": "W6k2DDPDuEik"
   },
   "source": [
    "#### Gensim LDA"
   ]
  },
  {
   "cell_type": "code",
   "execution_count": null,
   "metadata": {
    "id": "XLvPEJV3uEil"
   },
   "outputs": [],
   "source": [
    "toy_corpus =[\"The fox jumps over the dog\", \n",
    "            \"The fox is very clever and quick\",\n",
    "            \"The dog is slow and lazy\",\n",
    "            \"The cat is smarter than the fox and the dog\",\n",
    "            \"Python is an excellent programming language\",\n",
    "            \"Java and Ruby are other programming languages\",\n",
    "            \"Python and Java are very popular programming languages\",\n",
    "            \"Python programs are smaller than Java programs\"]"
   ]
  },
  {
   "cell_type": "code",
   "execution_count": null,
   "metadata": {
    "id": "TuI76iZ0uEim"
   },
   "outputs": [],
   "source": [
    "def train_lda_model_gensim(corpus, total_topics=2):\n",
    "    norm_corpus = normalize_corpus(corpus)\n",
    "    norm_tokenized_corpus = [word_tokenize(sentence) for sentence in norm_corpus]\n",
    "    dictionary = corpora.Dictionary(norm_tokenized_corpus)\n",
    "    mapped_corpus = [dictionary.doc2bow(text)\n",
    "                     for text in norm_tokenized_corpus]\n",
    "    tfidf = models.TfidfModel(mapped_corpus)\n",
    "    corpus_tfidf = tfidf[mapped_corpus]\n",
    "    lda = models.LdaModel(corpus_tfidf,\n",
    "                          id2word=dictionary,\n",
    "                          iterations=1000,\n",
    "                          num_topics=total_topics)\n",
    "    return lda"
   ]
  },
  {
   "cell_type": "code",
   "execution_count": null,
   "metadata": {
    "id": "L6qTaGPauEim"
   },
   "outputs": [],
   "source": [
    "from nltk import word_tokenize\n",
    "from gensim import corpora, models\n",
    "lda_gensim = train_lda_model_gensim(toy_corpus, total_topics=2)"
   ]
  },
  {
   "cell_type": "code",
   "execution_count": null,
   "metadata": {
    "id": "d0hApcRvuEim"
   },
   "outputs": [],
   "source": [
    "def print_topics_gensim(topic_model, total_topics = 1, weight_threshold=0.0001,\n",
    "                       display_weights=False, num_terms=None):\n",
    "    for index in range(total_topics):\n",
    "        topic = topic_model.show_topic(index)\n",
    "        topic = [(word, round(wt,2))\n",
    "                for word, wt in topic if abs(wt) >= weight_threshold] \n",
    "        if display_weights:\n",
    "            print(\"Topic #\"+str(index+1)+\" with weights\")\n",
    "            print(topic[:num_terms]) if num_terms else topic \n",
    "        else:\n",
    "            print(\"Topic #\"+str(index+1)+\" without weights\")\n",
    "            tw = [term for term, wt in topic]\n",
    "            print(tw[:num_terms]) if num_terms else (tw)\n",
    "        print"
   ]
  },
  {
   "cell_type": "code",
   "execution_count": null,
   "metadata": {
    "id": "BuX_59t5uEin",
    "outputId": "340d4a4a-9f98-4657-a3a5-0b4fcee66c0e"
   },
   "outputs": [
    {
     "name": "stdout",
     "output_type": "stream",
     "text": [
      "Topic #1 with weights\n",
      "[('fox', 0.07), ('jump', 0.07), ('dog', 0.07), ('slow', 0.06), ('ruby', 0.06), ('language', 0.06), ('lazy', 0.06), ('quick', 0.06)]\n",
      "Topic #2 with weights\n",
      "[('programming', 0.07), ('language', 0.07), ('python', 0.07), ('java', 0.07), ('program', 0.07), ('popular', 0.06), ('excellent', 0.06), ('cat', 0.06)]\n"
     ]
    }
   ],
   "source": [
    "print_topics_gensim(topic_model=lda_gensim, total_topics=2, num_terms=8, display_weights=True)"
   ]
  },
  {
   "cell_type": "markdown",
   "metadata": {
    "id": "aHfeqDRruEio"
   },
   "source": [
    "#### Sklearn LDA"
   ]
  },
  {
   "cell_type": "code",
   "execution_count": null,
   "metadata": {
    "id": "2tH9YBiyuEio"
   },
   "outputs": [],
   "source": [
    "from sklearn.feature_extraction.text import CountVectorizer, TfidfVectorizer\n",
    "def build_feature_matrix(documents, feature_type='frequency'):\n",
    "    feature_type = feature_type.lower().strip()\n",
    "    if feature_type == 'binary':\n",
    "        vectorizer = CountVectorizer(binary=True, min_df=1,\n",
    "                                     ngram_range=(1, 1))\n",
    "    elif feature_type == 'frequency':\n",
    "        vectorizer = CountVectorizer(binary=False, min_df=1,\n",
    "                                     ngram_range=(1, 1))\n",
    "    elif feature_type == 'tfidf':\n",
    "        vectorizer = TfidfVectorizer(min_df=1,\n",
    "                                     ngram_range=(1, 1))\n",
    "    else:\n",
    "        raise Exception(\"Wrong feature type entered. Possible values: 'binary', 'frequency', 'tfidf'\")\n",
    "    feature_matrix = vectorizer.fit_transform(documents).astype(float)\n",
    "    return vectorizer, feature_matrix"
   ]
  },
  {
   "cell_type": "code",
   "execution_count": null,
   "metadata": {
    "id": "kqhHn9fYuEio"
   },
   "outputs": [],
   "source": [
    "# get topics with their terms and weights\n",
    "def get_topics_terms_weights(weights, feature_names):\n",
    "    feature_names = np.array(feature_names)\n",
    "    sorted_indices = np.array([list(row[::-1])\n",
    "for row\n",
    "                           in np.argsort(np.abs(weights))])\n",
    "    sorted_weights = np.array([list(wt[index])\n",
    "for wt, index\n",
    "                               in zip(weights,sorted_indices)])\n",
    "    sorted_terms = np.array([list(feature_names[row])\n",
    "                             for row\n",
    "                             in sorted_indices])\n",
    "    topics = [np.vstack((terms.T,\n",
    "                     term_weights.T)).T\n",
    "              for terms, term_weights\n",
    "              in zip(sorted_terms, sorted_weights)]\n",
    "    return topics"
   ]
  },
  {
   "cell_type": "code",
   "execution_count": null,
   "metadata": {
    "id": "Txb5oCReuEip"
   },
   "outputs": [],
   "source": [
    "# print all the topics from a corpus\n",
    "def print_topics_udf(topics, total_topics=1,\n",
    "                     weight_threshold=0.0001,\n",
    "                     display_weights=False,\n",
    "                     num_terms=None):\n",
    "    for index in range(total_topics):\n",
    "        topic = topics[index]\n",
    "        topic = [(term, float(wt))\n",
    "                 for term, wt in topic]\n",
    "        topic = [(word, round(wt,2))\n",
    "                 for word, wt in topic\n",
    "                 if abs(wt) >= weight_threshold]\n",
    "        if display_weights:\n",
    "            print('Topic #'+str(index+1)+' with weights')\n",
    "            print(topic[:num_terms]) if num_terms else topic\n",
    "        else:\n",
    "            print('Topic #'+str(index+1)+' without weights')\n",
    "            tw = [term for term, wt in topic]\n",
    "            print(tw[:num_terms]) if num_terms else tw\n",
    "    print"
   ]
  },
  {
   "cell_type": "code",
   "execution_count": null,
   "metadata": {
    "id": "VdHmir9FuEip"
   },
   "outputs": [],
   "source": [
    "from sklearn.decomposition import LatentDirichletAllocation"
   ]
  },
  {
   "cell_type": "code",
   "execution_count": null,
   "metadata": {
    "id": "LtSl0WQbuEip"
   },
   "outputs": [],
   "source": [
    "# get tf-idf based features\n",
    "norm_corpus = normalize_corpus(toy_corpus)\n",
    "vectorizer, tfidf_matrix = build_feature_matrix(norm_corpus, feature_type='tfidf')"
   ]
  },
  {
   "cell_type": "code",
   "execution_count": null,
   "metadata": {
    "id": "Ghbj9vxTuEip"
   },
   "outputs": [],
   "source": [
    "# build LDA model\n",
    "total_topics = 2\n",
    "lda = LatentDirichletAllocation(n_components=total_topics,\n",
    "                                max_iter=100,\n",
    "                                learning_method='online',\n",
    "                                learning_offset=50.,\n",
    "                                random_state=42)"
   ]
  },
  {
   "cell_type": "code",
   "execution_count": null,
   "metadata": {
    "id": "9hq_Jp0iuEiq",
    "outputId": "e0311d9f-26bc-4266-ab98-663ab926143d"
   },
   "outputs": [
    {
     "data": {
      "text/plain": [
       "LatentDirichletAllocation(learning_method='online', learning_offset=50.0,\n",
       "                          max_iter=100, n_components=2, random_state=42)"
      ]
     },
     "execution_count": 53,
     "metadata": {
      "tags": []
     },
     "output_type": "execute_result"
    }
   ],
   "source": [
    "lda.fit(tfidf_matrix)"
   ]
  },
  {
   "cell_type": "code",
   "execution_count": null,
   "metadata": {
    "id": "Q870pzTauEiq"
   },
   "outputs": [],
   "source": [
    "# get terms and their weights\n",
    "feature_names = vectorizer.get_feature_names()\n",
    "weights = lda.components_"
   ]
  },
  {
   "cell_type": "code",
   "execution_count": null,
   "metadata": {
    "id": "2Rqc5sIkuEiq"
   },
   "outputs": [],
   "source": [
    "# generate topics from their terms and weights\n",
    "topics = get_topics_terms_weights(weights, feature_names)"
   ]
  },
  {
   "cell_type": "code",
   "execution_count": null,
   "metadata": {
    "id": "5v8pp8V8uEiq",
    "outputId": "498b56ce-5295-417b-b800-70c919bb0129"
   },
   "outputs": [
    {
     "name": "stdout",
     "output_type": "stream",
     "text": [
      "Topic #1 with weights\n",
      "[('fox', 1.85), ('dog', 1.54), ('jump', 1.17), ('clever', 1.11), ('quick', 1.11), ('cat', 1.06), ('smart', 1.05), ('excellent', 0.6)]\n",
      "Topic #2 with weights\n",
      "[('programming', 1.73), ('language', 1.73), ('java', 1.61), ('python', 1.58), ('program', 1.29), ('ruby', 1.09), ('slow', 1.08), ('lazy', 1.08)]\n"
     ]
    }
   ],
   "source": [
    "print_topics_udf(topics=topics, total_topics=total_topics, num_terms=8, display_weights=True)"
   ]
  },
  {
   "cell_type": "markdown",
   "metadata": {
    "id": "vFmCh-I9uEir"
   },
   "source": [
    "### Compute a text summarization for selected parts (§s, chapters) of a book from the NLTK corpus (e.g., Moby Dick) with different methods (e.g., Textrank and T5 https://huggingface.co/transformers/model_doc/t5.html) & compare results"
   ]
  },
  {
   "cell_type": "markdown",
   "metadata": {
    "id": "fqovro9_uEir"
   },
   "source": [
    "#### Textrank"
   ]
  },
  {
   "cell_type": "code",
   "execution_count": 5,
   "metadata": {
    "id": "3RmvmyeWuEir",
    "outputId": "d8fbbda8-3ecb-4949-e9b1-18ed26b9c5b7"
   },
   "outputs": [
    {
     "data": {
      "text/plain": [
       "['austen-emma.txt',\n",
       " 'austen-persuasion.txt',\n",
       " 'austen-sense.txt',\n",
       " 'bible-kjv.txt',\n",
       " 'blake-poems.txt',\n",
       " 'bryant-stories.txt',\n",
       " 'burgess-busterbrown.txt',\n",
       " 'carroll-alice.txt',\n",
       " 'chesterton-ball.txt',\n",
       " 'chesterton-brown.txt',\n",
       " 'chesterton-thursday.txt',\n",
       " 'edgeworth-parents.txt',\n",
       " 'melville-moby_dick.txt',\n",
       " 'milton-paradise.txt',\n",
       " 'shakespeare-caesar.txt',\n",
       " 'shakespeare-hamlet.txt',\n",
       " 'shakespeare-macbeth.txt',\n",
       " 'whitman-leaves.txt']"
      ]
     },
     "execution_count": 5,
     "metadata": {},
     "output_type": "execute_result"
    }
   ],
   "source": [
    "import nltk\n",
    "from nltk.corpus import gutenberg\n",
    "nltk.corpus.gutenberg.fileids()"
   ]
  },
  {
   "cell_type": "code",
   "execution_count": null,
   "metadata": {
    "id": "SJEey-ljuEir",
    "outputId": "207a0c90-13d6-4c42-e3e8-96aba1345bcf",
    "scrolled": true
   },
   "outputs": [
    {
     "name": "stdout",
     "output_type": "stream",
     "text": [
      "['THE CLOUD', 'One hot summer morning a little Cloud rose out of the sea and floated lightly and happily across the blue sky .', 'Far below lay the earth , brown , dry , and desolate , from drought .', 'The little Cloud could see the poor people of the earth working and suffering in the hot fields , while she herself floated on the morning breeze , hither and thither , without a care .', '\" Oh , if I could only help the poor people down there !\"', 'she thought .', '\" If I could but make their work easier , or give the hungry ones food , or the thirsty a drink !\"', 'And as the day passed , and the Cloud became larger , this wish to do something for the people of earth was ever greater in her heart .', 'On earth it grew hotter and hotter ; the sun burned down so fiercely that the people were fainting in its rays ; it seemed as if they must die of heat , and yet they were obliged to go on with their work , for they were very poor .', 'Sometimes they stood and looked up at the Cloud , as if they were praying , and saying , \" Ah , if you could help us !\"', '\" I will help you ; I will !\"', 'said the Cloud .', 'And she began to sink softly down toward the earth .', 'But suddenly , as she floated down , she remembered something which had been told her when she was a tiny Cloud - child , in the lap of Mother Ocean : it had been whispered that if the Clouds go too near the earth they die .', 'When she remembered this she held herself from sinking , and swayed here and there on the breeze , thinking ,-- thinking .', 'But at last she stood quite still , and spoke boldly and proudly .', 'She said , \" Men of earth , I will help you , come what may !\"', 'The thought made her suddenly marvellously big and strong and powerful .', 'Never had she dreamed that she could be so big .', 'Like a mighty angel of blessing she stood above the earth , and lifted her head and spread her wings far over the fields and woods .', 'She was so great , so majestic , that men and animals were awe - struck at the sight ; the trees and the grasses bowed before her ; yet all the earth - creatures felt that she meant them well .', '\" Yes , I will help you ,\" cried the Cloud once more .', '\" Take me to yourselves ; I will give my life for you !\"', 'As she said the words a wonderful light glowed from her heart , the sound of thunder rolled through the sky , and a love greater than words can tell filled the Cloud ; down , down , close to the earth she swept , and gave up her life in a blessed , healing shower of rain .', \"That rain was the Cloud ' s great deed ; it was her death , too ; but it was also her glory .\", 'Over the whole country - side , as far as the rain fell , a lovely rainbow sprang its arch , and all the brightest rays of heaven made its colours ; it was the last greeting of a love so great that it sacrificed itself .', 'Soon that , too , was gone , but long , long afterward the men and animals who were saved by the Cloud kept her blessing in their hearts .']\n"
     ]
    }
   ],
   "source": [
    "story = gutenberg.sents('bryant-stories.txt')[53:80]\n",
    "story = [\" \".join(ts) for ts in story]\n",
    "print(story)"
   ]
  },
  {
   "cell_type": "code",
   "execution_count": null,
   "metadata": {
    "id": "crgUjwDRuEis",
    "outputId": "b3776bec-b276-45cd-9547-31b269bc9e36"
   },
   "outputs": [
    {
     "name": "stdout",
     "output_type": "stream",
     "text": [
      "['cloud', 'one hot summer morning little cloud rise sea float lightly happily across blue sky', 'far lie earth brown dry desolate drought', 'little cloud could see poor people earth work suffer hot field float morning breeze hither thither without care', 'oh could help poor people', 'think', 'could make work easy give hungry one food thirsty drink', 'day pass cloud become large wish something people earth ever great heart', 'earth grow hot hot sun burn fiercely people faint ray seem must die heat yet oblige go work poor', 'sometimes stand look cloud pray say ah could help us', 'help', 'say cloud', 'begin sink softly toward earth', 'suddenly float remember something tell tiny cloud child lap mother ocean whisper clouds go near earth die', 'remember hold sink sway breeze thinking think', 'last stand quite still speak boldly proudly', 'say men earth help come may', 'thought make suddenly marvellously big strong powerful', 'never dream could big', 'like mighty angel blessing stand earth lift head spread wing far field wood', 'great majestic man animal awe strike sight tree grass bow yet earth creature feel mean well', 'yes help cry cloud', 'take give life', 'say word wonderful light glow heart sound thunder roll sky love great word tell fill cloud close earth sweep give life blessed heal shower rain', 'rain cloud great deed death also glory', 'whole country side far rain fall lovely rainbow spring arch bright ray heaven make colour last greeting love great sacrifice', 'soon go long long afterward man animal save cloud keep blessing heart']\n",
      "27\n"
     ]
    }
   ],
   "source": [
    "from text_normalizer import normalize_corpus\n",
    "norm_story = normalize_corpus(story)\n",
    "print(norm_story)\n",
    "print(len(norm_story))"
   ]
  },
  {
   "cell_type": "code",
   "execution_count": null,
   "metadata": {
    "id": "XYbAsGwpuEis"
   },
   "outputs": [],
   "source": [
    "from sklearn.feature_extraction.text import CountVectorizer, TfidfVectorizer\n",
    "def build_feature_matrix(documents, feature_type='frequency'):\n",
    "    feature_type = feature_type.lower().strip()\n",
    "    if feature_type == 'binary':\n",
    "        vectorizer = CountVectorizer(binary=True, min_df=1,\n",
    "                                     ngram_range=(1, 1))\n",
    "    elif feature_type == 'frequency':\n",
    "        vectorizer = CountVectorizer(binary=False, min_df=1,\n",
    "                                     ngram_range=(1, 1))\n",
    "    elif feature_type == 'tfidf':\n",
    "        vectorizer = TfidfVectorizer(min_df=1,\n",
    "                                     ngram_range=(1, 1))\n",
    "    else:\n",
    "        raise Exception(\"Wrong feature type entered. Possible values: 'binary', 'frequency', 'tfidf'\")\n",
    "    feature_matrix = vectorizer.fit_transform(documents).astype(float)\n",
    "    return vectorizer, feature_matrix"
   ]
  },
  {
   "cell_type": "code",
   "execution_count": null,
   "metadata": {
    "id": "pHdV3FaluEis"
   },
   "outputs": [],
   "source": [
    "import networkx\n",
    "import numpy as np"
   ]
  },
  {
   "cell_type": "code",
   "execution_count": null,
   "metadata": {
    "id": "NoeoSwfLuEit",
    "outputId": "1e60c3c1-cc2e-4152-9c41-dbe25a60437f"
   },
   "outputs": [
    {
     "name": "stdout",
     "output_type": "stream",
     "text": [
      "[[1.   0.15 0.   0.14 0.   0.   0.   0.17 0.   0.19 0.   0.56 0.   0.14\n",
      "  0.   0.   0.   0.   0.   0.   0.   0.31 0.   0.11 0.22 0.   0.15]\n",
      " [0.15 1.   0.   0.25 0.   0.   0.08 0.03 0.09 0.03 0.   0.08 0.   0.07\n",
      "  0.   0.   0.   0.   0.   0.   0.   0.05 0.   0.06 0.03 0.   0.02]\n",
      " [0.   0.   1.   0.03 0.   0.   0.   0.04 0.03 0.   0.   0.   0.06 0.03\n",
      "  0.   0.   0.06 0.   0.   0.12 0.03 0.   0.   0.02 0.   0.06 0.  ]\n",
      " [0.14 0.25 0.03 1.   0.26 0.   0.11 0.1  0.23 0.07 0.   0.08 0.04 0.09\n",
      "  0.09 0.   0.04 0.   0.07 0.09 0.02 0.04 0.   0.03 0.03 0.   0.02]\n",
      " [0.   0.   0.   0.26 1.   0.   0.1  0.1  0.17 0.2  0.39 0.   0.   0.\n",
      "  0.   0.   0.13 0.   0.15 0.   0.   0.16 0.   0.   0.   0.   0.  ]\n",
      " [0.   0.   0.   0.   0.   1.   0.   0.   0.   0.   0.   0.   0.   0.\n",
      "  0.36 0.   0.   0.   0.   0.   0.   0.   0.   0.   0.   0.   0.  ]\n",
      " [0.   0.08 0.   0.11 0.1  0.   1.   0.   0.06 0.06 0.   0.   0.   0.\n",
      "  0.   0.   0.   0.09 0.09 0.   0.   0.   0.15 0.05 0.   0.05 0.  ]\n",
      " [0.17 0.03 0.04 0.1  0.1  0.   0.   1.   0.07 0.03 0.   0.09 0.05 0.12\n",
      "  0.   0.   0.05 0.   0.   0.03 0.07 0.05 0.   0.12 0.11 0.04 0.09]\n",
      " [0.   0.09 0.03 0.23 0.17 0.   0.06 0.07 1.   0.   0.   0.   0.03 0.11\n",
      "  0.   0.   0.03 0.   0.   0.02 0.07 0.   0.   0.01 0.   0.05 0.05]\n",
      " [0.19 0.03 0.   0.07 0.2  0.   0.06 0.03 0.   1.   0.26 0.33 0.   0.03\n",
      "  0.   0.09 0.18 0.   0.1  0.07 0.   0.16 0.   0.06 0.04 0.   0.03]\n",
      " [0.   0.   0.   0.   0.39 0.   0.   0.   0.   0.26 1.   0.   0.   0.\n",
      "  0.   0.   0.34 0.   0.   0.   0.   0.42 0.   0.   0.   0.   0.  ]\n",
      " [0.56 0.08 0.   0.08 0.   0.   0.   0.09 0.   0.33 0.   1.   0.   0.08\n",
      "  0.   0.   0.3  0.   0.   0.   0.   0.17 0.   0.19 0.12 0.   0.08]\n",
      " [0.   0.   0.06 0.04 0.   0.   0.   0.05 0.03 0.   0.   0.   1.   0.04\n",
      "  0.16 0.   0.07 0.   0.   0.04 0.04 0.   0.   0.03 0.   0.   0.  ]\n",
      " [0.14 0.07 0.03 0.09 0.   0.   0.   0.12 0.11 0.03 0.   0.08 0.04 1.\n",
      "  0.09 0.   0.04 0.09 0.   0.02 0.02 0.04 0.   0.08 0.03 0.   0.07]\n",
      " [0.   0.   0.   0.09 0.   0.36 0.   0.   0.   0.   0.   0.   0.16 0.09\n",
      "  1.   0.   0.   0.   0.   0.   0.   0.   0.   0.   0.   0.   0.  ]\n",
      " [0.   0.   0.   0.   0.   0.   0.   0.   0.   0.09 0.   0.   0.   0.\n",
      "  0.   1.   0.   0.   0.   0.08 0.   0.   0.   0.   0.   0.07 0.  ]\n",
      " [0.   0.   0.06 0.04 0.13 0.   0.   0.05 0.03 0.18 0.34 0.3  0.07 0.04\n",
      "  0.   0.   1.   0.   0.   0.04 0.04 0.14 0.   0.08 0.   0.   0.  ]\n",
      " [0.   0.   0.   0.   0.   0.   0.09 0.   0.   0.   0.   0.   0.   0.09\n",
      "  0.   0.   0.   1.   0.17 0.   0.   0.   0.   0.   0.   0.06 0.  ]\n",
      " [0.   0.   0.   0.07 0.15 0.   0.09 0.   0.   0.1  0.   0.   0.   0.\n",
      "  0.   0.   0.   0.17 1.   0.   0.   0.   0.   0.   0.   0.   0.  ]\n",
      " [0.   0.   0.12 0.09 0.   0.   0.   0.03 0.02 0.07 0.   0.   0.04 0.02\n",
      "  0.   0.08 0.04 0.   0.   1.   0.02 0.   0.   0.02 0.   0.05 0.07]\n",
      " [0.   0.   0.03 0.02 0.   0.   0.   0.07 0.07 0.   0.   0.   0.04 0.02\n",
      "  0.   0.   0.04 0.   0.   0.02 1.   0.   0.   0.04 0.06 0.03 0.12]\n",
      " [0.31 0.05 0.   0.04 0.16 0.   0.   0.05 0.   0.16 0.42 0.17 0.   0.04\n",
      "  0.   0.   0.14 0.   0.   0.   0.   1.   0.   0.03 0.07 0.   0.05]\n",
      " [0.   0.   0.   0.   0.   0.   0.15 0.   0.   0.   0.   0.   0.   0.\n",
      "  0.   0.   0.   0.   0.   0.   0.   0.   1.   0.19 0.   0.   0.  ]\n",
      " [0.11 0.06 0.02 0.03 0.   0.   0.05 0.12 0.01 0.06 0.   0.19 0.03 0.08\n",
      "  0.   0.   0.08 0.   0.   0.02 0.04 0.03 0.19 1.   0.13 0.1  0.06]\n",
      " [0.22 0.03 0.   0.03 0.   0.   0.   0.11 0.   0.04 0.   0.12 0.   0.03\n",
      "  0.   0.   0.   0.   0.   0.   0.06 0.07 0.   0.13 1.   0.12 0.03]\n",
      " [0.   0.   0.06 0.   0.   0.   0.05 0.04 0.05 0.   0.   0.   0.   0.\n",
      "  0.   0.07 0.   0.06 0.   0.05 0.03 0.   0.   0.1  0.12 1.   0.  ]\n",
      " [0.15 0.02 0.   0.02 0.   0.   0.   0.09 0.05 0.03 0.   0.08 0.   0.07\n",
      "  0.   0.   0.   0.   0.   0.07 0.12 0.05 0.   0.06 0.03 0.   1.  ]]\n"
     ]
    }
   ],
   "source": [
    "# define number of sentences in final summary \n",
    "num_sentences = 7\n",
    "# construct weighted document term matrix\n",
    "vec, dt_matrix = build_feature_matrix(norm_story, feature_type='tfidf') \n",
    "# construct the document similarity matrix \n",
    "similarity_matrix = (dt_matrix * dt_matrix.T)\n",
    "# view the document similarity matrix\n",
    "print(np.round(similarity_matrix.todense(), 2))"
   ]
  },
  {
   "cell_type": "code",
   "execution_count": null,
   "metadata": {
    "id": "B4FiBNPduEit",
    "outputId": "b0990f3b-2227-4e06-f8d7-89d13d4d4a40"
   },
   "outputs": [
    {
     "data": {
      "image/png": "[encoded data removed]",
      "text/plain": [
       "<Figure size 432x288 with 1 Axes>"
      ]
     },
     "metadata": {
      "tags": []
     },
     "output_type": "display_data"
    }
   ],
   "source": [
    "# build the similarity graph\n",
    "similarity_graph = networkx.from_scipy_sparse_matrix(similarity_matrix) \n",
    "# view the similarity graph\n",
    "networkx.draw_networkx(similarity_graph)"
   ]
  },
  {
   "cell_type": "code",
   "execution_count": null,
   "metadata": {
    "id": "cCEo9Mv_uEit",
    "outputId": "5167d8ca-68bc-495e-9220-85c491ec0995"
   },
   "outputs": [
    {
     "data": {
      "text/plain": [
       "[(0.04846907437866738, 0),\n",
       " (0.04773432706581962, 11),\n",
       " (0.0472137407242162, 3),\n",
       " (0.04695327795639603, 9),\n",
       " (0.04312146833319229, 4),\n",
       " (0.04206576873439963, 21),\n",
       " (0.04193495171501716, 23),\n",
       " (0.0409018727494599, 16),\n",
       " (0.039757842908499215, 7),\n",
       " (0.03832278193622313, 13),\n",
       " (0.03807478682576005, 10),\n",
       " (0.03652435340290444, 14),\n",
       " (0.03613054469728056, 8),\n",
       " (0.03534657397016055, 6),\n",
       " (0.03459499551267647, 24),\n",
       " (0.03390341177741563, 1),\n",
       " (0.03339292130079897, 25),\n",
       " (0.03332841786046865, 19),\n",
       " (0.033166944103422975, 26),\n",
       " (0.032458160796445604, 5),\n",
       " (0.032151933212533484, 12),\n",
       " (0.03178980569604903, 18),\n",
       " (0.031196491530645205, 20),\n",
       " (0.031100222095787194, 2),\n",
       " (0.03106180032204668, 17),\n",
       " (0.02973762300864629, 15),\n",
       " (0.02956590738506778, 22)]"
      ]
     },
     "execution_count": 57,
     "metadata": {
      "tags": []
     },
     "output_type": "execute_result"
    }
   ],
   "source": [
    "# compute pagerank scores for all the sentences \n",
    "scores = networkx.pagerank(similarity_graph) \n",
    "# rank sentences based on their scores \n",
    "ranked_sentences = sorted(((score, index) for index, score in scores.items()), reverse=True) \n",
    "# view the ranked sentences \n",
    "ranked_sentences"
   ]
  },
  {
   "cell_type": "code",
   "execution_count": null,
   "metadata": {
    "id": "FXTYuz15uEiu",
    "outputId": "d3dcd245-c8f8-403b-ffc4-7d4b05e5d997"
   },
   "outputs": [
    {
     "name": "stdout",
     "output_type": "stream",
     "text": [
      "[0, 3, 4, 9, 11, 21, 23]\n"
     ]
    }
   ],
   "source": [
    "# get the top sentence indices for our summary \n",
    "top_sentence_indices = [ranked_sentences[index][1] for index in range(num_sentences)] \n",
    "top_sentence_indices.sort() \n",
    "# view the top sentence indices \n",
    "print(top_sentence_indices)"
   ]
  },
  {
   "cell_type": "code",
   "execution_count": null,
   "metadata": {
    "id": "CsMdeAHauEiu",
    "outputId": "b6d87016-24d6-4641-cdb4-9ff2a67d090e"
   },
   "outputs": [
    {
     "name": "stdout",
     "output_type": "stream",
     "text": [
      "THE CLOUD\n",
      "The little Cloud could see the poor people of the earth working and suffering in the hot fields , while she herself floated on the morning breeze , hither and thither , without a care .\n",
      "\" Oh , if I could only help the poor people down there !\"\n",
      "Sometimes they stood and looked up at the Cloud , as if they were praying , and saying , \" Ah , if you could help us !\"\n",
      "said the Cloud .\n",
      "\" Yes , I will help you ,\" cried the Cloud once more .\n",
      "As she said the words a wonderful light glowed from her heart , the sound of thunder rolled through the sky , and a love greater than words can tell filled the Cloud ; down , down , close to the earth she swept , and gave up her life in a blessed , healing shower of rain .\n"
     ]
    }
   ],
   "source": [
    "# construct the document summary\n",
    "for index in top_sentence_indices:\n",
    "    print(story[index])"
   ]
  },
  {
   "cell_type": "markdown",
   "metadata": {
    "id": "ijmbMxOmuEiu"
   },
   "source": [
    "#### T5"
   ]
  },
  {
   "cell_type": "code",
   "execution_count": null,
   "metadata": {
    "id": "Q1T8xwybuEiu"
   },
   "outputs": [],
   "source": [
    "import torch\n",
    "from transformers import AutoTokenizer, AutoModelWithLMHead"
   ]
  },
  {
   "cell_type": "code",
   "execution_count": null,
   "metadata": {
    "id": "Pw7z7MTXuEiu",
    "outputId": "2f94f5f6-92eb-4295-cb63-64c25b2c54e5"
   },
   "outputs": [
    {
     "name": "stderr",
     "output_type": "stream",
     "text": [
      "All TF 2.0 model weights were used when initializing T5ForConditionalGeneration.\n",
      "\n",
      "All the weights of T5ForConditionalGeneration were initialized from the TF 2.0 model.\n",
      "If your task is similar to the task the model of the checkpoint was trained on, you can already use T5ForConditionalGeneration for predictions without further training.\n"
     ]
    }
   ],
   "source": [
    "# initialize the tokenizer and model\n",
    "tokenizer = AutoTokenizer.from_pretrained('t5-base')\n",
    "model = AutoModelWithLMHead.from_pretrained('t5-base', return_dict=True, from_tf=True)"
   ]
  },
  {
   "cell_type": "code",
   "execution_count": null,
   "metadata": {
    "id": "o8ttRzCGuEiv"
   },
   "outputs": [],
   "source": [
    "sequence = str(story)"
   ]
  },
  {
   "cell_type": "code",
   "execution_count": null,
   "metadata": {
    "id": "TQ3cmoiEuEiv"
   },
   "outputs": [],
   "source": [
    "inputs = tokenizer.encode(\"summarize: \" + sequence,\n",
    "                          return_tensors='pt',\n",
    "                          max_length=512,\n",
    "                          truncation=True)"
   ]
  },
  {
   "cell_type": "code",
   "execution_count": null,
   "metadata": {
    "id": "yS8rqAFtuEiv"
   },
   "outputs": [],
   "source": [
    "summary_ids = model.generate(inputs, max_length=170, min_length=120, length_penalty=5., num_beams=2)\n",
    "# max_length defines the maximum number of tokens we’d like in our summary\n",
    "# min_length defines the minimum number of tokens we’d like\n",
    "# length_penalty allows us to penalize the model more or less for producing a summary below/above the min/max thresholds we defined\n",
    "# num_beams sets the number of beams that explore the potential tokens for the most promising predictions [1]"
   ]
  },
  {
   "cell_type": "code",
   "execution_count": null,
   "metadata": {
    "id": "3FZz-6bNuEiv"
   },
   "outputs": [],
   "source": [
    "summary = tokenizer.decode(summary_ids[0])"
   ]
  },
  {
   "cell_type": "code",
   "execution_count": null,
   "metadata": {
    "id": "EZS88thIuEiv",
    "outputId": "f972740e-b1fa-4a6c-f935-c6dbc34825c4"
   },
   "outputs": [
    {
     "data": {
      "text/plain": [
       "'<pad> \\'if I could only help the poor people down there!\\', she thought.\\'sometimes they stood and looked up at the Cloud. as they were praying. and saying, \" Ah, if you could help us!\\',\\'said the Cloud. when she remembered this she held herself from sinking. and swayed here and there on the breeze, thinking,-- thinking. but at last she stood quite still. and spoke bold...</s>'"
      ]
     },
     "execution_count": 42,
     "metadata": {
      "tags": []
     },
     "output_type": "execute_result"
    }
   ],
   "source": [
    "summary"
   ]
  },
  {
   "cell_type": "code",
   "execution_count": 35,
   "metadata": {
    "id": "SpnT5d-VuEi0"
   },
   "outputs": [],
   "source": [
    "tfidf_vectorizer = TfidfVectorizer(ngram_range=(1, 2),\n",
    "                                   max_df=0.95, min_df=2,\n",
    "                                   max_features=5000,\n",
    "                                   stop_words='english',\n",
    "                                   #token_pattern='[a-zA-Z0-9]{3,}',\n",
    "                                   #tokenizer=lambda doc: doc,\n",
    "                                   #preprocessor=lambda doc: doc\n",
    "                                  )\n",
    "tfidf = tfidf_vectorizer.fit_transform(norm_corpus)"
   ]
  },
  {
   "cell_type": "code",
   "execution_count": 36,
   "metadata": {},
   "outputs": [
    {
     "data": {
      "text/plain": [
       "(50, 55)"
      ]
     },
     "execution_count": 36,
     "metadata": {},
     "output_type": "execute_result"
    }
   ],
   "source": [
    "tfidf.shape"
   ]
  },
  {
   "cell_type": "code",
   "execution_count": 37,
   "metadata": {},
   "outputs": [],
   "source": [
    "nmf = NMF(n_components=2, random_state=1,\n",
    "          beta_loss='kullback-leibler', solver='mu', max_iter=1000, \n",
    "          alpha=.1, l1_ratio=.5).fit(tfidf)"
   ]
  },
  {
   "cell_type": "code",
   "execution_count": 38,
   "metadata": {},
   "outputs": [
    {
     "name": "stdout",
     "output_type": "stream",
     "text": [
      "\n",
      "Topic 0:\n",
      "stand - 0.19968\n",
      "make - 0.20727\n",
      "goose - 0.25063\n",
      "say duck - 0.25063\n",
      "say goose - 0.25063\n",
      "duck - 0.25063\n",
      "earth - 0.34552\n",
      "help - 0.38605\n",
      "cloud - 0.46366\n",
      "say - 0.69477\n",
      "\n",
      "Topic 1:\n",
      "grain - 0.18318\n",
      "grain wheat - 0.18318\n",
      "plant - 0.27656\n",
      "say little - 0.38718\n",
      "hen - 0.53119\n",
      "little red - 0.53119\n",
      "red - 0.53119\n",
      "red hen - 0.53119\n",
      "little - 0.53955\n",
      "wheat - 0.62748\n"
     ]
    }
   ],
   "source": [
    "tfidf_features = tfidf_vectorizer.get_feature_names()\n",
    "for topic_idx, topic in enumerate(nmf.components_):\n",
    "    print ('\\nTopic {}:'.format(topic_idx))\n",
    "    top_features_ind = topic.argsort()[-10:]\n",
    "    top_features = [tfidf_features[i] for i in top_features_ind]\n",
    "    weights = topic[top_features_ind]\n",
    "    for topic, weight in zip(top_features, weights):\n",
    "        print('{} - {:.5}'.format(topic, weight))"
   ]
  },
  {
   "cell_type": "code",
   "execution_count": null,
   "metadata": {},
   "outputs": [],
   "source": []
  },
  {
   "cell_type": "code",
   "execution_count": null,
   "metadata": {},
   "outputs": [],
   "source": [
    "from wordcloud import WordCloud, STOPWORDS\n",
    "import matplotlib.pyplot as plt\n",
    "stopwords = set(STOPWORDS)\n",
    "\n",
    "def show_wordcloud(data, title = None):\n",
    "    wordcloud = WordCloud(\n",
    "        background_color='white',\n",
    "        stopwords=stopwords,\n",
    "        max_words=200,\n",
    "        max_font_size=40, \n",
    "        scale=3,\n",
    "        random_state=1 # chosen at random by flipping a coin; it was heads\n",
    "    ).generate(str(data))\n",
    "    fig = plt.figure(1, figsize=(8, 8))\n",
    "    plt.axis('off')\n",
    "    if title: \n",
    "        fig.suptitle(title, fontsize=14)\n",
    "        fig.subplots_adjust(top=2.3)\n",
    "    plt.imshow(wordcloud)"
   ]
  }
 ],
 "metadata": {
  "colab": {
   "name": "NLP_Sem_02_06.ipynb",
   "provenance": []
  },
  "kernelspec": {
   "display_name": "Python 3",
   "language": "python",
   "name": "python3"
  },
  "language_info": {
   "codemirror_mode": {
    "name": "ipython",
    "version": 3
   },
   "file_extension": ".py",
   "mimetype": "text/x-python",
   "name": "python",
   "nbconvert_exporter": "python",
   "pygments_lexer": "ipython3",
   "version": "3.8.8"
  }
 },
 "nbformat": 4,
 "nbformat_minor": 1
}
