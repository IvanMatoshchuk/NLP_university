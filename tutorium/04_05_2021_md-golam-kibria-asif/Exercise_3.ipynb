{
 "cells": [
  {
   "cell_type": "code",
   "execution_count": 1,
   "id": "2f89a565",
   "metadata": {},
   "outputs": [],
   "source": [
    "import sys"
   ]
  },
  {
   "cell_type": "code",
   "execution_count": 2,
   "id": "b6f9f0f4",
   "metadata": {},
   "outputs": [
    {
     "name": "stderr",
     "output_type": "stream",
     "text": [
      "[nltk_data] Downloading package brown to C:\\Users\\Singularity-\n",
      "[nltk_data]     kibria\\AppData\\Roaming\\nltk_data...\n",
      "[nltk_data]   Package brown is already up-to-date!\n",
      "[nltk_data] Downloading package wordnet to C:\\Users\\Singularity-\n",
      "[nltk_data]     kibria\\AppData\\Roaming\\nltk_data...\n",
      "[nltk_data]   Package wordnet is already up-to-date!\n"
     ]
    },
    {
     "data": {
      "text/plain": [
       "True"
      ]
     },
     "execution_count": 2,
     "metadata": {},
     "output_type": "execute_result"
    }
   ],
   "source": [
    "import nltk\n",
    "nltk.download('brown')\n",
    "nltk.download('wordnet')"
   ]
  },
  {
   "cell_type": "code",
   "execution_count": 13,
   "id": "62099858",
   "metadata": {},
   "outputs": [],
   "source": [
    "from nltk.corpus import brown\n",
    "from nltk.corpus import wordnet as wn"
   ]
  },
  {
   "cell_type": "code",
   "execution_count": 4,
   "id": "3f9571d4",
   "metadata": {},
   "outputs": [
    {
     "name": "stdout",
     "output_type": "stream",
     "text": [
      "['adventure', 'belles_lettres', 'editorial', 'fiction', 'government', 'hobbies', 'humor', 'learned', 'lore', 'mystery', 'news', 'religion', 'reviews', 'romance', 'science_fiction']\n"
     ]
    }
   ],
   "source": [
    "print(brown.categories())"
   ]
  },
  {
   "cell_type": "code",
   "execution_count": 5,
   "id": "32ae0613",
   "metadata": {},
   "outputs": [],
   "source": [
    "religion = brown.tagged_sents(categories = 'religion')"
   ]
  },
  {
   "cell_type": "code",
   "execution_count": 6,
   "id": "770818fc",
   "metadata": {},
   "outputs": [],
   "source": [
    "romance = brown.tagged_sents(categories = 'romance')"
   ]
  },
  {
   "cell_type": "code",
   "execution_count": 7,
   "id": "26824655",
   "metadata": {},
   "outputs": [],
   "source": [
    "def polysemy(word):\n",
    "    return len(wn.synsets(word))"
   ]
  },
  {
   "cell_type": "code",
   "execution_count": 20,
   "id": "54945ac8",
   "metadata": {},
   "outputs": [],
   "source": [
    "religionPolysemy = []"
   ]
  },
  {
   "cell_type": "code",
   "execution_count": 21,
   "id": "72f5accc",
   "metadata": {},
   "outputs": [],
   "source": [
    "for sentences in religion:\n",
    "    for token in sentences:\n",
    "        religionPolysemy.append(polysemy(token[0]))"
   ]
  },
  {
   "cell_type": "code",
   "execution_count": 22,
   "id": "2e8f66e1",
   "metadata": {},
   "outputs": [
    {
     "name": "stdout",
     "output_type": "stream",
     "text": [
      "Religion: 4.7101449275362315\n"
     ]
    }
   ],
   "source": [
    "print('Religion:', sum(religionPolysemy)/len(religionPolysemy))"
   ]
  },
  {
   "cell_type": "code",
   "execution_count": 23,
   "id": "88c76362",
   "metadata": {},
   "outputs": [],
   "source": [
    "romancePolysemy = []"
   ]
  },
  {
   "cell_type": "code",
   "execution_count": 25,
   "id": "80ac1309",
   "metadata": {},
   "outputs": [],
   "source": [
    "for sentences in romance:\n",
    "    for token in sentences:\n",
    "        romancePolysemy.append(polysemy(token[0]))"
   ]
  },
  {
   "cell_type": "code",
   "execution_count": 26,
   "id": "2f1db59f",
   "metadata": {},
   "outputs": [
    {
     "name": "stdout",
     "output_type": "stream",
     "text": [
      "Romance: 5.20496415412299\n"
     ]
    }
   ],
   "source": [
    "print('Romance:', sum(romancePolysemy)/len(romancePolysemy))"
   ]
  },
  {
   "cell_type": "code",
   "execution_count": null,
   "id": "cde48f20",
   "metadata": {},
   "outputs": [],
   "source": []
  }
 ],
 "metadata": {
  "kernelspec": {
   "display_name": "Python 3",
   "language": "python",
   "name": "python3"
  },
  "language_info": {
   "codemirror_mode": {
    "name": "ipython",
    "version": 3
   },
   "file_extension": ".py",
   "mimetype": "text/x-python",
   "name": "python",
   "nbconvert_exporter": "python",
   "pygments_lexer": "ipython3",
   "version": "3.8.8"
  }
 },
 "nbformat": 4,
 "nbformat_minor": 5
}
