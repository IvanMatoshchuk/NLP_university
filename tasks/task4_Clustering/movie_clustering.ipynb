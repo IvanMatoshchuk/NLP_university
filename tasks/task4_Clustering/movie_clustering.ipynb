{
  "nbformat": 4,
  "nbformat_minor": 0,
  "metadata": {
    "colab": {
      "name": "movie_clustering.ipynb",
      "provenance": [],
      "collapsed_sections": []
    },
    "kernelspec": {
      "name": "python3",
      "display_name": "Python 3"
    },
    "language_info": {
      "name": "python"
    },
    "accelerator": "GPU"
  },
  "cells": [
    {
      "cell_type": "code",
      "metadata": {
        "colab": {
          "base_uri": "https://localhost:8080/"
        },
        "id": "aiEHgYNk9K1U",
        "outputId": "034ae218-5ce3-4f29-e923-231405b847ce"
      },
      "source": [
        "from google.colab import drive\n",
        "drive.mount(\"/content/drive\")\n",
        "\n"
      ],
      "execution_count": null,
      "outputs": [
        {
          "output_type": "stream",
          "text": [
            "Drive already mounted at /content/drive; to attempt to forcibly remount, call drive.mount(\"/content/drive\", force_remount=True).\n"
          ],
          "name": "stdout"
        }
      ]
    },
    {
      "cell_type": "code",
      "metadata": {
        "id": "aytfMt7v9civ"
      },
      "source": [
        "import pandas as pd\n",
        "import numpy as np\n",
        "\n",
        "\n",
        "import os\n",
        "import re\n",
        "import string\n",
        "from tqdm import tqdm\n",
        "\n",
        "import numpy as np\n",
        "import pandas as pd\n",
        "\n",
        "import torch\n",
        "\n",
        "from sklearn.feature_extraction.text import TfidfVectorizer"
      ],
      "execution_count": null,
      "outputs": []
    },
    {
      "cell_type": "code",
      "metadata": {
        "id": "7qH9xbLs94Ij"
      },
      "source": [
        "df_big = pd.read_csv(\"/content/drive/MyDrive/University/wiki_movie_plots_deduped.csv\")\n",
        "df_top_100 = pd.read_csv(\"/content/drive/MyDrive/University/movies.csv\")"
      ],
      "execution_count": null,
      "outputs": []
    },
    {
      "cell_type": "code",
      "metadata": {
        "colab": {
          "base_uri": "https://localhost:8080/",
          "height": 354
        },
        "id": "SMUNzgrs95NR",
        "outputId": "f819c1e6-c451-47a9-bff7-c0cecd9f9d8c"
      },
      "source": [
        "print(df_big.shape)\n",
        "df_big.head()"
      ],
      "execution_count": null,
      "outputs": [
        {
          "output_type": "stream",
          "text": [
            "(34886, 8)\n"
          ],
          "name": "stdout"
        },
        {
          "output_type": "execute_result",
          "data": {
            "text/html": [
              "<div>\n",
              "<style scoped>\n",
              "    .dataframe tbody tr th:only-of-type {\n",
              "        vertical-align: middle;\n",
              "    }\n",
              "\n",
              "    .dataframe tbody tr th {\n",
              "        vertical-align: top;\n",
              "    }\n",
              "\n",
              "    .dataframe thead th {\n",
              "        text-align: right;\n",
              "    }\n",
              "</style>\n",
              "<table border=\"1\" class=\"dataframe\">\n",
              "  <thead>\n",
              "    <tr style=\"text-align: right;\">\n",
              "      <th></th>\n",
              "      <th>Release Year</th>\n",
              "      <th>Title</th>\n",
              "      <th>Origin/Ethnicity</th>\n",
              "      <th>Director</th>\n",
              "      <th>Cast</th>\n",
              "      <th>Genre</th>\n",
              "      <th>Wiki Page</th>\n",
              "      <th>Plot</th>\n",
              "    </tr>\n",
              "  </thead>\n",
              "  <tbody>\n",
              "    <tr>\n",
              "      <th>0</th>\n",
              "      <td>1901</td>\n",
              "      <td>Kansas Saloon Smashers</td>\n",
              "      <td>American</td>\n",
              "      <td>Unknown</td>\n",
              "      <td>NaN</td>\n",
              "      <td>unknown</td>\n",
              "      <td>https://en.wikipedia.org/wiki/Kansas_Saloon_Sm...</td>\n",
              "      <td>A bartender is working at a saloon, serving dr...</td>\n",
              "    </tr>\n",
              "    <tr>\n",
              "      <th>1</th>\n",
              "      <td>1901</td>\n",
              "      <td>Love by the Light of the Moon</td>\n",
              "      <td>American</td>\n",
              "      <td>Unknown</td>\n",
              "      <td>NaN</td>\n",
              "      <td>unknown</td>\n",
              "      <td>https://en.wikipedia.org/wiki/Love_by_the_Ligh...</td>\n",
              "      <td>The moon, painted with a smiling face hangs ov...</td>\n",
              "    </tr>\n",
              "    <tr>\n",
              "      <th>2</th>\n",
              "      <td>1901</td>\n",
              "      <td>The Martyred Presidents</td>\n",
              "      <td>American</td>\n",
              "      <td>Unknown</td>\n",
              "      <td>NaN</td>\n",
              "      <td>unknown</td>\n",
              "      <td>https://en.wikipedia.org/wiki/The_Martyred_Pre...</td>\n",
              "      <td>The film, just over a minute long, is composed...</td>\n",
              "    </tr>\n",
              "    <tr>\n",
              "      <th>3</th>\n",
              "      <td>1901</td>\n",
              "      <td>Terrible Teddy, the Grizzly King</td>\n",
              "      <td>American</td>\n",
              "      <td>Unknown</td>\n",
              "      <td>NaN</td>\n",
              "      <td>unknown</td>\n",
              "      <td>https://en.wikipedia.org/wiki/Terrible_Teddy,_...</td>\n",
              "      <td>Lasting just 61 seconds and consisting of two ...</td>\n",
              "    </tr>\n",
              "    <tr>\n",
              "      <th>4</th>\n",
              "      <td>1902</td>\n",
              "      <td>Jack and the Beanstalk</td>\n",
              "      <td>American</td>\n",
              "      <td>George S. Fleming, Edwin S. Porter</td>\n",
              "      <td>NaN</td>\n",
              "      <td>unknown</td>\n",
              "      <td>https://en.wikipedia.org/wiki/Jack_and_the_Bea...</td>\n",
              "      <td>The earliest known adaptation of the classic f...</td>\n",
              "    </tr>\n",
              "  </tbody>\n",
              "</table>\n",
              "</div>"
            ],
            "text/plain": [
              "   Release Year  ...                                               Plot\n",
              "0          1901  ...  A bartender is working at a saloon, serving dr...\n",
              "1          1901  ...  The moon, painted with a smiling face hangs ov...\n",
              "2          1901  ...  The film, just over a minute long, is composed...\n",
              "3          1901  ...  Lasting just 61 seconds and consisting of two ...\n",
              "4          1902  ...  The earliest known adaptation of the classic f...\n",
              "\n",
              "[5 rows x 8 columns]"
            ]
          },
          "metadata": {
            "tags": []
          },
          "execution_count": 57
        }
      ]
    },
    {
      "cell_type": "code",
      "metadata": {
        "colab": {
          "base_uri": "https://localhost:8080/",
          "height": 287
        },
        "id": "BHhNh0PaB_iJ",
        "outputId": "0ae3a1cd-33c1-4891-eab8-f9c982b2d745"
      },
      "source": [
        "print(df_top_100.shape)\n",
        "df_top_100.head()"
      ],
      "execution_count": null,
      "outputs": [
        {
          "output_type": "stream",
          "text": [
            "(100, 5)\n"
          ],
          "name": "stdout"
        },
        {
          "output_type": "execute_result",
          "data": {
            "text/html": [
              "<div>\n",
              "<style scoped>\n",
              "    .dataframe tbody tr th:only-of-type {\n",
              "        vertical-align: middle;\n",
              "    }\n",
              "\n",
              "    .dataframe tbody tr th {\n",
              "        vertical-align: top;\n",
              "    }\n",
              "\n",
              "    .dataframe thead th {\n",
              "        text-align: right;\n",
              "    }\n",
              "</style>\n",
              "<table border=\"1\" class=\"dataframe\">\n",
              "  <thead>\n",
              "    <tr style=\"text-align: right;\">\n",
              "      <th></th>\n",
              "      <th>rank</th>\n",
              "      <th>title</th>\n",
              "      <th>genre</th>\n",
              "      <th>wiki_plot</th>\n",
              "      <th>imdb_plot</th>\n",
              "    </tr>\n",
              "  </thead>\n",
              "  <tbody>\n",
              "    <tr>\n",
              "      <th>0</th>\n",
              "      <td>0</td>\n",
              "      <td>The Godfather</td>\n",
              "      <td>[u' Crime', u' Drama']</td>\n",
              "      <td>On the day of his only daughter's wedding, Vit...</td>\n",
              "      <td>In late summer 1945, guests are gathered for t...</td>\n",
              "    </tr>\n",
              "    <tr>\n",
              "      <th>1</th>\n",
              "      <td>1</td>\n",
              "      <td>The Shawshank Redemption</td>\n",
              "      <td>[u' Crime', u' Drama']</td>\n",
              "      <td>In 1947, banker Andy Dufresne is convicted of ...</td>\n",
              "      <td>In 1947, Andy Dufresne (Tim Robbins), a banker...</td>\n",
              "    </tr>\n",
              "    <tr>\n",
              "      <th>2</th>\n",
              "      <td>2</td>\n",
              "      <td>Schindler's List</td>\n",
              "      <td>[u' Biography', u' Drama', u' History']</td>\n",
              "      <td>In 1939, the Germans move Polish Jews into the...</td>\n",
              "      <td>The relocation of Polish Jews from surrounding...</td>\n",
              "    </tr>\n",
              "    <tr>\n",
              "      <th>3</th>\n",
              "      <td>3</td>\n",
              "      <td>Raging Bull</td>\n",
              "      <td>[u' Biography', u' Drama', u' Sport']</td>\n",
              "      <td>In a brief scene in 1964, an aging, overweight...</td>\n",
              "      <td>The film opens in 1964, where an older and fat...</td>\n",
              "    </tr>\n",
              "    <tr>\n",
              "      <th>4</th>\n",
              "      <td>4</td>\n",
              "      <td>Casablanca</td>\n",
              "      <td>[u' Drama', u' Romance', u' War']</td>\n",
              "      <td>It is early December 1941. American expatriate...</td>\n",
              "      <td>In the early years of World War II, December 1...</td>\n",
              "    </tr>\n",
              "  </tbody>\n",
              "</table>\n",
              "</div>"
            ],
            "text/plain": [
              "   rank  ...                                          imdb_plot\n",
              "0     0  ...  In late summer 1945, guests are gathered for t...\n",
              "1     1  ...  In 1947, Andy Dufresne (Tim Robbins), a banker...\n",
              "2     2  ...  The relocation of Polish Jews from surrounding...\n",
              "3     3  ...  The film opens in 1964, where an older and fat...\n",
              "4     4  ...  In the early years of World War II, December 1...\n",
              "\n",
              "[5 rows x 5 columns]"
            ]
          },
          "metadata": {
            "tags": []
          },
          "execution_count": 58
        }
      ]
    },
    {
      "cell_type": "code",
      "metadata": {
        "id": "k3wEOK2ACrXu"
      },
      "source": [
        "df = df_top_100"
      ],
      "execution_count": null,
      "outputs": []
    },
    {
      "cell_type": "code",
      "metadata": {
        "id": "RWAt23jx95Ja"
      },
      "source": [
        "# regex-pattern to remove whitespaces\n",
        "\n",
        "\n",
        "def clean_string(text: str) -> str:\n",
        "    \"\"\"\n",
        "    function that cleans string\n",
        "    \n",
        "    deletes punctuations, emoji, leaves 1 whitespace, makes everything lowercase, strips\n",
        "    \n",
        "    \"\"\"\n",
        "    re_whitespace = re.compile(r\"(\\s(?=\\s{1,}))\")\n",
        "    \n",
        "    text = text.translate(str.maketrans(string.punctuation, \" \" * len(string.punctuation))).lower()\n",
        "    text = re_whitespace.sub(r\"\", text)\n",
        "\n",
        "    return text.strip()\n",
        "\n",
        "\n",
        "\n",
        "def find_sim(df, plot_col, title_col, max_features = 10000, threshold = 0.5):\n",
        "\n",
        "    plot = df[plot_col].apply(lambda x: clean_string(x))\n",
        "\n",
        "    tfidf_vec = TfidfVectorizer(stop_words='english', \n",
        "                            binary=True,\n",
        "                            max_features=max_features)\n",
        "    \n",
        "    text_embeddings = tfidf_vec.fit_transform(plot).toarray().astype(np.float32)\n",
        "                  \n",
        "    device = torch.device(\"cuda\" if torch.cuda.is_available() else \"cpu\")\n",
        "    text_tensor = torch.from_numpy(text_embeddings).to(device)\n",
        "\n",
        "    out_preds = []\n",
        "    chunk = 128\n",
        "\n",
        "    for i in tqdm(list(range(0, df.shape[0], chunk)) + [df.shape[0] - chunk]):\n",
        "        \n",
        "        # cosine similarity \n",
        "        arr = text_tensor[i : i + chunk] @ text_tensor.T\n",
        "\n",
        "        indices = torch.nonzero(arr > threshold)\n",
        "\n",
        "        preds = dict()\n",
        "        for k in range(arr.shape[0]):\n",
        "            preds[k] = []\n",
        "\n",
        "        for ind in range(indices.size(0)):\n",
        "            preds[indices[ind, 0].item()].append(indices[ind, 1].item())\n",
        "\n",
        "        out_preds.extend(\n",
        "            [\n",
        "                (df.iloc[k + i].title, df.iloc[v].title.tolist())\n",
        "                for k, v in preds.items()\n",
        "            ]\n",
        "        )\n",
        "    \n",
        "    out_preds = out_preds[: df.shape[0]]\n",
        "    df_pred = pd.DataFrame(out_preds, columns=[\"index\", \"pred\"])\n",
        "    #df.set_index(\"index\")\n",
        "\n",
        "    return df_pred"
      ],
      "execution_count": null,
      "outputs": []
    },
    {
      "cell_type": "code",
      "metadata": {
        "colab": {
          "base_uri": "https://localhost:8080/"
        },
        "id": "2Z8ntAPQ95H3",
        "outputId": "42778759-f6ca-4614-c549-1f44b34911f3"
      },
      "source": [
        "\n",
        "df_pred = find_sim(df_top_100, \"wiki_plot\", \"title\", max_features = 5000, threshold = 0.1)\n"
      ],
      "execution_count": null,
      "outputs": [
        {
          "output_type": "stream",
          "text": [
            "100%|██████████| 2/2 [00:00<00:00, 18.82it/s]\n"
          ],
          "name": "stderr"
        }
      ]
    },
    {
      "cell_type": "code",
      "metadata": {
        "colab": {
          "base_uri": "https://localhost:8080/",
          "height": 417
        },
        "id": "bpg6qOGO95G2",
        "outputId": "138ac627-b998-4140-f41e-3b021ba1bd28"
      },
      "source": [
        "pd.set_option('display.max_colwidth', None)\n",
        "df_pred"
      ],
      "execution_count": null,
      "outputs": [
        {
          "output_type": "execute_result",
          "data": {
            "text/html": [
              "<div>\n",
              "<style scoped>\n",
              "    .dataframe tbody tr th:only-of-type {\n",
              "        vertical-align: middle;\n",
              "    }\n",
              "\n",
              "    .dataframe tbody tr th {\n",
              "        vertical-align: top;\n",
              "    }\n",
              "\n",
              "    .dataframe thead th {\n",
              "        text-align: right;\n",
              "    }\n",
              "</style>\n",
              "<table border=\"1\" class=\"dataframe\">\n",
              "  <thead>\n",
              "    <tr style=\"text-align: right;\">\n",
              "      <th></th>\n",
              "      <th>index</th>\n",
              "      <th>pred</th>\n",
              "    </tr>\n",
              "  </thead>\n",
              "  <tbody>\n",
              "    <tr>\n",
              "      <th>0</th>\n",
              "      <td>The Godfather</td>\n",
              "      <td>[The Godfather, The Godfather: Part II]</td>\n",
              "    </tr>\n",
              "    <tr>\n",
              "      <th>1</th>\n",
              "      <td>The Shawshank Redemption</td>\n",
              "      <td>[The Shawshank Redemption, The Pianist]</td>\n",
              "    </tr>\n",
              "    <tr>\n",
              "      <th>2</th>\n",
              "      <td>Schindler's List</td>\n",
              "      <td>[Schindler's List, The Pianist, All Quiet on the Western Front]</td>\n",
              "    </tr>\n",
              "    <tr>\n",
              "      <th>3</th>\n",
              "      <td>Raging Bull</td>\n",
              "      <td>[Raging Bull, Goodfellas, The Graduate]</td>\n",
              "    </tr>\n",
              "    <tr>\n",
              "      <th>4</th>\n",
              "      <td>Casablanca</td>\n",
              "      <td>[Casablanca, The Godfather: Part II, West Side Story, From Here to Eternity, The Pianist]</td>\n",
              "    </tr>\n",
              "    <tr>\n",
              "      <th>...</th>\n",
              "      <td>...</td>\n",
              "      <td>...</td>\n",
              "    </tr>\n",
              "    <tr>\n",
              "      <th>95</th>\n",
              "      <td>Rebel Without a Cause</td>\n",
              "      <td>[12 Angry Men, Fargo, Double Indemnity, Rebel Without a Cause]</td>\n",
              "    </tr>\n",
              "    <tr>\n",
              "      <th>96</th>\n",
              "      <td>Rear Window</td>\n",
              "      <td>[The Apartment, The Deer Hunter, Nashville, Taxi Driver, Double Indemnity, Rear Window]</td>\n",
              "    </tr>\n",
              "    <tr>\n",
              "      <th>97</th>\n",
              "      <td>The Third Man</td>\n",
              "      <td>[Chinatown, Gladiator, Doctor Zhivago, The Deer Hunter, The French Connection, The Maltese Falcon, Double Indemnity, The Third Man]</td>\n",
              "    </tr>\n",
              "    <tr>\n",
              "      <th>98</th>\n",
              "      <td>North by Northwest</td>\n",
              "      <td>[The Maltese Falcon, North by Northwest]</td>\n",
              "    </tr>\n",
              "    <tr>\n",
              "      <th>99</th>\n",
              "      <td>Yankee Doodle Dandy</td>\n",
              "      <td>[Citizen Kane, The Good, the Bad and the Ugly, Yankee Doodle Dandy]</td>\n",
              "    </tr>\n",
              "  </tbody>\n",
              "</table>\n",
              "<p>100 rows × 2 columns</p>\n",
              "</div>"
            ],
            "text/plain": [
              "                       index                                                                                                                                 pred\n",
              "0              The Godfather                                                                                              [The Godfather, The Godfather: Part II]\n",
              "1   The Shawshank Redemption                                                                                              [The Shawshank Redemption, The Pianist]\n",
              "2           Schindler's List                                                                      [Schindler's List, The Pianist, All Quiet on the Western Front]\n",
              "3                Raging Bull                                                                                              [Raging Bull, Goodfellas, The Graduate]\n",
              "4                 Casablanca                                            [Casablanca, The Godfather: Part II, West Side Story, From Here to Eternity, The Pianist]\n",
              "..                       ...                                                                                                                                  ...\n",
              "95     Rebel Without a Cause                                                                       [12 Angry Men, Fargo, Double Indemnity, Rebel Without a Cause]\n",
              "96               Rear Window                                              [The Apartment, The Deer Hunter, Nashville, Taxi Driver, Double Indemnity, Rear Window]\n",
              "97             The Third Man  [Chinatown, Gladiator, Doctor Zhivago, The Deer Hunter, The French Connection, The Maltese Falcon, Double Indemnity, The Third Man]\n",
              "98        North by Northwest                                                                                             [The Maltese Falcon, North by Northwest]\n",
              "99       Yankee Doodle Dandy                                                                  [Citizen Kane, The Good, the Bad and the Ugly, Yankee Doodle Dandy]\n",
              "\n",
              "[100 rows x 2 columns]"
            ]
          },
          "metadata": {
            "tags": []
          },
          "execution_count": 70
        }
      ]
    },
    {
      "cell_type": "code",
      "metadata": {
        "id": "pvAyensL94_M"
      },
      "source": [
        ""
      ],
      "execution_count": null,
      "outputs": []
    },
    {
      "cell_type": "code",
      "metadata": {
        "id": "ltF5YzilEnDz"
      },
      "source": [
        ""
      ],
      "execution_count": null,
      "outputs": []
    },
    {
      "cell_type": "code",
      "metadata": {
        "id": "XbSMOJRzEnGm"
      },
      "source": [
        ""
      ],
      "execution_count": null,
      "outputs": []
    },
    {
      "cell_type": "code",
      "metadata": {
        "id": "9IrlyR7uEnI5"
      },
      "source": [
        ""
      ],
      "execution_count": null,
      "outputs": []
    },
    {
      "cell_type": "code",
      "metadata": {
        "id": "cPPfY2-jEnL5"
      },
      "source": [
        ""
      ],
      "execution_count": null,
      "outputs": []
    },
    {
      "cell_type": "code",
      "metadata": {
        "id": "YUjqtwr49471"
      },
      "source": [
        ""
      ],
      "execution_count": null,
      "outputs": []
    },
    {
      "cell_type": "code",
      "metadata": {
        "id": "-IdW4eGZ945R"
      },
      "source": [
        ""
      ],
      "execution_count": null,
      "outputs": []
    }
  ]
}