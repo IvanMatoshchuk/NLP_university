{
  "nbformat": 4,
  "nbformat_minor": 0,
  "metadata": {
    "colab": {
      "name": "NLP Simlex W2V Embedding.ipynb",
      "provenance": [],
      "toc_visible": true
    },
    "kernelspec": {
      "display_name": "Python 3",
      "name": "python3"
    },
    "language_info": {
      "name": "python"
    }
  },
  "cells": [
    {
      "cell_type": "code",
      "metadata": {
        "colab": {
          "base_uri": "https://localhost:8080/"
        },
        "id": "Pvql-UGKboum",
        "outputId": "099af55e-ce8b-4983-b963-4bfef3e6ed45"
      },
      "source": [
        "from gensim.models import Word2Vec\n",
        "import pandas as pd\n",
        "import numpy as np\n",
        "from nltk.corpus import brown, movie_reviews, treebank\n",
        "import nltk\n",
        "nltk.download('brown')"
      ],
      "execution_count": null,
      "outputs": [
        {
          "output_type": "stream",
          "text": [
            "[nltk_data] Downloading package brown to /root/nltk_data...\n",
            "[nltk_data]   Package brown is already up-to-date!\n"
          ],
          "name": "stdout"
        },
        {
          "output_type": "execute_result",
          "data": {
            "text/plain": [
              "True"
            ]
          },
          "metadata": {
            "tags": []
          },
          "execution_count": 8
        }
      ]
    },
    {
      "cell_type": "markdown",
      "metadata": {
        "id": "zaEuxDQShjat"
      },
      "source": [
        "## Prepare the word embedding models\n",
        "we use Glove-twitter with 100 dimensions\n",
        "Google news with 300 dimensions\n",
        "and create our own 300 dimensions embedding from the brown corpus"
      ]
    },
    {
      "cell_type": "code",
      "metadata": {
        "id": "DIgG7ysmc3Xw"
      },
      "source": [
        "import gensim.downloader\n",
        "glove_vectors = gensim.downloader.load('glove-twitter-25')\n",
        "gn_vectors = gensim.downloader.load( 'word2vec-google-news-300')\n",
        "brown_vectors = Word2Vec(brown.sents(),size=300, window=10, min_count=1)"
      ],
      "execution_count": null,
      "outputs": []
    },
    {
      "cell_type": "markdown",
      "metadata": {
        "id": "YXXI07mKq9Mj"
      },
      "source": [
        "## Loading the Simlex999 Dataset"
      ]
    },
    {
      "cell_type": "code",
      "metadata": {
        "id": "P9Up_phsnToz"
      },
      "source": [
        "simlex=pd.read_csv(\"SimLex-999.txt\",sep='\\t', lineterminator='\\n')\n"
      ],
      "execution_count": null,
      "outputs": []
    },
    {
      "cell_type": "code",
      "metadata": {
        "colab": {
          "base_uri": "https://localhost:8080/"
        },
        "id": "ChzX2zgLrL5i",
        "outputId": "9e92ec2f-9079-4d4a-adcb-b83fd12e7c6b"
      },
      "source": [
        "simlex_score=[]\n",
        "sim_scores=[]\n",
        "for w1,w2,pos,score in zip(simlex.word1,simlex.word2,simlex.POS,simlex.SimLex999):\n",
        "  try:\n",
        "    glove_sim=glove_vectors.wv[w1].dot(glove_vectors.wv.wv[w2])\n",
        "    gn_sim=gn_vectors.wv[w1].dot(gn_vectors.wv.wv[w2])\n",
        "    brown_sim=brown_vectors.wv[w1].dot(brown_vectors.wv.wv[w2])\n",
        "    simlex_score.append(score)\n",
        "    sim_scores.append([glove_sim,gn_sim,brown_sim])\n",
        "  except KeyError:\n",
        "    print(w1,w2,\" Not in Vocab\")"
      ],
      "execution_count": null,
      "outputs": [
        {
          "output_type": "stream",
          "text": [
            "book bible  Not in Vocab\n",
            "beach reef  Not in Vocab\n",
            "bible hymn  Not in Vocab\n",
            "disorganize organize  Not in Vocab\n"
          ],
          "name": "stdout"
        },
        {
          "output_type": "stream",
          "text": [
            "/usr/local/lib/python3.7/dist-packages/ipykernel_launcher.py:5: DeprecationWarning: Call to deprecated `wv` (Attribute will be removed in 4.0.0, use self instead).\n",
            "  \"\"\"\n",
            "/usr/local/lib/python3.7/dist-packages/ipykernel_launcher.py:6: DeprecationWarning: Call to deprecated `wv` (Attribute will be removed in 4.0.0, use self instead).\n",
            "  \n",
            "/usr/local/lib/python3.7/dist-packages/ipykernel_launcher.py:7: DeprecationWarning: Call to deprecated `wv` (Attribute will be removed in 4.0.0, use self instead).\n",
            "  import sys\n"
          ],
          "name": "stderr"
        }
      ]
    },
    {
      "cell_type": "code",
      "metadata": {
        "colab": {
          "base_uri": "https://localhost:8080/"
        },
        "id": "KRJvxVrrrlhx",
        "outputId": "cd4fbb3f-ef57-430c-ac35-79c28e3a926b"
      },
      "source": [
        "import numpy as np\n",
        "from scipy import stats\n",
        "similarity_scores=np.array(sim_scores)\n",
        "labels=['glove','google-news','brown']\n",
        "for i in range(similarity_scores.shape[1]):\n",
        "  print(labels[i], \"SimLex999 R^2 Corr and p-value: \",stats.pearsonr(simlex_score,similarity_scores[:,i])[0]**2,stats.pearsonr(simlex_score,similarity_scores[:,i]))"
      ],
      "execution_count": null,
      "outputs": [
        {
          "output_type": "stream",
          "text": [
            "glove SimLex999 R^2 Corr and p-value:  0.001640519029816858 (-0.04050332121958467, 0.20176495835407582)\n",
            "google-news SimLex999 R^2 Corr and p-value:  0.1836290075414413 (0.428519553277842, 1.0510952807114453e-45)\n",
            "brown SimLex999 R^2 Corr and p-value:  0.009540221649684892 (-0.09767405822266674, 0.00203895641571623)\n"
          ],
          "name": "stdout"
        }
      ]
    }
  ]
}