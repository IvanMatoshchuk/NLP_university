{
  "nbformat": 4,
  "nbformat_minor": 0,
  "metadata": {
    "colab": {
      "name": "W2v Brown Corpus CLassification.ipynb",
      "provenance": []
    },
    "kernelspec": {
      "name": "python3",
      "display_name": "Python 3"
    },
    "language_info": {
      "name": "python"
    }
  },
  "cells": [
    {
      "cell_type": "code",
      "metadata": {
        "colab": {
          "base_uri": "https://localhost:8080/"
        },
        "id": "P7Eo0V-AWdpr",
        "outputId": "58975f84-6803-412b-b7bf-036400e937a3"
      },
      "source": [
        "from gensim.models import Word2Vec\n",
        "import pandas as pd\n",
        "import numpy as np\n",
        "from nltk.corpus import brown, movie_reviews, treebank\n",
        "import nltk\n",
        "nltk.download('brown')"
      ],
      "execution_count": 1,
      "outputs": [
        {
          "output_type": "stream",
          "text": [
            "[nltk_data] Downloading package brown to /root/nltk_data...\n",
            "[nltk_data]   Unzipping corpora/brown.zip.\n"
          ],
          "name": "stdout"
        },
        {
          "output_type": "execute_result",
          "data": {
            "text/plain": [
              "True"
            ]
          },
          "metadata": {
            "tags": []
          },
          "execution_count": 1
        }
      ]
    },
    {
      "cell_type": "code",
      "metadata": {
        "colab": {
          "base_uri": "https://localhost:8080/"
        },
        "id": "Br8al1OXW0Zy",
        "outputId": "cce7274f-533f-47a4-cb3d-fb664a775f2d"
      },
      "source": [
        "import gensim.downloader\n",
        "gn_model = gensim.downloader.load( 'word2vec-google-news-300')"
      ],
      "execution_count": 10,
      "outputs": [
        {
          "output_type": "stream",
          "text": [
            "[==================================================] 100.0% 1662.8/1662.8MB downloaded\n"
          ],
          "name": "stdout"
        }
      ]
    },
    {
      "cell_type": "code",
      "metadata": {
        "id": "ZobNXLoNr-xL"
      },
      "source": [
        "categories=[\"romance\",\"humor\",\"fiction\",\"science_fiction\",\"religion\",\"news\"]"
      ],
      "execution_count": 28,
      "outputs": []
    },
    {
      "cell_type": "code",
      "metadata": {
        "id": "X55nHYnNsfy5"
      },
      "source": [
        "def generate_paragraph_embeddings(paragraph):\n",
        "  sent_embeddings=[]\n",
        "  for sent in paragraph:\n",
        "    for word in sent:\n",
        "      try:\n",
        "        emb=gn_model.wv[word]\n",
        "        sent_embeddings.append(emb)\n",
        "      except KeyError:\n",
        "        pass\n",
        "  if len(sent_embeddings)==0:\n",
        "    return [],[],False\n",
        "  return np.mean(sent_embeddings,axis=0),np.std(sent_embeddings,axis=0),True"
      ],
      "execution_count": 38,
      "outputs": []
    },
    {
      "cell_type": "code",
      "metadata": {
        "id": "7J6KVgp8vEjx"
      },
      "source": [
        "def generate_data(categories):\n",
        "  data=[]\n",
        "  labels=[]\n",
        "  for idx,category in enumerate(categories):\n",
        "      for p in brown.paras(categories=[category]):\n",
        "        m,s,status=generate_paragraph_embeddings(p)\n",
        "        if not status:\n",
        "          continue\n",
        "        data.append(np.concatenate((m,s)))\n",
        "        labels.append(idx)\n",
        "  return data,labels"
      ],
      "execution_count": 39,
      "outputs": []
    },
    {
      "cell_type": "code",
      "metadata": {
        "colab": {
          "base_uri": "https://localhost:8080/"
        },
        "id": "mMhMmtGEu3E5",
        "outputId": "a6a35010-dd21-45a3-bd8a-41caaf6461fc"
      },
      "source": [
        "data,labels=generate_data(categories)"
      ],
      "execution_count": 40,
      "outputs": [
        {
          "output_type": "stream",
          "text": [
            "/usr/local/lib/python3.7/dist-packages/ipykernel_launcher.py:6: DeprecationWarning: Call to deprecated `wv` (Attribute will be removed in 4.0.0, use self instead).\n",
            "  \n"
          ],
          "name": "stderr"
        }
      ]
    },
    {
      "cell_type": "code",
      "metadata": {
        "id": "E0VHaRJ7yaaY"
      },
      "source": [
        "from sklearn.model_selection import train_test_split\n",
        "from sklearn.metrics import accuracy_score\n",
        "from sklearn.ensemble import RandomForestClassifier\n",
        "from sklearn.neighbors import KNeighborsClassifier\n",
        "import matplotlib.pyplot as plt  \n",
        "from sklearn.metrics import plot_confusion_matrix"
      ],
      "execution_count": 53,
      "outputs": []
    },
    {
      "cell_type": "code",
      "metadata": {
        "colab": {
          "base_uri": "https://localhost:8080/"
        },
        "id": "JOFRoiOpy9Yp",
        "outputId": "b458898b-8519-4639-99cb-7649882e2836"
      },
      "source": [
        "X_train,X_test,y_train,y_test=train_test_split(data,labels,stratify=labels,test_size=.2)\n",
        "rf_clf=RandomForestClassifier(max_depth=11,n_estimators=1000,n_jobs=-1)\n",
        "neigh_clf=KNeighborsClassifier(n_neighbors=7)\n",
        "rf_clf.fit(X_train,y_train)\n",
        "neigh_clf.fit(X_train,y_train)"
      ],
      "execution_count": 57,
      "outputs": [
        {
          "output_type": "execute_result",
          "data": {
            "text/plain": [
              "KNeighborsClassifier(algorithm='auto', leaf_size=30, metric='minkowski',\n",
              "                     metric_params=None, n_jobs=None, n_neighbors=7, p=2,\n",
              "                     weights='uniform')"
            ]
          },
          "metadata": {
            "tags": []
          },
          "execution_count": 57
        }
      ]
    },
    {
      "cell_type": "code",
      "metadata": {
        "colab": {
          "base_uri": "https://localhost:8080/"
        },
        "id": "lD7wUT5n003w",
        "outputId": "e2f70b9e-cc60-45f7-b7ab-5d8e80a7c161"
      },
      "source": [
        "print(\"Random Forest Accuracy: \",accuracy_score(y_test,rf_clf.predict(X_test)))\n",
        "print(\"7-Nearest Neighbhors Accuracy: \",accuracy_score(y_test,neigh_clf.predict(X_test)))"
      ],
      "execution_count": 58,
      "outputs": [
        {
          "output_type": "stream",
          "text": [
            "Random Forest Accuracy:  0.6390154968094804\n",
            "7-Nearest Neighbhors Accuracy:  0.5752051048313582\n"
          ],
          "name": "stdout"
        }
      ]
    },
    {
      "cell_type": "code",
      "metadata": {
        "colab": {
          "base_uri": "https://localhost:8080/",
          "height": 279
        },
        "id": "yf3fgaHZ1PsX",
        "outputId": "d18ab43a-e079-456a-9cfe-98bb2b685932"
      },
      "source": [
        "plot_confusion_matrix(rf_clf, X_test, y_test)  \n",
        "plt.show()  "
      ],
      "execution_count": 59,
      "outputs": [
        {
          "output_type": "display_data",
          "data": {
            "image/png": "[encoded data removed]",
            "text/plain": [
              "<Figure size 432x288 with 2 Axes>"
            ]
          },
          "metadata": {
            "tags": [],
            "needs_background": "light"
          }
        }
      ]
    }
  ]
}